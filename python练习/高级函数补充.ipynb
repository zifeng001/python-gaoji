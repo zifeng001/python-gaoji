{
 "cells": [
  {
   "cell_type": "markdown",
   "metadata": {},
   "source": [
    "# zip\n",
    "- 把两个可迭代的内容生成一个可迭代的tuple元素类型组成的内容"
   ]
  },
  {
   "cell_type": "code",
   "execution_count": 5,
   "metadata": {},
   "outputs": [
    {
     "name": "stdout",
     "output_type": "stream",
     "text": [
      "<class 'zip'>\n",
      "<zip object at 0x0000024CA07B9F08>\n",
      "(1, 11)\n",
      "(2, 22)\n",
      "(3, 33)\n",
      "(4, 44)\n",
      "(5, 55)\n",
      "[]\n"
     ]
    }
   ],
   "source": [
    "# zip案例\n",
    "l1 =[1,2,3,4,5]\n",
    "l2 =[11,22,33,44,55]\n",
    "\n",
    "z = zip(l1,l2)\n",
    "\n",
    "print(type(z))\n",
    "print(z)\n",
    "\n",
    "for i in z:\n",
    "    print(i)\n",
    "    \n",
    "l = [i for i in z]\n",
    "print(l)"
   ]
  },
  {
   "cell_type": "markdown",
   "metadata": {},
   "source": [
    "# enumerate\n",
    "- 对可迭代对象里的每一个元素，配上一个索引，然后索引和内容构成tuple类型"
   ]
  },
  {
   "cell_type": "code",
   "execution_count": 4,
   "metadata": {},
   "outputs": [
    {
     "name": "stdout",
     "output_type": "stream",
     "text": [
      "[(0, 11), (1, 22), (2, 33), (3, 44), (4, 55)]\n"
     ]
    }
   ],
   "source": [
    "l1 = [11,22,33,44,55]\n",
    "\n",
    "em = enumerate(l1)\n",
    "\n",
    "l2 = [i for i in em]\n",
    "print(l2)"
   ]
  },
  {
   "cell_type": "markdown",
   "metadata": {},
   "source": [
    "# collections 模块\n",
    "- namedtuple\n",
    "- deque"
   ]
  },
  {
   "cell_type": "markdown",
   "metadata": {},
   "source": [
    "- namedtuple\n",
    "- tuple 类型\n",
    "- 是一个可以命名的tuple"
   ]
  },
  {
   "cell_type": "code",
   "execution_count": 7,
   "metadata": {},
   "outputs": [
    {
     "name": "stdout",
     "output_type": "stream",
     "text": [
      "11\n",
      "11\n"
     ]
    }
   ],
   "source": [
    "import collections\n",
    "Point = collections.namedtuple('Point', ['x','y'])\n",
    "p = Point(11,22)\n",
    "print(p.x)\n",
    "print(p[0])"
   ]
  },
  {
   "cell_type": "code",
   "execution_count": 8,
   "metadata": {},
   "outputs": [
    {
     "name": "stdout",
     "output_type": "stream",
     "text": [
      "Circle(x=100, y=150, r=50)\n"
     ]
    }
   ],
   "source": [
    "Circle = collections.namedtuple('Circle', ['x','y','r'])\n",
    "c = Circle(100,150,50)\n",
    "print(c)"
   ]
  },
  {
   "cell_type": "markdown",
   "metadata": {},
   "source": [
    "# dequeue\n",
    "- 比较方便的解决了频繁删除和插入带来的效率问题"
   ]
  },
  {
   "cell_type": "code",
   "execution_count": 12,
   "metadata": {},
   "outputs": [
    {
     "name": "stdout",
     "output_type": "stream",
     "text": [
      "deque(['a', 'b', 'c'])\n",
      "deque(['a', 'b', 'c', 'd'])\n",
      "deque(['s', 'a', 'b', 'c', 'd'])\n"
     ]
    }
   ],
   "source": [
    "from collections import deque\n",
    "q = deque(['a', 'b', 'c'])\n",
    "print(q)\n",
    "q.append('d')\n",
    "print(q)\n",
    "q.appendleft('s')\n",
    "print(q)"
   ]
  },
  {
   "cell_type": "markdown",
   "metadata": {},
   "source": [
    "# defaultdict\n",
    "- 当直接读取dict 属性不存在的时候，直接返回默认值"
   ]
  },
  {
   "cell_type": "code",
   "execution_count": 13,
   "metadata": {},
   "outputs": [
    {
     "ename": "SyntaxError",
     "evalue": "unexpected EOF while parsing (<ipython-input-13-b63ae4f3b2e5>, line 3)",
     "output_type": "error",
     "traceback": [
      "\u001b[1;36m  File \u001b[1;32m\"<ipython-input-13-b63ae4f3b2e5>\"\u001b[1;36m, line \u001b[1;32m3\u001b[0m\n\u001b[1;33m    print(d1['four']\u001b[0m\n\u001b[1;37m                    ^\u001b[0m\n\u001b[1;31mSyntaxError\u001b[0m\u001b[1;31m:\u001b[0m unexpected EOF while parsing\n"
     ]
    }
   ],
   "source": [
    "d1 = {'one':1, 'two':2, 'three':3}\n",
    "print(d1['one'])\n",
    "print(d1['four']"
   ]
  },
  {
   "cell_type": "code",
   "execution_count": 16,
   "metadata": {},
   "outputs": [],
   "source": [
    "from collections import defaultdict\n",
    "# lambda表达式直接返回字符串\n",
    "func = lambda:'刘大拿'\n",
    "d2 = defaultdict(func)\n"
   ]
  },
  {
   "cell_type": "markdown",
   "metadata": {},
   "source": [
    "# counter\n",
    "- 统计字符串个数"
   ]
  },
  {
   "cell_type": "code",
   "execution_count": null,
   "metadata": {},
   "outputs": [],
   "source": []
  }
 ],
 "metadata": {
  "kernelspec": {
   "display_name": "Python 3",
   "language": "python",
   "name": "python3"
  },
  "language_info": {
   "codemirror_mode": {
    "name": "ipython",
    "version": 3
   },
   "file_extension": ".py",
   "mimetype": "text/x-python",
   "name": "python",
   "nbconvert_exporter": "python",
   "pygments_lexer": "ipython3",
   "version": "3.7.1"
  }
 },
 "nbformat": 4,
 "nbformat_minor": 2
}
