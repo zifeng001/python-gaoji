{
 "cells": [
  {
   "cell_type": "markdown",
   "metadata": {},
   "source": [
    "# GUI介绍\n",
    "- GUI for Python: Tkinter, wxPython, PyQt\n",
    "- Tkinter\n",
    "    - 绑定的是TK GUI的工具集， 用Python 包装的TCL 代码\n",
    "- PyGTK\n",
    "    - Tkinter的替代品\n",
    "- wxPython\n",
    "    - 跨平台的Python GUI\n",
    "- PyQt\n",
    "    - 跨平台的\n",
    "    - 商业授权可能有问题"
   ]
  },
  {
   "cell_type": "code",
   "execution_count": 1,
   "metadata": {},
   "outputs": [],
   "source": [
    "# 测试tkinter 包是否好用\n",
    "import tkinter\n",
    "\n",
    "tkinter ._test()"
   ]
  },
  {
   "cell_type": "code",
   "execution_count": 5,
   "metadata": {},
   "outputs": [],
   "source": [
    "import tkinter\n",
    "\n",
    "base = tkinter.Tk()\n",
    "\n",
    "base.wm_title('记事本')\n",
    "\n",
    "# 消息循环\n",
    "base.mainloop()"
   ]
  },
  {
   "cell_type": "markdown",
   "metadata": {},
   "source": [
    "## tkinter 常用组件\n",
    "- 按钮\n",
    "    - Button       按钮组件\n",
    "    - RadioButton  单选框组件\n",
    "    - CheckButton  选择按钮组件\n",
    "    - Listbox      列表框组件\n",
    "\n",
    "- 文本输入组件\n",
    "    - Entry        单行文本框组件\n",
    "    - Text         多行文本框组件\n",
    "    \n",
    "- 标签组件\n",
    "    - Label        标签组件，可以显示图片和文字\n",
    "    - Message      标签组件，可以根据内容将文字换行\n",
    "    \n",
    "- 菜单\n",
    "    - Menu         菜单组件\n",
    "    - MenuButton   菜单按钮组件，可以使用Menu代替\n",
    "    \n",
    "- 滚动条\n",
    "    - scale        滑块组件\n",
    "    - scrollbar    滑动条组件\n",
    "    \n",
    "- 其他组件\n",
    "    - Canvas       画布组件\n",
    "    - Frame        框架组件，将多个组件编组\n",
    "    - Toplevel     创建子窗口容器组件"
   ]
  },
  {
   "cell_type": "code",
   "execution_count": 8,
   "metadata": {},
   "outputs": [],
   "source": [
    "# Label 的例子\n",
    "\n",
    "import tkinter\n",
    "base = tkinter.Tk()\n",
    "# 负责大框的标题\n",
    "base.wm_title('Label Test')\n",
    "lb = tkinter.Label(base, text='Python Label')\n",
    "# 给相应组件指定布局\n",
    "lb.pack()\n",
    "\n",
    "base.mainloop()"
   ]
  },
  {
   "cell_type": "markdown",
   "metadata": {},
   "source": [
    "### 组件的大致使用步骤\n",
    "- 1，创建总面板\n",
    "- 2，创建面板上的各种组件\n",
    "    - 指定组件的父组件， 即依附关系\n",
    "    - 利用相应的属性对组件进行设置\n",
    "    - 给组件安排布局\n",
    "- 3，同步骤2相似，创建好多个部件\n",
    "- 4，最后，启动总面板的消息循环\n"
   ]
  },
  {
   "cell_type": "code",
   "execution_count": 3,
   "metadata": {},
   "outputs": [],
   "source": [
    "# label 的例子\n",
    "import tkinter\n",
    "base = tkinter.Tk()\n",
    "base.wm_title('label text')\n",
    "\n",
    "lb1 = tkinter.Label(base, text='Python AI')\n",
    "lb1.pack()\n",
    "\n",
    "lb2 = tkinter.Label(base, text='绿色背景', background='green')\n",
    "lb2.pack()\n",
    "\n",
    "lb3 = tkinter.Label(base, text='蓝色背景', background='blue')\n",
    "lb3.pack()\n",
    "\n",
    "base.mainloop()"
   ]
  },
  {
   "cell_type": "code",
   "execution_count": 10,
   "metadata": {},
   "outputs": [],
   "source": [
    "# Button 案例\n",
    "import tkinter\n",
    "\n",
    "def showLabel():\n",
    "    global baseFrame\n",
    "    lb = tkinter.Label(baseFrame, text='显示Label')\n",
    "    lb.pack()\n",
    "    \n",
    "baseFrame = tkinter.Tk()\n",
    "btn = tkinter.Button(baseFrame, text='小甲鱼', command=showLabel)\n",
    "btn.pack()\n",
    "\n",
    "\n",
    "baseFrame.mainloop()"
   ]
  },
  {
   "cell_type": "markdown",
   "metadata": {},
   "source": [
    "# Button 的属性\n",
    "\n",
    "- anchor          设置按钮中文字的对齐方式，相对于按钮的中心位置\n",
    "- background      设置按钮的背景颜色\n",
    "- foreground      设置按钮的前景色（文字的颜色）\n",
    "- bordewidth      设置按钮边框宽度\n",
    "- cursor          设置鼠标在按钮上的样式\n",
    "- command         设置按钮点击时触发的函数\n",
    "- bitmap          设置按钮上显示的位图\n",
    "- font            设置按钮上文本的字体\n",
    "- width           设置按钮的宽度（字符个数）\n",
    "- height          设置按钮的高度（字符个数）\n",
    "- state           设置按钮的状态\n",
    "- text            设置按钮上的文字\n",
    "- image           设置按钮上的图片"
   ]
  },
  {
   "cell_type": "markdown",
   "metadata": {},
   "source": [
    "## 组件布局\n",
    "- 控制组件的摆放方式\n",
    "- 三种布局\n",
    "    - pack  按照方位布局\n",
    "    - place 按照坐标布局\n",
    "    - grid  网格布局\n",
    "- pack 布局\n",
    "    - 最简单，代码量最小，挨个摆放，默认从上到下，系统自动设置\n",
    "    - 通用使用方式为，组件对象.pack(设置，，，，)\n",
    "- grid 布局\n",
    "    - 通用使用方式为，组件对象.grid(设置，，，，)\n",
    "- place 布局\n",
    "    - "
   ]
  },
  {
   "cell_type": "markdown",
   "metadata": {},
   "source": [
    "# 消息机制\n",
    "- 消息的传递机制\n",
    "    - 自动发出时间/消息\n",
    "    - 消息有系统负责发送到队列\n",
    "    - 由相关组件进行绑定和设置\n",
    "    - 后端自动选择感兴趣的事件并做出相应反应\n",
    "- 消息格式\n",
    "    - <[modifier-]---type-[-detail]>\n",
    "    - <Button-1>: Button 表示一个按钮时间，1代表的是鼠标左键，2代表中键\n",
    "    - <KeyPress-A>：  键盘A键位\n",
    "    - <Control-Shift-KeyPress-A> ： 同时按下Control, Shift, A  三个键位\n",
    "    "
   ]
  },
  {
   "cell_type": "code",
   "execution_count": 3,
   "metadata": {},
   "outputs": [],
   "source": [
    "# 时间的简单案例\n",
    "import tkinter\n",
    "def baseLabel(event):\n",
    "    global baseFrame\n",
    "    lb = tkinter.Label(baseFrame, text='谢谢点击')\n",
    "    lb.pack()\n",
    "\n",
    "\n",
    "baseFrame = tkinter.Tk()\n",
    "lb = tkinter.Label(baseFrame, text='模拟按钮')\n",
    "lb.bind('<Button-1>', baseLabel )\n",
    "lb.pack()\n",
    "\n",
    "\n",
    "baseFrame.mainloop()"
   ]
  },
  {
   "cell_type": "markdown",
   "metadata": {},
   "source": [
    "# # tkinter 的 绑定\n",
    "- bind_all : 全局范围内绑定，默认的是全局快捷键，比如F1是帮助文档\n",
    "- bind_class : 接受3个参数，第一个类名，第二个是事件， 第三个是操作\n",
    "    - w.bind_class('Entry', '<Control-V>', my_paste)\n",
    "- bind: 单独对某一个实例绑定\n",
    "- unbind: 解绑， 需要一个参数， 即你要解绑那个事件\n",
    "    \n",
    " ## Entry\n",
    " - 输入框， 功能单一\n",
    " - entry['show']='*' , 设置遮挡字符"
   ]
  },
  {
   "cell_type": "code",
   "execution_count": 22,
   "metadata": {},
   "outputs": [],
   "source": [
    "# 输入框案例\n",
    "import tkinter\n",
    "def reg():\n",
    "    name = e1.get()\n",
    "    pwd = e2.get()\n",
    "    \n",
    "    t1 = len(name)\n",
    "    t2 = len(pwd)\n",
    "    \n",
    "    if name == '111' and pwd == '222':\n",
    "        lb3['text'] = '登录成功'\n",
    "        \n",
    "    else:\n",
    "        lb3['text'] = '用户名或密码错误，请重重新输入'\n",
    "        e1.delete(0,t1)\n",
    "        e2.delete(0,t2)\n",
    "    \n",
    "\n",
    "    \n",
    "baseFrame = tkinter.Tk()\n",
    "baseFrame.wm_title('测试哈哈哈')\n",
    "\n",
    "lb1 = tkinter.Label(baseFrame, text='用户名')\n",
    "lb1.grid(row=0, column=0, stick=tkinter.W)\n",
    "\n",
    "e1 = tkinter.Entry(baseFrame)\n",
    "e1.grid(row=0, column=1, stick=tkinter.E)\n",
    "\n",
    "lb2 = tkinter.Label(baseFrame, text='密码')\n",
    "lb2.grid(row=1, column=0, stick=tkinter.W)\n",
    "\n",
    "e2 = tkinter.Entry(baseFrame)\n",
    "e2.grid(row=1, column=1,stick=tkinter.E)\n",
    "e2['show']='*'\n",
    "\n",
    "btn = tkinter.Button(baseFrame, text='登录', command=reg)\n",
    "btn.grid(row=2, column=1,stick=tkinter.E)\n",
    "\n",
    "lb3 = tkinter.Label(baseFrame, text='')\n",
    "lb3.grid(row=3, column=1)\n",
    "\n",
    "baseFrame.mainloop()"
   ]
  },
  {
   "cell_type": "markdown",
   "metadata": {},
   "source": [
    "## 菜单\n",
    "- 普通菜单\n",
    "    - 第一个menu类，定义的是parent\n",
    "    - add_command  添加菜单项， 如果菜单是顶层菜单， 则从左往右添加，否则就是下拉菜单\n",
    "        - label:指定菜单名称\n",
    "        - command：点击后调用相应的函数\n",
    "        - acceletor: 快捷键\n",
    "        - underline: 置顶是否菜单信息下有横线\n",
    "        - menu ： 属性制定哪一个作为顶级菜单\n",
    "        \n",
    "            "
   ]
  },
  {
   "cell_type": "code",
   "execution_count": 3,
   "metadata": {},
   "outputs": [],
   "source": [
    "# 普通菜单的代码\n",
    "import tkinter\n",
    "\n",
    "baseFrame = tkinter.Tk()\n",
    "\n",
    "menubar = tkinter.Menu(baseFrame)\n",
    "\n",
    "for item in ['File', 'Edit', 'View', 'Help']:\n",
    "    menubar.add_command(label=item)\n",
    "    \n",
    "baseFrame['menu'] = menubar\n",
    "\n",
    "\n",
    "baseFrame.mainloop()"
   ]
  },
  {
   "cell_type": "markdown",
   "metadata": {},
   "source": [
    "## 级联菜单\n",
    "- add_cascade : 级联菜单，作用是引出后面的菜单\n",
    "- add_cascade 的menu 属性：指明把菜单级联到哪个菜单上\n",
    "- Label ：名称\n",
    "- 过程：\n",
    "    - 建立menu实例\n",
    "    - add_command\n",
    "    - add_cascade"
   ]
  },
  {
   "cell_type": "code",
   "execution_count": 6,
   "metadata": {},
   "outputs": [],
   "source": [
    "import tkinter\n",
    "\n",
    "baseFrame = tkinter.Tk()\n",
    "baseFrame.wm_title('测试')\n",
    "\n",
    "menubar = tkinter.Menu(baseFrame)\n",
    "\n",
    "emenu = tkinter.Menu(menubar)\n",
    "for item in ['Copy', 'Cut', 'Past']:\n",
    "    emenu.add_command(label=item)\n",
    "\n",
    "\n",
    "menubar.add_cascade(label='File')\n",
    "menubar.add_cascade(label='Edit', menu=emenu)\n",
    "menubar.add_cascade(label='Help')\n",
    "\n",
    "baseFrame['menu'] = menubar\n",
    "\n",
    "\n",
    "baseFrame.mainloop()"
   ]
  },
  {
   "cell_type": "markdown",
   "metadata": {},
   "source": [
    "### 弹出式菜单\n",
    "- 弹出菜单也叫上下文菜单\n",
    "- 实现的大致思路\n",
    "    - 建立菜单，并向菜单添加各种功能\n",
    "    - 监听鼠标右键\n",
    "    - 如果右键点击， 则根据位置判断弹出\n",
    "    - 调用Menu 的pop方法\n",
    "- add_separator :添加分隔符"
   ]
  },
  {
   "cell_type": "code",
   "execution_count": 16,
   "metadata": {},
   "outputs": [],
   "source": [
    "import tkinter\n",
    "\n",
    "def makelabel():\n",
    "    global baseFrame\n",
    "    lb = tkinter.Label(baseFrame, text='我用python')\n",
    "    lb.pack()\n",
    "\n",
    "baseFrame = tkinter.Tk()\n",
    "\n",
    "menubar = tkinter.Menu(baseFrame)\n",
    "for item in ['麻辣香锅', '回锅肉', '东坡肘子']:\n",
    "    menubar.add_separator()\n",
    "    menubar.add_command(label=item)\n",
    "    \n",
    "menubar.add_command(label='四川火锅', command=makelabel)\n",
    "\n",
    "def pop(event):\n",
    "    menubar.post(event.x_root, event.y_root)\n",
    "    \n",
    "baseFrame.bind('<Button-3>', pop)\n",
    "    \n",
    "\n",
    "baseFrame.mainloop()"
   ]
  },
  {
   "cell_type": "markdown",
   "metadata": {},
   "source": [
    "## canvas 画布\n",
    "- 画布：可以自由的在上面绘画的小舞台\n",
    "- 在画布上绘制对象， 通常用create_xxxx， xxxx等于对象类型， 例如line , rectange\n",
    "- 画布的作用是把一定的组件画到画布上显现出来\n",
    "- 画布所支持的组件\n",
    "    - arc\n",
    "    - bitmap\n",
    "    - image(BitmapImage, PhoteImage)\n",
    "    - line\n",
    "    - oval\n",
    "    - polygon\n",
    "    - rectange\n",
    "    - text\n",
    "    - window(组件)\n",
    " - 每次调用create_xxx 都会返回一个创建的组件的ID， 同时也可以用tag 属性指定其标签\n",
    " - 通过调用canvas.move 实现一个一次性动作"
   ]
  },
  {
   "cell_type": "code",
   "execution_count": 19,
   "metadata": {},
   "outputs": [],
   "source": [
    "# 简单画布\n",
    "import tkinter\n",
    "\n",
    "baseFrame = tkinter.Tk()\n",
    "\n",
    "cvs = tkinter.Canvas(baseFrame, width=300, height=200)\n",
    "cvs.pack()\n",
    "# 参数的单位是像素\n",
    "cvs.create_line(23,23, 190,230)\n",
    "cvs.create_text(56,56, text='I love python')\n",
    "\n",
    "\n",
    "baseFrame.mainloop()"
   ]
  },
  {
   "cell_type": "code",
   "execution_count": 23,
   "metadata": {},
   "outputs": [],
   "source": [
    "import tkinter \n",
    "\n",
    "baseFrame = tkinter.Tk()\n",
    "\n",
    "def btnClick(event):\n",
    "    global w\n",
    "    w.move(id_ball, 12,5)\n",
    "    w.move('fall', 2,5)\n",
    "\n",
    "\n",
    "\n",
    "w = tkinter.Canvas(baseFrame, width=500, height=400)\n",
    "w.pack()\n",
    "w.bind('<Button-1>', btnClick)\n",
    "\n",
    "id_ball = w.create_oval(20,20, 50,50, fill='green')\n",
    "id_rectangle = w.create_rectangle(56,78, 170,120, fill='yellow')\n",
    "\n",
    "w.create_text(123,56, fill='red', text='I love Python', tag='fall')\n",
    "w.addtag_withtag('fall', id_rectangle)\n",
    "\n",
    "\n",
    "baseFrame.mainloop()"
   ]
  }
 ],
 "metadata": {
  "kernelspec": {
   "display_name": "Python 3",
   "language": "python",
   "name": "python3"
  },
  "language_info": {
   "codemirror_mode": {
    "name": "ipython",
    "version": 3
   },
   "file_extension": ".py",
   "mimetype": "text/x-python",
   "name": "python",
   "nbconvert_exporter": "python",
   "pygments_lexer": "ipython3",
   "version": "3.7.1"
  }
 },
 "nbformat": 4,
 "nbformat_minor": 2
}
