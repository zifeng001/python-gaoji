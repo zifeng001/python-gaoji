{
 "cells": [
  {
   "cell_type": "markdown",
   "metadata": {},
   "source": [
    "### 编写一个计算减法的方法，当第一个数小于第二个数是，抛出被减数不能小于减数的异常"
   ]
  },
  {
   "cell_type": "code",
   "execution_count": 3,
   "metadata": {},
   "outputs": [
    {
     "name": "stdout",
     "output_type": "stream",
     "text": [
      "出错了，内容是 被减数不能小于减数\n"
     ]
    }
   ],
   "source": [
    "def jianfa(a,b):\n",
    "    if a < b:\n",
    "        raise BaseException('被减数不能小于减数')\n",
    "    else:\n",
    "        return a-b\n",
    "    \n",
    "try:\n",
    "    jianfa(3,7)\n",
    "except BaseException as e:\n",
    "    print('出错了，内容是 {}'.format(e))"
   ]
  },
  {
   "cell_type": "markdown",
   "metadata": {},
   "source": [
    "#### 定义一个函数func, filename文件的路径，函数功能，打开文件，并且返回文件内容，最后关闭，用异常来处理可能发生的错误"
   ]
  },
  {
   "cell_type": "code",
   "execution_count": 4,
   "metadata": {},
   "outputs": [
    {
     "name": "stdout",
     "output_type": "stream",
     "text": [
      "这是一个文件哈哈哈\n"
     ]
    }
   ],
   "source": [
    "import os\n",
    "def func(filename):\n",
    "    try:\n",
    "        file = open(filename)\n",
    "    except Exception as error:\n",
    "        print('出错的内容是{}'.format(error))\n",
    "    else:\n",
    "        print(file.read())\n",
    "        file.close()\n",
    "        \n",
    "func('hahaha.txt')"
   ]
  },
  {
   "cell_type": "markdown",
   "metadata": {},
   "source": [
    "### 自己定义一个异常类，继承Exception类，捕获下面的过程，判断输入的字符串长度是否小于5"
   ]
  },
  {
   "cell_type": "code",
   "execution_count": 7,
   "metadata": {},
   "outputs": [
    {
     "name": "stdout",
     "output_type": "stream",
     "text": [
      "算你聪明\n"
     ]
    }
   ],
   "source": [
    "class MyError():\n",
    "    def __init__(self, str1):\n",
    "        self.str1 = str1\n",
    "    \n",
    "    def process(self):\n",
    "        if len(self.str1) < 5:\n",
    "            print('字符串的长度必须大于5')\n",
    "        else:\n",
    "            print('算你聪明')\n",
    "            \n",
    "try:\n",
    "    er = MyError('hhdsfsh')\n",
    "    er.process()\n",
    "except Exception as e:\n",
    "    print(e)"
   ]
  },
  {
   "cell_type": "markdown",
   "metadata": {},
   "source": [
    "### 写一个6位随机验证码程序（使用random模块），要求验证码中至少包含一个数字，一个小写字母，一个大写字母"
   ]
  },
  {
   "cell_type": "code",
   "execution_count": 11,
   "metadata": {},
   "outputs": [
    {
     "name": "stdout",
     "output_type": "stream",
     "text": [
      "qO9G0l\n"
     ]
    }
   ],
   "source": [
    "import random\n",
    "import string\n",
    "\n",
    "code = []\n",
    "code.append(random.choice(string.ascii_lowercase))\n",
    "code.append(random.choice(string.ascii_uppercase))\n",
    "code.append(random.choice(string.digits))\n",
    "\n",
    "while len(code) < 6:\n",
    "    code.append(random.choice(string.ascii_lowercase + string.ascii_uppercase + string.digits))\n",
    "    \n",
    "q_code = \"\".join(code)\n",
    "print(q_code)"
   ]
  },
  {
   "cell_type": "markdown",
   "metadata": {},
   "source": [
    "### 写一个用户登录验证程序，文件如下 1234.json\n",
    "- 1234.json\n",
    "- {\"expire_date\":\"2021-01-01\", \"id\":\"1234\", \"status\":\"0\", \"pay_day\":\"22\", \"password\":\"abc\"}\n",
    "    - 用户名为json的文件名\n",
    "    - 判断是否过期，与expire_date作比较\n",
    "    - 登录成功后，响应登录成功，三次登录失败，status值改为1，并且锁定账号"
   ]
  },
  {
   "cell_type": "code",
   "execution_count": 19,
   "metadata": {},
   "outputs": [
    {
     "name": "stdout",
     "output_type": "stream",
     "text": [
      "请输入用户名：1234\n",
      "请输入密码：abc\n",
      "登录成功\n"
     ]
    }
   ],
   "source": [
    "import os\n",
    "import time\n",
    "import json\n",
    "\n",
    "count = 0\n",
    "\n",
    "exit_flag = False\n",
    "\n",
    "while count< 3:\n",
    "    user = input('请输入用户名：')\n",
    "    f = user.strip()+ '.json'\n",
    "    if os.path.exists(f):\n",
    "        fp = open(f, 'r+', encoding = 'utf-8')\n",
    "        j_user = json.load(fp)\n",
    "        if j_user['status'] == 1:\n",
    "            print('账号已经锁定')\n",
    "            break\n",
    "        else:\n",
    "            expire_dt = j_user['expire_date']\n",
    "            current_st = time.time()\n",
    "            expire_st = time.mktime(time.strptime(expire_dt, '%Y-%m-%d'))\n",
    "            \n",
    "            if current_st > expire_st:\n",
    "                print('用户已经过期')\n",
    "                break\n",
    "            else:\n",
    "                while count < 3:\n",
    "                    pwd = input('请输入密码：')\n",
    "                    if pwd.strip() == j_user['password']:\n",
    "                        print('登录成功')\n",
    "                        exit_flag = True\n",
    "                        break\n",
    "                    else:\n",
    "                        if count == 2:\n",
    "                            print('用户登录已经超过3次，锁定账号')\n",
    "                            j_user['status'] = 1\n",
    "                            fp.seek(0)\n",
    "                            fp.truncate() # 清空文件内容\n",
    "                            json.dump(j_user,fp)\n",
    "                            \n",
    "                    count += 1\n",
    "                    \n",
    "    if exit_flag:\n",
    "        break\n",
    "    else:\n",
    "        print('用户不存在')\n",
    "        count += 1\n",
    "                    "
   ]
  },
  {
   "cell_type": "code",
   "execution_count": 14,
   "metadata": {},
   "outputs": [
    {
     "name": "stdout",
     "output_type": "stream",
     "text": [
      "1554185630.2692876\n"
     ]
    }
   ],
   "source": [
    "import time\n",
    "current_st = time.time()\n",
    "print(current_st)"
   ]
  },
  {
   "cell_type": "markdown",
   "metadata": {},
   "source": [
    "###  利用map（）函数，把用户输入的不规范的英文，变成首字母大写，其他小写的规范名字"
   ]
  },
  {
   "cell_type": "code",
   "execution_count": 20,
   "metadata": {},
   "outputs": [
    {
     "name": "stdout",
     "output_type": "stream",
     "text": [
      "Adman\n",
      "Lisa\n",
      "Jack\n"
     ]
    },
    {
     "data": {
      "text/plain": [
       "['Adman', 'Lisa', 'Jack']"
      ]
     },
     "execution_count": 20,
     "metadata": {},
     "output_type": "execute_result"
    }
   ],
   "source": [
    "def standards(s):\n",
    "    t = s.lower() # 将s全部小写\n",
    "    t = t.capitalize() # 将t的首字母大写\n",
    "    print(t)\n",
    "    return t\n",
    "\n",
    "list(map(standards, ['ADman', 'LISA', 'jacK']))"
   ]
  },
  {
   "cell_type": "markdown",
   "metadata": {},
   "source": [
    "### 回数， 从左向右和从右向左度都是一样的数，例如，12321， 999 ，请利用filter()函数"
   ]
  },
  {
   "cell_type": "code",
   "execution_count": null,
   "metadata": {},
   "outputs": [],
   "source": []
  },
  {
   "cell_type": "code",
   "execution_count": 27,
   "metadata": {},
   "outputs": [
    {
     "name": "stdout",
     "output_type": "stream",
     "text": [
      "<class 'filter'>\n",
      "[1, 2, 3, 4, 5, 6, 7, 8, 9, 11, 22, 33, 44, 55, 66, 77, 88, 99, 101, 111, 121, 131, 141, 151, 161, 171, 181, 191, 202, 212, 222, 232, 242, 252, 262, 272, 282, 292, 303, 313, 323, 333, 343, 353, 363, 373, 383, 393, 404, 414, 424, 434, 444, 454, 464, 474, 484, 494, 505, 515, 525, 535, 545, 555, 565, 575, 585, 595, 606, 616, 626, 636, 646, 656, 666, 676, 686, 696, 707, 717, 727, 737, 747, 757, 767, 777, 787, 797, 808, 818, 828, 838, 848, 858, 868, 878, 888, 898, 909, 919, 929, 939, 949, 959, 969, 979, 989, 999]\n"
     ]
    }
   ],
   "source": [
    "def equal(a,b):\n",
    "    return a==b\n",
    "\n",
    "def is_palindrome(n):\n",
    "    s = str(n)\n",
    "    for i in range(len(s)-1):\n",
    "        if equal(s[i], s[len(s)-i-1]):\n",
    "            continue\n",
    "        else:\n",
    "            return False\n",
    "    return True\n",
    "\n",
    "output = filter(is_palindrome, range(1,1000))\n",
    "print(type(output))\n",
    "print(list(output))"
   ]
  },
  {
   "cell_type": "code",
   "execution_count": 23,
   "metadata": {},
   "outputs": [
    {
     "data": {
      "text/plain": [
       "4"
      ]
     },
     "execution_count": 23,
     "metadata": {},
     "output_type": "execute_result"
    }
   ],
   "source": [
    "len('12321')-1"
   ]
  },
  {
   "cell_type": "code",
   "execution_count": 38,
   "metadata": {},
   "outputs": [
    {
     "name": "stdout",
     "output_type": "stream",
     "text": [
      "[1, 4, 9, 16, 25, 36, 49, 64]\n"
     ]
    }
   ],
   "source": [
    "def square(x):\n",
    "    return x ** 2\n",
    "\n",
    "l = map(square,[1,2,3,4,5,6,7,8])\n",
    "print(list(l))"
   ]
  },
  {
   "cell_type": "code",
   "execution_count": 36,
   "metadata": {},
   "outputs": [
    {
     "name": "stdout",
     "output_type": "stream",
     "text": [
      "[1, 3, 5, 7]\n"
     ]
    }
   ],
   "source": [
    "def square(x):\n",
    "    return x % 2 ==1\n",
    "\n",
    "l = filter(square,[1,2,3,4,5,6,7,8])\n",
    "print(list(l))"
   ]
  },
  {
   "cell_type": "markdown",
   "metadata": {},
   "source": [
    "### 假设，我们用一组tuple来表示学生的名字和成绩， L = [('Bob',75),('ADAM',66),(Liming),84]"
   ]
  },
  {
   "cell_type": "code",
   "execution_count": 2,
   "metadata": {},
   "outputs": [
    {
     "name": "stdout",
     "output_type": "stream",
     "text": [
      "[('ADAM', 66), ('Bob', 75), ('Lming', 84)]\n"
     ]
    }
   ],
   "source": [
    "L = [('Bob',75),('ADAM',66),('Lming',84)]\n",
    "\n",
    "def by_name(t):\n",
    "    t = sorted()\n",
    "    \n",
    "# l2 = sorted(L, key=by_name)\n",
    "l3 = sorted(L, key=lambda x:x[0])\n",
    "print(l3)\n",
    "\n",
    "    "
   ]
  },
  {
   "cell_type": "markdown",
   "metadata": {},
   "source": [
    "###  利用lamdba（）函数，把用户输入的不规范的英文，变成首字母大写，其他小写的规范名字"
   ]
  },
  {
   "cell_type": "code",
   "execution_count": 8,
   "metadata": {},
   "outputs": [
    {
     "name": "stdout",
     "output_type": "stream",
     "text": [
      "['Adman', 'Lisa', 'Jack', 'Gsot', 'Pore']\n"
     ]
    }
   ],
   "source": [
    "ls = ['ADman', 'LISA', 'jacK', 'GSOt', 'PORE']\n",
    "\n",
    "new_ls = map(lambda x: x.lower().capitalize(), ls)\n",
    "print(list(new_ls))"
   ]
  },
  {
   "cell_type": "markdown",
   "metadata": {},
   "source": [
    "### 回数， 从左向右和从右向左度都是一样的数，例如，12321， 999 ，请利用filter()函数...lamdba()"
   ]
  },
  {
   "cell_type": "code",
   "execution_count": 16,
   "metadata": {},
   "outputs": [
    {
     "name": "stdout",
     "output_type": "stream",
     "text": [
      "[11, 22, 33, 44, 55, 66, 77, 88, 99, 101, 111, 121, 131, 141, 151, 161, 171, 181, 191, 202, 212, 222, 232, 242, 252, 262, 272, 282, 292, 303, 313, 323, 333, 343, 353, 363, 373, 383, 393, 404, 414, 424, 434, 444, 454, 464, 474, 484, 494, 505, 515, 525, 535, 545, 555, 565, 575, 585, 595, 606, 616, 626, 636, 646, 656, 666, 676, 686, 696, 707, 717, 727, 737, 747, 757, 767, 777, 787, 797, 808, 818, 828, 838, 848, 858, 868, 878, 888, 898, 909, 919, 929, 939, 949, 959, 969, 979, 989, 999]\n"
     ]
    }
   ],
   "source": [
    "# 打印100-1000之间的回数\n",
    "\n",
    "ls = range(10,1000)\n",
    "\n",
    "new_ls = filter(lambda x: str(x)[0] == str(x)[len(str(x))-1], ls)\n",
    "print(list(new_ls))"
   ]
  },
  {
   "cell_type": "markdown",
   "metadata": {},
   "source": [
    "### 按权重排序   价格占40%，销量占17%，评级占13%，评论占30%"
   ]
  },
  {
   "cell_type": "code",
   "execution_count": 32,
   "metadata": {},
   "outputs": [
    {
     "name": "stdout",
     "output_type": "stream",
     "text": [
      "[{'name': '商品3', 'price': 50, 'sales': 1000, 'starts': 4, 'comments': 500}, {'name': '商品2', 'price': 100, 'sales': 500, 'starts': 4, 'comments': 200}, {'name': '商品4', 'price': 90, 'sales': 300, 'starts': 5, 'comments': 200}, {'name': '商品1', 'price': 200, 'sales': 100, 'starts': 5, 'comments': 80}]\n"
     ]
    }
   ],
   "source": [
    "goods_list = [{'name':'商品1','price':200, 'sales':100, 'starts':5, 'comments':80},{'name':'商品2','price':100, 'sales':500, 'starts':4, 'comments':200},{'name':'商品3','price':50, 'sales':1000, 'starts':4, 'comments':500},{'name':'商品4','price':90, 'sales':300, 'starts':5, 'comments':200}]\n",
    "\n",
    "l1 = sorted(goods_list, key=lambda x: x['price']*0.4 + x['sales']*0.17 + x['starts']*0.13 + x['comments']*0.3, reverse=True)\n",
    "print(l1)"
   ]
  },
  {
   "cell_type": "code",
   "execution_count": 30,
   "metadata": {},
   "outputs": [
    {
     "data": {
      "text/plain": [
       "200"
      ]
     },
     "execution_count": 30,
     "metadata": {},
     "output_type": "execute_result"
    }
   ],
   "source": [
    "l1 = {'name':'商品1','price':200, 'sales':100, 'starts':5, 'comments':80}\n",
    "\n",
    "l1['price']"
   ]
  },
  {
   "cell_type": "code",
   "execution_count": 27,
   "metadata": {},
   "outputs": [
    {
     "data": {
      "text/plain": [
       "'4567'"
      ]
     },
     "execution_count": 27,
     "metadata": {},
     "output_type": "execute_result"
    }
   ],
   "source": [
    "l2 = [1,15,'xioaf','sfeffd',['yuloull','4567',222]]\n",
    "l2[4][1]"
   ]
  },
  {
   "cell_type": "markdown",
   "metadata": {},
   "source": [
    "### 编写一个程序，接受用户输入的内容，并且保存为新的文件\n",
    "- 如果用户单独输入 :w， 表示文件保存并退出"
   ]
  },
  {
   "cell_type": "code",
   "execution_count": 1,
   "metadata": {},
   "outputs": [
    {
     "name": "stdout",
     "output_type": "stream",
     "text": [
      "请用户输入文件名：test3\n",
      "请输入内容，（单独输入:w 保存退出）\n",
      "111\n",
      "22\n",
      "333\n",
      "444\n",
      "555\n",
      "666\n",
      "777\n",
      "888\n",
      ":w\n"
     ]
    }
   ],
   "source": [
    "file_name = input('请用户输入文件名：')\n",
    "\n",
    "def file_write(file_name):\n",
    "    \n",
    "    f = open(file_name, 'w') # 打开我们的用户文件\n",
    "    print('请输入内容，（单独输入:w 保存退出）')\n",
    "    \n",
    "    while True:\n",
    "        write_something = input()\n",
    "        # 判断用户输入的是不是w\n",
    "        if write_something != ':w':\n",
    "            f.write(\"%s\\n\" % write_something)\n",
    "        else:\n",
    "            break\n",
    "    f.close()\n",
    "\n",
    "file_write(file_name)"
   ]
  },
  {
   "cell_type": "markdown",
   "metadata": {},
   "source": [
    "#### 编写一个程序，比较用户输入的文件是否相同， 如果不同，显示出所有不同处的行号"
   ]
  },
  {
   "cell_type": "code",
   "execution_count": 37,
   "metadata": {},
   "outputs": [
    {
     "name": "stdout",
     "output_type": "stream",
     "text": [
      "请输入需要比较的第一个文件名：test1\n",
      "请输入需要比较的第二个文件名：test2\n",
      "两个文件有4不同\n",
      "第1行不一样\n",
      "第2行不一样\n",
      "第3行不一样\n",
      "第4行不一样\n"
     ]
    }
   ],
   "source": [
    "file1 = input('请输入需要比较的第一个文件名：')\n",
    "file2 = input('请输入需要比较的第二个文件名：')\n",
    "\n",
    "def file_compare(file1, file2):\n",
    "    f1 = open(file1)\n",
    "    f2 = open(file2)\n",
    "    \n",
    "    count = 0 # 统计行数\n",
    "    differ = [] # 统计不一样的数量\n",
    "    \n",
    "    for line1 in f1:\n",
    "        line2 = f2.readline()\n",
    "        \n",
    "        count += 1\n",
    "        if line1 != line2:\n",
    "            differ.append(count)\n",
    "            \n",
    "    f1.close()\n",
    "    f2.close()\n",
    "    \n",
    "    return differ\n",
    "\n",
    "s2 = file_compare(file1, file2)\n",
    "if len(s2) == 0:\n",
    "    print('两个文件完全相同')\n",
    "else:\n",
    "    print('两个文件有%d不同' % len(s2))\n",
    "    for each in s2:\n",
    "        print('第%d行不一样' % each)"
   ]
  },
  {
   "cell_type": "markdown",
   "metadata": {},
   "source": [
    "### 编写一个程序，当用户输入文件名和行数的时候， 将文件的前N行内容打印到屏幕上"
   ]
  },
  {
   "cell_type": "code",
   "execution_count": 38,
   "metadata": {},
   "outputs": [
    {
     "name": "stdout",
     "output_type": "stream",
     "text": [
      "请输入你要打开的文件名：test1\n",
      "请输入你要显示的前几行：4\n",
      "\n",
      "文件test2的前4行的内容如下\n",
      "111\n",
      "\n",
      "222\n",
      "\n",
      "\n",
      "\n",
      "22\n",
      "\n"
     ]
    }
   ],
   "source": [
    "file_nmae = input(r'请输入你要打开的文件名：') # 是一个str\n",
    "line_num = input(r'请输入你要显示的前几行：')\n",
    "\n",
    "def file_view(file_name, line_num):\n",
    "    print('\\n文件%s的前%s行的内容如下' % (file_name, line_num))\n",
    "    \n",
    "    f = open(file_name)\n",
    "    for i in range(int(line_num)):\n",
    "        print(f.readline())\n",
    "        \n",
    "    f.close()\n",
    "    \n",
    "file_view(file_name, line_num)"
   ]
  },
  {
   "cell_type": "markdown",
   "metadata": {},
   "source": [
    "#### 在上一题上，增加一些功能，使用户可以随意的输入需要显示的行数"
   ]
  },
  {
   "cell_type": "code",
   "execution_count": 50,
   "metadata": {},
   "outputs": [
    {
     "name": "stdout",
     "output_type": "stream",
     "text": [
      "请输入你要打开的文件名：test3\n",
      "请输入你要显示的行数，格式为[1,9]或者：[:]2:\n",
      "222\n",
      "333\n",
      "444\n",
      "555\n",
      "666\n",
      "777\n",
      "888\n",
      "999\n",
      "\n"
     ]
    }
   ],
   "source": [
    "file_name = input('请输入你要打开的文件名：')\n",
    "line_num = input('请输入你要显示的行数，格式为[1,9]或者：[:]')\n",
    "\n",
    "def print_line(file_name, line_num):\n",
    "    f = open(file_name)\n",
    "    \n",
    "    begin, end = line_num.split(':')\n",
    "    \n",
    "    if begin ==\"\":\n",
    "        begin = '1'\n",
    "    \n",
    "    if end == \"\":\n",
    "        end = '-1'\n",
    "        \n",
    "    begin = int(begin)-1\n",
    "    end = int(end)\n",
    "    \n",
    "    lines = end - begin\n",
    "    \n",
    "    # 消耗掉 begin之前的行数\n",
    "    for i in range(begin):\n",
    "        f.readline()\n",
    "        \n",
    "    if lines < 0:\n",
    "        print(f.read())\n",
    "    else:\n",
    "        for j in range(lines):\n",
    "            print(f.readline())\n",
    "    f.close()\n",
    "    \n",
    "print_line(file_name,line_num)        "
   ]
  },
  {
   "cell_type": "code",
   "execution_count": 43,
   "metadata": {},
   "outputs": [
    {
     "name": "stdout",
     "output_type": "stream",
     "text": [
      "['th', 's is string example']\n"
     ]
    }
   ],
   "source": [
    "str = \"this is string example\"\n",
    "print(str.split('i',1))"
   ]
  },
  {
   "cell_type": "code",
   "execution_count": 44,
   "metadata": {},
   "outputs": [
    {
     "data": {
      "text/plain": [
       "[2, 3]"
      ]
     },
     "execution_count": 44,
     "metadata": {},
     "output_type": "execute_result"
    }
   ],
   "source": [
    "list1 = [1,2,3,4,5,6]\n",
    "list1[1:3]"
   ]
  },
  {
   "cell_type": "markdown",
   "metadata": {},
   "source": [
    "### 编写一个程序，实现“全部替换”的功能\n",
    "- 打开一个文件\n",
    "- 把文件中xxx这样的字符串，替换成sss\n",
    "- open 打开文件\n",
    "- realine 读取文件内容\n",
    "- replace 替换"
   ]
  },
  {
   "cell_type": "code",
   "execution_count": 3,
   "metadata": {},
   "outputs": [
    {
     "name": "stdout",
     "output_type": "stream",
     "text": [
      "请输入你要打开的文件名：test3\n",
      "请输入你要替换的字符：555\n",
      "请输入替换的新字符：000\n",
      "请确定要替换吗？请输入yes/noyes\n",
      "31\n"
     ]
    }
   ],
   "source": [
    "file_name = input('请输入你要打开的文件名：')\n",
    "rep_word = input('请输入你要替换的字符：')\n",
    "new_word = input('请输入替换的新字符：')\n",
    "\n",
    "def file_replace(file_name, rep_word, new_word):\n",
    "    \n",
    "    f = open(file_name)\n",
    "    content = []\n",
    "    \n",
    "    for eachline in f:\n",
    "        if rep_word in eachline:\n",
    "            eachline = eachline.replace(rep_word, new_word)\n",
    "            \n",
    "        content.append(eachline)\n",
    "            \n",
    "    decide = input('请确定要替换吗？请输入yes/no')\n",
    "    \n",
    "    if decide in ['YES', 'Yes', 'yes']:\n",
    "        f_write = open(file_name, 'w')\n",
    "        f_write.write(\"\".join(content))\n",
    "        f_write.close()\n",
    "        \n",
    "file_replace(file_name, rep_word, new_word)       \n",
    "            "
   ]
  },
  {
   "cell_type": "code",
   "execution_count": 2,
   "metadata": {},
   "outputs": [
    {
     "name": "stdout",
     "output_type": "stream",
     "text": [
      "请输入你要打开的文件名：test3\n",
      "请输入你要替换的字符：444\n",
      "请输入替换的新字符：000\n",
      "111\n",
      "22\n",
      "333\n",
      "000\n",
      "555\n",
      "666\n",
      "777\n",
      "888\n",
      "\n"
     ]
    }
   ],
   "source": [
    "file_name = input('请输入你要打开的文件名：')\n",
    "rep_word = input('请输入你要替换的字符：')\n",
    "new_word = input('请输入替换的新字符：')\n",
    "\n",
    "def file_replace(file_name, rep_word, new_word):\n",
    "    \n",
    "    f = open(file_name)\n",
    "    content = []\n",
    "    \n",
    "    for eachline in f:\n",
    "        if rep_word in eachline:\n",
    "            eachline = eachline.replace(rep_word, new_word)\n",
    "            \n",
    "        content.append(eachline)\n",
    "        \n",
    "    print(\"\".join(content))\n",
    "    f.close()\n",
    "    \n",
    "file_replace(file_name, rep_word, new_word)"
   ]
  },
  {
   "cell_type": "code",
   "execution_count": null,
   "metadata": {},
   "outputs": [],
   "source": []
  },
  {
   "cell_type": "code",
   "execution_count": null,
   "metadata": {},
   "outputs": [],
   "source": []
  },
  {
   "cell_type": "code",
   "execution_count": null,
   "metadata": {},
   "outputs": [],
   "source": []
  },
  {
   "cell_type": "code",
   "execution_count": null,
   "metadata": {},
   "outputs": [],
   "source": []
  },
  {
   "cell_type": "code",
   "execution_count": null,
   "metadata": {},
   "outputs": [],
   "source": []
  },
  {
   "cell_type": "code",
   "execution_count": null,
   "metadata": {},
   "outputs": [],
   "source": []
  }
 ],
 "metadata": {
  "kernelspec": {
   "display_name": "Python 3",
   "language": "python",
   "name": "python3"
  },
  "language_info": {
   "codemirror_mode": {
    "name": "ipython",
    "version": 3
   },
   "file_extension": ".py",
   "mimetype": "text/x-python",
   "name": "python",
   "nbconvert_exporter": "python",
   "pygments_lexer": "ipython3",
   "version": "3.7.1"
  }
 },
 "nbformat": 4,
 "nbformat_minor": 2
}
