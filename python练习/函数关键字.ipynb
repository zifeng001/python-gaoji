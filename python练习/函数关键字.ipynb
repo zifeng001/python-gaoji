{
 "cells": [
  {
   "cell_type": "code",
   "execution_count": 1,
   "metadata": {},
   "outputs": [
    {
     "name": "stdout",
     "output_type": "stream",
     "text": [
      "I am a student\n",
      "我叫xiaoming,我今年20了,我住beijing\n"
     ]
    }
   ],
   "source": [
    "def stu(name,age,addr):\n",
    "    print('I am a student')\n",
    "    print('我叫{0},我今年{1}了,我住{2}'.format(name, age, addr))\n",
    "\n",
    "n = 'xiaoming'\n",
    "a = 20\n",
    "d = 'beijing'\n",
    "\n",
    "stu(n,a,d)"
   ]
  },
  {
   "cell_type": "code",
   "execution_count": 3,
   "metadata": {},
   "outputs": [
    {
     "name": "stdout",
     "output_type": "stream",
     "text": [
      "I am a student\n",
      "我叫xiaoming,我今年20了,我住beijing\n"
     ]
    }
   ],
   "source": [
    "def stu_key(name='no name', age=0, addr='no addr'):\n",
    "    print('I am a student')\n",
    "    print('我叫{0},我今年{1}了,我住{2}'.format(name, age, addr))\n",
    "    \n",
    "n = 'xiaoming'\n",
    "a = 20\n",
    "d = 'beijing'\n",
    "\n",
    "stu(name=n, age=a, addr=d)\n",
    "    \n"
   ]
  },
  {
   "cell_type": "code",
   "execution_count": 5,
   "metadata": {},
   "outputs": [
    {
     "name": "stdout",
     "output_type": "stream",
     "text": [
      "大家好，我简单自我介绍一下\n",
      "<class 'tuple'>\n",
      "小明\n",
      "20\n",
      "beijing\n",
      "小甲鱼\n",
      "大家好，我简单自我介绍一下\n",
      "<class 'tuple'>\n",
      "wangliang\n"
     ]
    }
   ],
   "source": [
    "def stu1(*args):\n",
    "    print('大家好，我简单自我介绍一下')\n",
    "    print(type(args))\n",
    "    for item in args:\n",
    "        print(item)\n",
    "        \n",
    "stu1('小明',20,'beijing','小甲鱼')\n",
    "stu1('wangliang')"
   ]
  },
  {
   "cell_type": "code",
   "execution_count": 9,
   "metadata": {},
   "outputs": [
    {
     "name": "stdout",
     "output_type": "stream",
     "text": [
      "hello 大家好，首先自我介绍一下\n",
      "<class 'dict'>\n",
      "name - - - xiaoming\n",
      "age - - - 20\n",
      "addr - - - beijing\n",
      "***************\n",
      "hello 大家好，首先自我介绍一下\n",
      "<class 'dict'>\n",
      "name - - - dashen\n"
     ]
    }
   ],
   "source": [
    "def func( **kwargs):\n",
    "    print('hello 大家好，首先自我介绍一下')\n",
    "    print(type(kwargs))\n",
    "    for k,v in kwargs.items():\n",
    "        print(k, '- - -', v)\n",
    "        \n",
    "func(name='xiaoming', age=20, addr='beijing')\n",
    "print('*' * 15)\n",
    "func(name='dashen')\n",
    "    "
   ]
  },
  {
   "cell_type": "code",
   "execution_count": 18,
   "metadata": {},
   "outputs": [
    {
     "name": "stdout",
     "output_type": "stream",
     "text": [
      "hello 大家好\n",
      "我叫小鲫鱼,我今年20了\n",
      "我没有爱好\n",
      "********************\n",
      "####################\n",
      "hello 大家好\n",
      "我叫小鲫鱼,我今年20了\n",
      "我的爱好是跑步\n",
      "********************\n",
      "####################\n",
      "hello 大家好\n",
      "我叫小鲫鱼,我今年20了\n",
      "我的爱好是游泳\n",
      "********************\n",
      "王小贱\n",
      "留石头\n",
      "####################\n",
      "hobby1 ..... 上网\n",
      "hobby2 ..... 睡觉\n"
     ]
    }
   ],
   "source": [
    "def stu(name, age, *args, hobby='没有', **kwargs):\n",
    "    print('hello 大家好')\n",
    "    print('我叫{0},我今年{1}了'.format(name,age))\n",
    "    if hobby =='没有':\n",
    "        print('我没有爱好')\n",
    "    else:\n",
    "        print('我的爱好是{0}'.format(hobby))\n",
    "    print('*' * 20)\n",
    "    \n",
    "    for i in args:\n",
    "        print(i)\n",
    "    \n",
    "    print('#' * 20)\n",
    "    \n",
    "    for k,v in kwargs.items():\n",
    "        print(k,'.....',v)\n",
    "        \n",
    "        \n",
    "name = '小鲫鱼'\n",
    "age = 20\n",
    "\n",
    "stu(name, age)\n",
    "stu(name, age, hobby='跑步')\n",
    "stu(name, age, '王小贱', '留石头', hobby='游泳', hobby1='上网', hobby2='睡觉')"
   ]
  }
 ],
 "metadata": {
  "kernelspec": {
   "display_name": "Python 3",
   "language": "python",
   "name": "python3"
  },
  "language_info": {
   "codemirror_mode": {
    "name": "ipython",
    "version": 3
   },
   "file_extension": ".py",
   "mimetype": "text/x-python",
   "name": "python",
   "nbconvert_exporter": "python",
   "pygments_lexer": "ipython3",
   "version": "3.7.1"
  }
 },
 "nbformat": 4,
 "nbformat_minor": 2
}
