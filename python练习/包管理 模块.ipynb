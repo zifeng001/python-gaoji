{
 "cells": [
  {
   "cell_type": "markdown",
   "metadata": {},
   "source": [
    "# 模块\n",
    "'''\n",
    "一个模块就是一个包含python代码的文件，后缀名是。py 就可以。模块就是一个python文件\n",
    "为什么要用模块？\n",
    "    -程序太大，编写维护非常不方便，需要拆分\n",
    "    -模块可以增加代码重复利用的方式\n",
    "    \n",
    "如何定义模块\n",
    "    -模块就是一个普通文件\n",
    "    -函数（单一功能）\n",
    "    -类（相似功能或者业务组合）\n",
    "    -测试代码\n",
    "如何使用模块\n",
    "    -模块直接导入\n",
    "\n",
    "\n",
    "'''\n"
   ]
  },
  {
   "cell_type": "code",
   "execution_count": 3,
   "metadata": {},
   "outputs": [
    {
     "ename": "SyntaxError",
     "evalue": "invalid syntax (<ipython-input-3-e0f3ddcf293c>, line 2)",
     "output_type": "error",
     "traceback": [
      "\u001b[1;36m  File \u001b[1;32m\"<ipython-input-3-e0f3ddcf293c>\"\u001b[1;36m, line \u001b[1;32m2\u001b[0m\n\u001b[1;33m    def__init__(self, name='noname', age = 18):\u001b[0m\n\u001b[1;37m                                               ^\u001b[0m\n\u001b[1;31mSyntaxError\u001b[0m\u001b[1;31m:\u001b[0m invalid syntax\n"
     ]
    }
   ],
   "source": [
    "class Student():\n",
    "    def__init__(self, name='noname', age = 18):\n",
    "        self.name = name\n",
    "        self.age = age\n",
    "        \n",
    "    def say(self):\n",
    "        print('my name is {0}'.format(self.name))\n",
    "        \n",
    "def sayhello():\n",
    "    print('欢迎来到图灵学院')\n",
    "print('我是模块，你叫我干什么')\n",
    "\n",
    "        "
   ]
  },
  {
   "cell_type": "code",
   "execution_count": 4,
   "metadata": {},
   "outputs": [
    {
     "ename": "ModuleNotFoundError",
     "evalue": "No module named 'py01'",
     "output_type": "error",
     "traceback": [
      "\u001b[1;31m---------------------------------------------------------------------------\u001b[0m",
      "\u001b[1;31mModuleNotFoundError\u001b[0m                       Traceback (most recent call last)",
      "\u001b[1;32m<ipython-input-4-46eb027d17e1>\u001b[0m in \u001b[0;36m<module>\u001b[1;34m\u001b[0m\n\u001b[1;32m----> 1\u001b[1;33m \u001b[1;32mimport\u001b[0m \u001b[0mpy01\u001b[0m\u001b[1;33m\u001b[0m\u001b[1;33m\u001b[0m\u001b[0m\n\u001b[0m\u001b[0;32m      2\u001b[0m \u001b[0mstu\u001b[0m \u001b[1;33m=\u001b[0m \u001b[0mpy01\u001b[0m\u001b[1;33m.\u001b[0m\u001b[0mStudent\u001b[0m\u001b[1;33m(\u001b[0m\u001b[1;34m'xiaojing'\u001b[0m\u001b[1;33m,\u001b[0m \u001b[1;36m19\u001b[0m\u001b[1;33m)\u001b[0m\u001b[1;33m\u001b[0m\u001b[1;33m\u001b[0m\u001b[0m\n\u001b[0;32m      3\u001b[0m \u001b[0mstu\u001b[0m\u001b[1;33m.\u001b[0m\u001b[0msay\u001b[0m\u001b[1;33m(\u001b[0m\u001b[1;33m)\u001b[0m\u001b[1;33m\u001b[0m\u001b[1;33m\u001b[0m\u001b[0m\n\u001b[0;32m      4\u001b[0m \u001b[0mpy01\u001b[0m\u001b[1;33m.\u001b[0m\u001b[0msayhello\u001b[0m\u001b[1;33m(\u001b[0m\u001b[1;33m)\u001b[0m\u001b[1;33m\u001b[0m\u001b[1;33m\u001b[0m\u001b[0m\n",
      "\u001b[1;31mModuleNotFoundError\u001b[0m: No module named 'py01'"
     ]
    }
   ],
   "source": [
    "import py01\n",
    "stu = py01.Student('xiaojing', 19)\n",
    "stu.say()\n",
    "py01.sayhello()"
   ]
  },
  {
   "cell_type": "markdown",
   "metadata": {},
   "source": [
    "如何使用模块\n",
    "    模块直接导入\n",
    "    假如模块名称以数字开头，需要借助importlib 的帮助\n",
    "    语法：\n",
    "    import module_name\n",
    "    module_name.function_name\n",
    "    module_name.class_name\n",
    "    \n",
    "    import 模块 as别名\n",
    "    导入的同时给模块一个别名\n",
    "    其余用法和第一种相同\n",
    "    \n",
    "    from module_name import func name, class name\n",
    "    按上述方法有选择性的导入\n",
    "    使用的使用可以直接使用导入的内容，不需要前缀\n",
    "    \n",
    "    from module_name import *\n",
    "    导入模块所有内容\n",
    "    \n",
    "    此判断语句，建议一直作为程序的入口\n",
    "    if __name__ === '__main__': 的使用\n",
    "        可以有效避免模块代码被导入的时候，被动执行的问题\n",
    "        建议所有程序都已此代码作为程序入口\n",
    "        \n",
    "    "
   ]
  },
  {
   "cell_type": "markdown",
   "metadata": {},
   "source": [
    "模块的搜索路径和存储\n",
    "    什么是模块的搜索路径？\n",
    "    加载模块的时候，系统会在哪些地方寻找此模块\n",
    "    系统默认的模块搜索路径\n",
    "    import sys\n",
    "    sys.path 属性可以获取路径列表"
   ]
  },
  {
   "cell_type": "code",
   "execution_count": 3,
   "metadata": {},
   "outputs": [
    {
     "name": "stdout",
     "output_type": "stream",
     "text": [
      "<class 'list'>\n",
      "['C:\\\\Users\\\\zifeng\\\\Desktop\\\\python练习', 'C:\\\\Users\\\\zifeng\\\\Anaconda3\\\\python37.zip', 'C:\\\\Users\\\\zifeng\\\\Anaconda3\\\\DLLs', 'C:\\\\Users\\\\zifeng\\\\Anaconda3\\\\lib', 'C:\\\\Users\\\\zifeng\\\\Anaconda3', '', 'C:\\\\Users\\\\zifeng\\\\Anaconda3\\\\lib\\\\site-packages', 'C:\\\\Users\\\\zifeng\\\\Anaconda3\\\\lib\\\\site-packages\\\\win32', 'C:\\\\Users\\\\zifeng\\\\Anaconda3\\\\lib\\\\site-packages\\\\win32\\\\lib', 'C:\\\\Users\\\\zifeng\\\\Anaconda3\\\\lib\\\\site-packages\\\\Pythonwin', 'C:\\\\Users\\\\zifeng\\\\Anaconda3\\\\lib\\\\site-packages\\\\IPython\\\\extensions', 'C:\\\\Users\\\\zifeng\\\\.ipython']\n",
      "C:\\Users\\zifeng\\Desktop\\python练习\n",
      "C:\\Users\\zifeng\\Anaconda3\\python37.zip\n",
      "C:\\Users\\zifeng\\Anaconda3\\DLLs\n",
      "C:\\Users\\zifeng\\Anaconda3\\lib\n",
      "C:\\Users\\zifeng\\Anaconda3\n",
      "\n",
      "C:\\Users\\zifeng\\Anaconda3\\lib\\site-packages\n",
      "C:\\Users\\zifeng\\Anaconda3\\lib\\site-packages\\win32\n",
      "C:\\Users\\zifeng\\Anaconda3\\lib\\site-packages\\win32\\lib\n",
      "C:\\Users\\zifeng\\Anaconda3\\lib\\site-packages\\Pythonwin\n",
      "C:\\Users\\zifeng\\Anaconda3\\lib\\site-packages\\IPython\\extensions\n",
      "C:\\Users\\zifeng\\.ipython\n"
     ]
    }
   ],
   "source": [
    "import sys\n",
    "print(type(sys.path))\n",
    "print(sys.path)\n",
    "for p in sys.path:\n",
    "    print(p)"
   ]
  },
  {
   "cell_type": "code",
   "execution_count": 5,
   "metadata": {},
   "outputs": [
    {
     "ename": "SyntaxError",
     "evalue": "invalid syntax (<ipython-input-5-a12300210d6a>, line 1)",
     "output_type": "error",
     "traceback": [
      "\u001b[1;36m  File \u001b[1;32m\"<ipython-input-5-a12300210d6a>\"\u001b[1;36m, line \u001b[1;32m1\u001b[0m\n\u001b[1;33m    添加搜索路径  sys.path.append(dir)\u001b[0m\n\u001b[1;37m              ^\u001b[0m\n\u001b[1;31mSyntaxError\u001b[0m\u001b[1;31m:\u001b[0m invalid syntax\n"
     ]
    }
   ],
   "source": [
    "添加搜索路径  sys.path.append(dir)\n",
    "\n",
    "模块的加载顺序 1，上搜索内存中已经加载好的模块  2，搜索python的内置模块 3，搜索sys.path路径"
   ]
  },
  {
   "cell_type": "markdown",
   "metadata": {},
   "source": [
    "# 包"
   ]
  },
  {
   "cell_type": "code",
   "execution_count": 6,
   "metadata": {},
   "outputs": [
    {
     "ename": "SyntaxError",
     "evalue": "invalid character in identifier (<ipython-input-6-587d09763d43>, line 1)",
     "output_type": "error",
     "traceback": [
      "\u001b[1;36m  File \u001b[1;32m\"<ipython-input-6-587d09763d43>\"\u001b[1;36m, line \u001b[1;32m1\u001b[0m\n\u001b[1;33m    包是一种组织管理代码的方式，包里面存放的是模块。模块就是py文件\u001b[0m\n\u001b[1;37m                                   ^\u001b[0m\n\u001b[1;31mSyntaxError\u001b[0m\u001b[1;31m:\u001b[0m invalid character in identifier\n"
     ]
    }
   ],
   "source": [
    "包是一种组织管理代码的方式，包里面存放的是模块。模块就是py文件\n",
    "用于将模块包含在一起的文件夹就是包\n",
    "自定义包的结构  __init__.py 包的标志性文件"
   ]
  },
  {
   "cell_type": "markdown",
   "metadata": {},
   "source": [
    "包的导入操作"
   ]
  },
  {
   "cell_type": "markdown",
   "metadata": {},
   "source": [
    "import package_name\n",
    "直接导入一个包，可以使用__init__.py中的内容\n",
    "使用的方式是\n",
    "    package_name.func_name\n",
    "    package_name.class_name.func_name\n",
    "此种方式的访问内容\n",
    "改别名\n",
    "import package_name as p\n",
    "此种方式默认是是对__init__.py 内容的导入   \n",
    "\n",
    "import package.module  导入包中某一个具体的模块\n",
    "使用方法\n",
    "    package.module.func_name\n",
    "    package.module.class.fun()\n",
    "    package.module.class.var()\n",
    "    "
   ]
  },
  {
   "cell_type": "code",
   "execution_count": null,
   "metadata": {},
   "outputs": [],
   "source": [
    "from ...import 导入\n",
    "from package import module1, module2, module3\n",
    "此种导入方法不执行__init__的内容\n"
   ]
  }
 ],
 "metadata": {
  "kernelspec": {
   "display_name": "Python 3",
   "language": "python",
   "name": "python3"
  },
  "language_info": {
   "codemirror_mode": {
    "name": "ipython",
    "version": 3
   },
   "file_extension": ".py",
   "mimetype": "text/x-python",
   "name": "python",
   "nbconvert_exporter": "python",
   "pygments_lexer": "ipython3",
   "version": "3.7.1"
  }
 },
 "nbformat": 4,
 "nbformat_minor": 2
}
