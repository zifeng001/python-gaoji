{
 "cells": [
  {
   "cell_type": "markdown",
   "metadata": {},
   "source": [
    "#面向对象的3大特征 封装 继承 多态\n"
   ]
  },
  {
   "cell_type": "markdown",
   "metadata": {},
   "source": [
    "封装就是对 对象成员就行访问限制\n",
    "封装的3个级别\n",
    "公开 public\n",
    "受保护的 protected\n",
    "私有的 private\n"
   ]
  },
  {
   "cell_type": "code",
   "execution_count": 24,
   "metadata": {},
   "outputs": [
    {
     "name": "stdout",
     "output_type": "stream",
     "text": [
      "小甲鱼\n"
     ]
    },
    {
     "ename": "AttributeError",
     "evalue": "'Person' object has no attribute '__age'",
     "output_type": "error",
     "traceback": [
      "\u001b[1;31m---------------------------------------------------------------------------\u001b[0m",
      "\u001b[1;31mAttributeError\u001b[0m                            Traceback (most recent call last)",
      "\u001b[1;32m<ipython-input-24-2f41cec20d1a>\u001b[0m in \u001b[0;36m<module>\u001b[1;34m\u001b[0m\n\u001b[0;32m      8\u001b[0m \u001b[1;31m# name 是公有变量\u001b[0m\u001b[1;33m\u001b[0m\u001b[1;33m\u001b[0m\u001b[1;33m\u001b[0m\u001b[0m\n\u001b[0;32m      9\u001b[0m \u001b[0mprint\u001b[0m\u001b[1;33m(\u001b[0m\u001b[0mp\u001b[0m\u001b[1;33m.\u001b[0m\u001b[0mname\u001b[0m\u001b[1;33m)\u001b[0m\u001b[1;33m\u001b[0m\u001b[1;33m\u001b[0m\u001b[0m\n\u001b[1;32m---> 10\u001b[1;33m \u001b[0mprint\u001b[0m\u001b[1;33m(\u001b[0m\u001b[0mp\u001b[0m\u001b[1;33m.\u001b[0m\u001b[0m__age\u001b[0m\u001b[1;33m)\u001b[0m\u001b[1;33m\u001b[0m\u001b[1;33m\u001b[0m\u001b[0m\n\u001b[0m\u001b[0;32m     11\u001b[0m \u001b[1;33m\u001b[0m\u001b[0m\n\u001b[0;32m     12\u001b[0m \u001b[0mp\u001b[0m\u001b[1;33m.\u001b[0m\u001b[0m_Person__age\u001b[0m \u001b[1;33m=\u001b[0m \u001b[1;36m20\u001b[0m\u001b[1;33m\u001b[0m\u001b[1;33m\u001b[0m\u001b[0m\n",
      "\u001b[1;31mAttributeError\u001b[0m: 'Person' object has no attribute '__age'"
     ]
    }
   ],
   "source": [
    "class Person():\n",
    "    # name 是共有的成员\n",
    "    name = '小甲鱼'\n",
    "    # __age 是私有成员\n",
    "    __age = 18\n",
    "    \n",
    "p = Person()\n",
    "# name 是公有变量\n",
    "print(p.name)\n",
    "print(p.__age)\n"
   ]
  },
  {
   "cell_type": "code",
   "execution_count": 28,
   "metadata": {},
   "outputs": [
    {
     "name": "stdout",
     "output_type": "stream",
     "text": [
      "{'__module__': '__main__', 'name': '小甲鱼', '_Person__age': 18, '__dict__': <attribute '__dict__' of 'Person' objects>, '__weakref__': <attribute '__weakref__' of 'Person' objects>, '__doc__': None}\n",
      "20\n"
     ]
    }
   ],
   "source": [
    "print(Person.__dict__)\n",
    "\n",
    "p._Person__age = 20\n",
    "print(p._Person__age)"
   ]
  },
  {
   "cell_type": "markdown",
   "metadata": {},
   "source": [
    "# 继承"
   ]
  },
  {
   "cell_type": "markdown",
   "metadata": {},
   "source": [
    "继承就是一个类可以获得另一个类中的成员属性和成员方法"
   ]
  },
  {
   "cell_type": "markdown",
   "metadata": {},
   "source": [
    "作用：减少代码，增加代码的复用功能，同时可以设置类与类直接的关系"
   ]
  },
  {
   "cell_type": "code",
   "execution_count": 30,
   "metadata": {},
   "outputs": [
    {
     "name": "stdout",
     "output_type": "stream",
     "text": [
      "小甲鱼\n",
      "小甲鱼\n"
     ]
    }
   ],
   "source": [
    "# 继承的语法\n",
    "# 在python 中 任何类都有一个共同的父类叫 object\n",
    "class Person():\n",
    "    name = '小甲鱼'\n",
    "    age = 0\n",
    "    def sleep(self):\n",
    "        print('sleeping.........')\n",
    "\n",
    "# 父类写在括号内\n",
    "class Teacher(Person):\n",
    "    pass\n",
    "\n",
    "t = Teacher()\n",
    "print(t.name)\n",
    "print(Teacher.name)\n",
    "\n",
    "    \n"
   ]
  },
  {
   "cell_type": "code",
   "execution_count": 34,
   "metadata": {},
   "outputs": [
    {
     "name": "stdout",
     "output_type": "stream",
     "text": [
      "working........\n",
      "I am flying.......\n",
      "I am swimming,.......\n"
     ]
    }
   ],
   "source": [
    "class Fish( ):\n",
    "     def __init__(self, name):\n",
    "            self.name = name\n",
    "     def swim(self):\n",
    "        print('I am swimming,.......')\n",
    "        \n",
    "class Bird( ):\n",
    "    def __init__(self, name):\n",
    "        self.name = name\n",
    "    def fly(self):\n",
    "        print('I am flying.......')\n",
    "        \n",
    "class Person( ):\n",
    "    def __init__(self, name):\n",
    "        self.name = name\n",
    "    def workd(self):\n",
    "        print('working........')\n",
    "        \n",
    "class SuperMan(Person, Bird, Fish):\n",
    "    def __init__(self, name):\n",
    "        self.name = name\n",
    "        \n",
    "s = SuperMan('小甲鱼')\n",
    "s.workd()\n",
    "s.fly()\n",
    "s.swim()\n",
    "    \n",
    "    "
   ]
  },
  {
   "cell_type": "markdown",
   "metadata": {},
   "source": [
    "# 构造函数"
   ]
  },
  {
   "cell_type": "code",
   "execution_count": 7,
   "metadata": {},
   "outputs": [
    {
     "name": "stdout",
     "output_type": "stream",
     "text": [
      "hahahahaha\n",
      "hahah\n"
     ]
    }
   ],
   "source": [
    "class Person():\n",
    "    def __init__(self):\n",
    "        self.name = 'noname'\n",
    "        self.age = 18\n",
    "        self.addr = '通州'\n",
    "        print('hahahahaha')\n",
    "        \n",
    "p = Person()\n",
    "p.name = 'hahah'\n",
    "print(p.name)\n",
    "    \n",
    "    "
   ]
  },
  {
   "cell_type": "code",
   "execution_count": 10,
   "metadata": {},
   "outputs": [
    {
     "name": "stdout",
     "output_type": "stream",
     "text": [
      "B\n"
     ]
    }
   ],
   "source": [
    "class A():\n",
    "    def  __init__(self):\n",
    "        print('A')\n",
    "    \n",
    "class B(A):\n",
    "    def __init__(self):\n",
    "        print('B')\n",
    "        \n",
    "class C(B):\n",
    "    pass\n",
    "\n",
    "c = C()\n",
    "    \n",
    "        "
   ]
  },
  {
   "cell_type": "code",
   "execution_count": 1,
   "metadata": {},
   "outputs": [
    {
     "name": "stdout",
     "output_type": "stream",
     "text": [
      "B\n",
      "xiaojiayu\n",
      "这是C中附加的功能\n"
     ]
    }
   ],
   "source": [
    "class A():\n",
    "    def  __init__(self):\n",
    "        print('A')\n",
    "    \n",
    "class B(A):\n",
    "    def __init__(self,name):\n",
    "        print('B')\n",
    "        print(name)\n",
    "        \n",
    "class C(B):\n",
    "    def __init__(self,name):\n",
    "        # 首先 调用父类的构造函数\n",
    "        B.__init__(self,name)\n",
    "        # 其次 在增加自己的功能\n",
    "        print('这是C中附加的功能')\n",
    "        \n",
    "c = C('xiaojiayu')"
   ]
  },
  {
   "cell_type": "markdown",
   "metadata": {},
   "source": [
    "# issubclass 判断一个类是否是另一个类的子集"
   ]
  },
  {
   "cell_type": "code",
   "execution_count": 5,
   "metadata": {},
   "outputs": [
    {
     "name": "stdout",
     "output_type": "stream",
     "text": [
      "True\n",
      "False\n",
      "True\n"
     ]
    }
   ],
   "source": [
    "class A():\n",
    "    pass\n",
    "class B(A):\n",
    "    pass\n",
    "class C():\n",
    "    pass\n",
    "\n",
    "print(issubclass(B,A))\n",
    "print(issubclass(C,A))\n",
    "print(issubclass(C,object))"
   ]
  },
  {
   "cell_type": "markdown",
   "metadata": {},
   "source": [
    "# isinstance 检测一个对象是否是一个类的实例"
   ]
  },
  {
   "cell_type": "code",
   "execution_count": 8,
   "metadata": {},
   "outputs": [
    {
     "name": "stdout",
     "output_type": "stream",
     "text": [
      "True\n",
      "False\n"
     ]
    }
   ],
   "source": [
    "class A():\n",
    "    pass\n",
    "\n",
    "a = A()\n",
    "print(isinstance(a,A) )\n",
    "print(isinstance(A,A))"
   ]
  },
  {
   "cell_type": "markdown",
   "metadata": {},
   "source": [
    "# hasattr 检测一个对象是否由成员xxx"
   ]
  },
  {
   "cell_type": "code",
   "execution_count": 10,
   "metadata": {},
   "outputs": [
    {
     "name": "stdout",
     "output_type": "stream",
     "text": [
      "True\n",
      "False\n"
     ]
    }
   ],
   "source": [
    "class A():\n",
    "    name = '小甲鱼'\n",
    "    \n",
    "a = A()\n",
    "print(hasattr(a, 'name'))\n",
    "print(hasattr(a, 'age'))"
   ]
  }
 ],
 "metadata": {
  "kernelspec": {
   "display_name": "Python 3",
   "language": "python",
   "name": "python3"
  },
  "language_info": {
   "codemirror_mode": {
    "name": "ipython",
    "version": 3
   },
   "file_extension": ".py",
   "mimetype": "text/x-python",
   "name": "python",
   "nbconvert_exporter": "python",
   "pygments_lexer": "ipython3",
   "version": "3.7.1"
  }
 },
 "nbformat": 4,
 "nbformat_minor": 2
}
