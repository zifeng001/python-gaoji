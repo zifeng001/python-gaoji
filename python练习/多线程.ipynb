{
 "cells": [
  {
   "cell_type": "markdown",
   "metadata": {},
   "source": [
    "# 多线程 VS 多进程\n",
    "- 程序：一堆代码以文本形式存入一个文档\n",
    "- 进程：程序运行的一个状态\n",
    "    - 包含地址空间，内存，数据栈等\n",
    "    - 每个进程都有自己独立的运行环境， 多进程共享数据是一个问题\n",
    "- 线程\n",
    "    - 一个进程的独立运行片段，一个进程可以由多个线程\n",
    "    - 轻量化的进程\n",
    "    - 共享互斥问题\n",
    "- 全局解释器锁（GIL）\n",
    "    - Python 代码执行由python虚拟机控制\n",
    "    - 在主循环中只能由一个控制线程在执行\n",
    "    "
   ]
  },
  {
   "cell_type": "code",
   "execution_count": 1,
   "metadata": {},
   "outputs": [
    {
     "name": "stdout",
     "output_type": "stream",
     "text": [
      "starting at:  Mon Feb 25 22:49:27 2019\n",
      "start loop1 at:  Mon Feb 25 22:49:27 2019\n",
      "end loop1 at:  Mon Feb 25 22:49:31 2019\n",
      "start loop2 at:  Mon Feb 25 22:49:31 2019\n",
      "end loop1 at:  Mon Feb 25 22:49:33 2019\n",
      "all done at:  Mon Feb 25 22:49:33 2019\n"
     ]
    }
   ],
   "source": [
    "import time\n",
    "def loop1():\n",
    "    print('start loop1 at: ', time.ctime())\n",
    "    time.sleep(4)\n",
    "    print('end loop1 at: ', time.ctime())\n",
    "    \n",
    "    \n",
    "def loop2():\n",
    "    print('start loop2 at: ', time.ctime())\n",
    "    time.sleep(2)\n",
    "    print('end loop1 at: ', time.ctime())\n",
    "    \n",
    "    \n",
    "def main():\n",
    "    print('starting at: ', time.ctime())\n",
    "    loop1()\n",
    "    loop2()\n",
    "    print('all done at: ', time.ctime())\n",
    "    \n",
    "    \n",
    "if __name__ == '__main__':\n",
    "    main()\n",
    "    \n",
    "    "
   ]
  },
  {
   "cell_type": "code",
   "execution_count": null,
   "metadata": {},
   "outputs": [
    {
     "name": "stdout",
     "output_type": "stream",
     "text": [
      "starting at:  Mon Feb 25 23:16:13 2019\n",
      "all done at:  Mon Feb 25 23:16:13 2019\n",
      "start loop1 at:  Mon Feb 25 23:16:13 2019\n",
      "start loop2 at:  Mon Feb 25 23:16:13 2019\n",
      "end loop2 at:  Mon Feb 25 23:16:15 2019\n",
      "end loop1 at:  Mon Feb 25 23:16:17 2019\n"
     ]
    }
   ],
   "source": [
    "import time\n",
    "import _thread as thread\n",
    "def loop1():\n",
    "    print('start loop1 at: ', time.ctime())\n",
    "    time.sleep(4)\n",
    "    print('end loop1 at: ', time.ctime())\n",
    "    \n",
    "    \n",
    "def loop2():\n",
    "    print('start loop2 at: ', time.ctime())\n",
    "    time.sleep(2)\n",
    "    print('end loop2 at: ', time.ctime())\n",
    "    \n",
    "    \n",
    "def main():\n",
    "    print('starting at: ', time.ctime())\n",
    "    thread.start_new_thread(loop1, ())\n",
    "    thread.start_new_thread(loop2, ())\n",
    "    print('all done at: ', time.ctime())\n",
    "    \n",
    "    \n",
    "if __name__ == '__main__':\n",
    "    main()\n",
    "    while True:\n",
    "        time.sleep(1)"
   ]
  },
  {
   "cell_type": "code",
   "execution_count": null,
   "metadata": {},
   "outputs": [
    {
     "name": "stdout",
     "output_type": "stream",
     "text": [
      "starting at:  Tue Feb 26 12:30:26 2019\n",
      "all done at:  Tue Feb 26 12:30:26 2019\n",
      "start loop1 at:  Tue Feb 26 12:30:26 2019\n",
      "我是参数 小甲鱼\n",
      "start loop2 at:  Tue Feb 26 12:30:26 2019\n",
      "我是参数 王大 和参数 王二\n",
      "end loop2 at:  Tue Feb 26 12:30:28 2019\n",
      "end loop1 at:  Tue Feb 26 12:30:30 2019\n"
     ]
    }
   ],
   "source": [
    "# 多线程，传参数\n",
    "import time\n",
    "import _thread as thread\n",
    "\n",
    "def loop1(in1):\n",
    "    print('start loop1 at: ', time.ctime())\n",
    "    print('我是参数', in1)\n",
    "    time.sleep(4)\n",
    "    print('end loop1 at: ', time.ctime())\n",
    "    \n",
    "def loop2(in1, in2):\n",
    "    print('start loop2 at: ', time.ctime())\n",
    "    print('我是参数', in1, '和参数', in2)\n",
    "    time.sleep(2)\n",
    "    print('end loop2 at: ', time.ctime())\n",
    "    \n",
    "def main():\n",
    "    print('starting at: ', time.ctime())\n",
    "    thread.start_new_thread(loop1, ('小甲鱼',))\n",
    "    thread.start_new_thread(loop2, ('王大', '王二'))\n",
    "    print('all done at: ', time.ctime())\n",
    "    \n",
    "    \n",
    "if __name__ == '__main__':\n",
    "    main()\n",
    "    while True:\n",
    "        time.sleep(10)\n",
    "    \n",
    "    "
   ]
  },
  {
   "cell_type": "markdown",
   "metadata": {},
   "source": [
    "# threading的使用\n",
    "- 直接利用threading.Thread 生成 Thread 的实例\n",
    "    - t = threading.Thread(target=xxx, args=(xxx, ))\n",
    "    - t.start()  启动多线程\n",
    "    - t.join()   等待多线程执行完成"
   ]
  },
  {
   "cell_type": "code",
   "execution_count": null,
   "metadata": {},
   "outputs": [],
   "source": [
    "import time\n",
    "import threading\n",
    "\n",
    "def loop1(in1):\n",
    "    print('start loop1 at: ', time.ctime())\n",
    "    print('我是参数', in1)\n",
    "    time.sleep(4)\n",
    "    print('end loop1 at: ', time.ctime())\n",
    "    \n",
    "def loop2(in1, in2):\n",
    "    print('start loop2 at: ', time.ctime())\n",
    "    print('我是参数', in1, '和参数', in2)\n",
    "    time.sleep(2)\n",
    "    print('end loop2 at: ', time.ctime())\n",
    "    \n",
    "def main():\n",
    "    print('starting at: ', time.ctime())\n",
    "    t1 = threading.Thread(target=loop1, args=('小鲫鱼,'))\n",
    "    t1.start()\n",
    "    t2 = threading.Thread(target=loop2, args=('王大', '王二'))\n",
    "    t2.start()\n",
    "    t1.join()\n",
    "    t2.join()\n",
    "    print('all done at: ', time.ctime()\n",
    "          \n",
    "if __name__ == '__main__':\n",
    "    main()"
   ]
  },
  {
   "cell_type": "markdown",
   "metadata": {},
   "source": [
    "# 守护线程- daemon\n",
    "- 如果在程序中将子线程设置成守护线程，则子线程会在主线程结束时候退出"
   ]
  },
  {
   "cell_type": "code",
   "execution_count": null,
   "metadata": {},
   "outputs": [],
   "source": [
    "import time\n",
    "import threading\n",
    "def fun():\n",
    "    print('start fun')\n",
    "    time.sleep(2)\n",
    "    print('end fun')\n",
    "print('main thread')\n",
    "t1 = threading.Thread(target=fun, args())\n",
    "t1.start()\n",
    "\n",
    "time.sleep(1)\n",
    "print('main thread end')"
   ]
  },
  {
   "cell_type": "code",
   "execution_count": null,
   "metadata": {},
   "outputs": [],
   "source": [
    "import time\n",
    "import threading\n",
    "def fun():\n",
    "    print('start fun')\n",
    "    time.sleep(2)\n",
    "    print('end fun')\n",
    "print('main thread')\n",
    "t1 = threading.Thread(target=fun, args())\n",
    "# 守护线程必须在start之前设置\n",
    "t1.setDaemon(True)\n",
    "t1.start()\n",
    "\n",
    "\n",
    "time.sleep(1)\n",
    "print('main thread end')"
   ]
  },
  {
   "cell_type": "markdown",
   "metadata": {},
   "source": [
    "# 线程常用变量\n",
    "- threading.currentThread  返回当前线程变量\n",
    "- threading.enumerate   返回一个包含正在运行线程的list \n",
    "- threading.activeCount   返回正在运行线程的数量，  效果和len(threading.enumerate)相同\n",
    "- thr.setName   给线程设置名字\n",
    "- thr.getName   得到线程的名字"
   ]
  },
  {
   "cell_type": "code",
   "execution_count": null,
   "metadata": {},
   "outputs": [],
   "source": [
    "# 共享变量\n",
    "-  共享变量， 多个线程同时访问一个变量的时候， 会产生共享变量的问题"
   ]
  },
  {
   "cell_type": "code",
   "execution_count": 4,
   "metadata": {},
   "outputs": [
    {
     "name": "stdout",
     "output_type": "stream",
     "text": [
      "starting.......0\n",
      "done..........0\n"
     ]
    }
   ],
   "source": [
    "import threading\n",
    "\n",
    "sum = 0\n",
    "loopsum = 10000\n",
    "\n",
    "def myadd():\n",
    "    global sum, loopsum \n",
    "    for i in range(1,loopsum):\n",
    "        sum += 1\n",
    "        \n",
    "def myminu():\n",
    "    global sum, loopsum\n",
    "    for i in range(1, loopsum):\n",
    "        sum -= 1\n",
    "   \n",
    "        \n",
    "if __name__ == '__main__':\n",
    "    print('starting.......{0}'.format(sum))\n",
    "    \n",
    "    t1 = threading.Thread(target=myadd, args=())\n",
    "    t2 = threading.Thread(target=myminu, args=())\n",
    "    \n",
    "    t1.start()\n",
    "    t2.start()\n",
    "    \n",
    "    t1.join()\n",
    "    t2.join()\n",
    "    \n",
    "    print('done..........{0}'.format(sum))"
   ]
  },
  {
   "cell_type": "code",
   "execution_count": null,
   "metadata": {},
   "outputs": [],
   "source": [
    "- 解决方式 锁（lock）\n",
    "    - 是一个标志，表示一个线程在占用一些资源\n",
    "    - 使用方法\n",
    "        - 上锁\n",
    "        - 使用共享资源，放心用\n",
    "        - 取消锁，释放锁\n",
    "    - 锁谁？\n",
    "        - 哪个资源需要多个线程共享，锁哪个\n",
    "        - 锁其实不是锁住谁，而是一个令牌"
   ]
  },
  {
   "cell_type": "code",
   "execution_count": 2,
   "metadata": {},
   "outputs": [
    {
     "name": "stdout",
     "output_type": "stream",
     "text": [
      "starting.......0\n",
      "done..........0\n"
     ]
    }
   ],
   "source": [
    "import threading\n",
    "\n",
    "sum = 0\n",
    "loopsum = 10000\n",
    "\n",
    "# 申请锁\n",
    "lock = threading.Lock()\n",
    "\n",
    "def myadd():\n",
    "    global sum, loopsum \n",
    "    for i in range(1,loopsum):\n",
    "        # 上锁\n",
    "        lock.acquire()\n",
    "        sum += 1\n",
    "        # 释放锁\n",
    "        lock.release()\n",
    "        \n",
    "def myminu():\n",
    "    global sum, loopsum\n",
    "    for i in range(1, loopsum):\n",
    "        lock.acquire()\n",
    "        sum -= 1\n",
    "        lock.release()\n",
    "        \n",
    "if __name__ == '__main__':\n",
    "    print('starting.......{0}'.format(sum))\n",
    "    \n",
    "    t1 = threading.Thread(target=myadd, args=())\n",
    "    t2 = threading.Thread(target=myminu, args=())\n",
    "    \n",
    "    t1.start()\n",
    "    t2.start()\n",
    "    \n",
    "    t1.join()\n",
    "    t2.join()\n",
    "    \n",
    "    print('done..........{0}'.format(sum))\n",
    "        "
   ]
  },
  {
   "cell_type": "markdown",
   "metadata": {},
   "source": [
    "# 线程安全问题\n",
    "- 如果一个资源或变量，他对于多线程来讲， 不用加锁也不会引起任何问题， 则称为线程安全\n",
    "- 线程不安全变量类型：list, set, dict\n",
    "- 线程安全变量类型：queue(队列)"
   ]
  },
  {
   "cell_type": "code",
   "execution_count": null,
   "metadata": {},
   "outputs": [],
   "source": [
    "# 生产者消费者问题\n",
    "- 一个模型，可以用来搭建消息队列\n",
    "- queue 是一个用来存放变量的数据结构，特点是先进先出， 内部元素排队， 可以理解成一个特殊的list"
   ]
  },
  {
   "cell_type": "code",
   "execution_count": 6,
   "metadata": {},
   "outputs": [
    {
     "ename": "SyntaxError",
     "evalue": "invalid character in identifier (<ipython-input-6-25b8e198d982>, line 34)",
     "output_type": "error",
     "traceback": [
      "\u001b[1;36m  File \u001b[1;32m\"<ipython-input-6-25b8e198d982>\"\u001b[1;36m, line \u001b[1;32m34\u001b[0m\n\u001b[1;33m    queue.put('初始产品'+str（i))\u001b[0m\n\u001b[1;37m                         ^\u001b[0m\n\u001b[1;31mSyntaxError\u001b[0m\u001b[1;31m:\u001b[0m invalid character in identifier\n"
     ]
    }
   ],
   "source": [
    "import time\n",
    "import threading\n",
    "import queue\n",
    "\n",
    "class Producer(threading.Thread):\n",
    "    def run(self):\n",
    "        global queue\n",
    "        count = 0\n",
    "        while True:\n",
    "            if queue.qsize() < 800:\n",
    "                for i in range(100):\n",
    "                    count = count + 1\n",
    "                    msg = '生成产品' + str(count)\n",
    "                    queue.put(msg)\n",
    "                    print(msg)\n",
    "            time.sleep(0.5)\n",
    "            \n",
    "class Consumer(threading.Thread):\n",
    "    def run(self):\n",
    "        global queue\n",
    "        while True:\n",
    "            if queue.qsize() > 100:\n",
    "                for i in range(3):\n",
    "                    # get 是从queue 中取出一个值\n",
    "                    msg = self.name + '消费了' + queue.get()\n",
    "                    print(msg)\n",
    "            time.sleep(1)\n",
    "            \n",
    "            \n",
    "if __name__ == '__main__':\n",
    "    queue = queue.Queue\n",
    "    \n",
    "    for i in range(500):\n",
    "        queue.put('初始产品'+str（i))\n",
    "    for i in range(2):\n",
    "        p = Producer()\n",
    "        p.start()\n",
    "    for i in range(5):\n",
    "        c = Consumer()\n",
    "        c.start()"
   ]
  },
  {
   "cell_type": "code",
   "execution_count": 7,
   "metadata": {},
   "outputs": [],
   "source": [
    "import threading\n",
    "import time\n",
    "\n",
    "lock1 = threading.Lock()\n",
    "lock2 = threading.Lock()\n",
    "\n",
    "def fun_1():\n",
    "    print('fun_1 starting.........')\n",
    "    lock1.acquire()\n",
    "    print('fun_1 申请了lock1')\n",
    "    time.sleep(2)\n",
    "    \n",
    "    lock2.acquire()\n",
    "    print('fun_1 申请了lock2')\n",
    "    \n",
    "    lock2.release()\n",
    "    lock1.release()\n",
    "    \n",
    "    print('func_1 done')"
   ]
  },
  {
   "cell_type": "markdown",
   "metadata": {},
   "source": [
    "# 线程替代方案\n",
    "- subprocess \n",
    "    - 完全跳过线程，使用进程\n",
    "    - 是派生进程的主要替代方案\n",
    "    \n",
    "- multiprocessiong\n",
    "    - 使用threading 接口派生，使用子进程\n",
    "    - 允许多核或多CPU 派生进程， 接口和threading相似\n",
    "- concurrent.futures\n",
    "    - 新的异步执行模块\n",
    "    - 任务级别的操作\n",
    "    "
   ]
  },
  {
   "cell_type": "code",
   "execution_count": null,
   "metadata": {},
   "outputs": [],
   "source": [
    "# 多线程\n",
    "- 进程之间通讯（IPC）\n",
    "- 进程之间无任何共享状态\n",
    "- 进程的创建"
   ]
  },
  {
   "cell_type": "code",
   "execution_count": null,
   "metadata": {},
   "outputs": [],
   "source": []
  }
 ],
 "metadata": {
  "kernelspec": {
   "display_name": "Python 3",
   "language": "python",
   "name": "python3"
  },
  "language_info": {
   "codemirror_mode": {
    "name": "ipython",
    "version": 3
   },
   "file_extension": ".py",
   "mimetype": "text/x-python",
   "name": "python",
   "nbconvert_exporter": "python",
   "pygments_lexer": "ipython3",
   "version": "3.7.1"
  }
 },
 "nbformat": 4,
 "nbformat_minor": 2
}
