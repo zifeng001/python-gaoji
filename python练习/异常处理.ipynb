{
 "cells": [
  {
   "cell_type": "code",
   "execution_count": 2,
   "metadata": {},
   "outputs": [
    {
     "name": "stdout",
     "output_type": "stream",
     "text": [
      "plz input your number：0\n",
      "输入的啥玩意\n"
     ]
    }
   ],
   "source": [
    "# 简单异常案例\n",
    "try:\n",
    "    num = int(input('plz input your number：'))\n",
    "    rst = 100/num\n",
    "    print('计算的结果是: {0}'.format(rst))\n",
    "except:\n",
    "    print('输入的啥玩意')\n",
    "    # exit 是退出程序的意思\n",
    "    exit()"
   ]
  },
  {
   "cell_type": "code",
   "execution_count": null,
   "metadata": {},
   "outputs": [],
   "source": [
    "# 简单异常案例\n",
    "# 给出提示信息\n",
    "try:\n",
    "    num = int(input('plz input your number：'))\n",
    "    rst = 100/num\n",
    "    print('计算的结果是: {0}'.format(rst))\n",
    "    \n",
    "    # 以下语句是捕获ZeroDivisionError异常并实例化e\n",
    "except ZeroDivisionError as e:\n",
    "    print('输入的啥玩意')\n",
    "    print(e)\n",
    "    # exit 是退出程序的意思\n",
    "    exit()"
   ]
  },
  {
   "cell_type": "code",
   "execution_count": null,
   "metadata": {},
   "outputs": [],
   "source": []
  },
  {
   "cell_type": "code",
   "execution_count": null,
   "metadata": {},
   "outputs": [],
   "source": [
    "# 简单异常案例\n",
    "# 给出提示信息\n",
    "try:\n",
    "    num = int(input('plz input your number：'))\n",
    "    rst = 100/num\n",
    "    pritn('计算的结果是: {0}'.format(rst))\n",
    "    \n",
    "    # 以下语句是捕获ZeroDivisionError异常并实例化e\n",
    "except ZeroDivisionError as e:\n",
    "    print('输入的啥玩意')\n",
    "    print(e)\n",
    "    # exit 是退出程序的意思\n",
    "    exit()\n",
    "except NameError as e:\n",
    "    print('名字起错了')\n",
    "    print(e)\n",
    "    exit()\n",
    "except AttributeError as e:\n",
    "    print('好像属性有问题啊')\n",
    "    print(e)\n",
    "    exit()\n",
    "    \n",
    "    # 所有异常都是继承自Exception\n",
    "    # 如果写上下面这段话，任何异常都会拦截住\n",
    "    # 而且下面一段话 一定是最后一个exception\n",
    "except Exception as e:\n",
    "    print('我也不知道哪里出错了')\n",
    "    print(e)"
   ]
  },
  {
   "cell_type": "markdown",
   "metadata": {},
   "source": [
    "# 用户手动引发异常"
   ]
  },
  {
   "cell_type": "code",
   "execution_count": null,
   "metadata": {},
   "outputs": [],
   "source": [
    "# 当某些情况的时候，用户希望自己引发一个异常，可以使用raise 关键字引发异常"
   ]
  },
  {
   "cell_type": "code",
   "execution_count": null,
   "metadata": {},
   "outputs": [],
   "source": [
    "# raise 案例\n",
    "try:\n",
    "    print('我叫小甲鱼')\n",
    "    print（'3.14'）\n",
    "    # 手动引发一个异常\n",
    "    # 注意语法  raise ErrorClassName\n",
    "    raise ValueError\n",
    "    pirnt('还没玩哈')\n",
    "    \n",
    "except NmseError as e:\n",
    "    print('NameError')\n",
    "except ValueError as e:\n",
    "    print('ValueError')\n",
    "except Exception as e:\n",
    "    print('有异常')\n",
    "finally:\n",
    "    print('我肯定会被执行的')"
   ]
  }
 ],
 "metadata": {
  "kernelspec": {
   "display_name": "Python 3",
   "language": "python",
   "name": "python3"
  },
  "language_info": {
   "codemirror_mode": {
    "name": "ipython",
    "version": 3
   },
   "file_extension": ".py",
   "mimetype": "text/x-python",
   "name": "python",
   "nbconvert_exporter": "python",
   "pygments_lexer": "ipython3",
   "version": "3.7.1"
  }
 },
 "nbformat": 4,
 "nbformat_minor": 2
}
