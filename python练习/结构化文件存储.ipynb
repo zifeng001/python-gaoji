{
 "cells": [
  {
   "cell_type": "markdown",
   "metadata": {},
   "source": [
    "# 结构化文件存储\n",
    "- xml, json\n",
    "- 为了解决不同设备之间的信息交换\n",
    "- XML 可扩展标记语言\n",
    "    - 标记语言，语言中使用尖括号括起来的文本字符串标记\n",
    "    - 可扩展， 用户可以自己定义需要的标记\n",
    "    - 是w3c 组织制定的标准\n",
    "- XML 描述的是数据本身，即数据的结构和语意\n",
    "- HTML 侧重于如何显示WEB页面中的数据"
   ]
  },
  {
   "cell_type": "markdown",
   "metadata": {},
   "source": [
    "- XML的构成\n",
    "    - 处理指令（可以认为一个文件内只有一个处理指令）\n",
    "        - 最多只有一行，且必须在第一行\n",
    "        - 内容是与XML本身处理相关的一些声明或指令\n",
    "    - 根元素（一个文件只有一个根元素）\n",
    "        - 在整个XML文件中，可以看做是一个树形结构\n",
    "    - 子元素\n",
    "    - 属性\n",
    "    - 内容\n",
    "        - 表明标签存储的信息\n",
    "    - 注释 <-- 内容 --->\n",
    "        - 起说明作用的信息"
   ]
  },
  {
   "cell_type": "code",
   "execution_count": null,
   "metadata": {},
   "outputs": [],
   "source": [
    "- 保留字符的处理\n",
    "    - XML的符号可能和实际符号相冲突， 典型的就是左右尖括号\n",
    "    - 使用实体引用，来表示保留字符\n",
    "    "
   ]
  }
 ],
 "metadata": {
  "kernelspec": {
   "display_name": "Python 3",
   "language": "python",
   "name": "python3"
  },
  "language_info": {
   "codemirror_mode": {
    "name": "ipython",
    "version": 3
   },
   "file_extension": ".py",
   "mimetype": "text/x-python",
   "name": "python",
   "nbconvert_exporter": "python",
   "pygments_lexer": "ipython3",
   "version": "3.7.1"
  }
 },
 "nbformat": 4,
 "nbformat_minor": 2
}
