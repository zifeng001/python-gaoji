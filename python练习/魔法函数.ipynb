{
 "cells": [
  {
   "cell_type": "markdown",
   "metadata": {},
   "source": [
    "## __init__ 构造函数"
   ]
  },
  {
   "cell_type": "code",
   "execution_count": 2,
   "metadata": {},
   "outputs": [
    {
     "name": "stdout",
     "output_type": "stream",
     "text": [
      "haha, 我被调用了\n"
     ]
    }
   ],
   "source": [
    "class A():\n",
    "    def __init__(self,name = 0):\n",
    "        print('haha, 我被调用了')\n",
    "        \n",
    "a = A()\n",
    "    "
   ]
  },
  {
   "cell_type": "markdown",
   "metadata": {},
   "source": [
    "# __new__ 对象实例化方法，此函数比较特殊，一般不需要使用"
   ]
  },
  {
   "cell_type": "markdown",
   "metadata": {},
   "source": [
    "# __call__  对象当函数使用的时候触发"
   ]
  },
  {
   "cell_type": "code",
   "execution_count": 5,
   "metadata": {},
   "outputs": [
    {
     "name": "stdout",
     "output_type": "stream",
     "text": [
      "haha, 我被调用了\n",
      "我又被调用了一次\n"
     ]
    }
   ],
   "source": [
    "class A():\n",
    "    def __init__(self,name = 0):\n",
    "        print('haha, 我被调用了')\n",
    "        \n",
    "    def __call__(self):\n",
    "        print('我又被调用了一次')\n",
    "        \n",
    "a = A()\n",
    "a()"
   ]
  },
  {
   "cell_type": "markdown",
   "metadata": {},
   "source": [
    "# __str__ 当对象被当做字符串使用的时候调用"
   ]
  },
  {
   "cell_type": "code",
   "execution_count": 1,
   "metadata": {},
   "outputs": [
    {
     "name": "stdout",
     "output_type": "stream",
     "text": [
      "haha, 我被调用了\n",
      "lalalalala\n"
     ]
    }
   ],
   "source": [
    "class A():\n",
    "    def __init__(self,name = 0):\n",
    "        print('haha, 我被调用了')\n",
    "        \n",
    "    def __call__(self):\n",
    "        print('我又被调用了一次')\n",
    "        \n",
    "    def __str__(self):\n",
    "        return('lalalalala')\n",
    "        \n",
    "a = A()\n",
    "print(a)"
   ]
  },
  {
   "cell_type": "markdown",
   "metadata": {},
   "source": [
    " # getattr 访问一个不存在的属性时候触发"
   ]
  },
  {
   "cell_type": "code",
   "execution_count": 1,
   "metadata": {},
   "outputs": [
    {
     "name": "stdout",
     "output_type": "stream",
     "text": [
      "20\n",
      "没有找到啊 \n",
      "stu\n",
      "None\n"
     ]
    }
   ],
   "source": [
    "class A():\n",
    "    name = 'xiaojiayu'\n",
    "    age = 20\n",
    "    \n",
    "    def __getattr__(self,name):\n",
    "        print('没有找到啊 ')\n",
    "        print(name)\n",
    "        \n",
    "a = A()\n",
    "print(a.age)\n",
    "print(a.stu)"
   ]
  },
  {
   "cell_type": "markdown",
   "metadata": {},
   "source": [
    "# setattr 对成员属性进行设置的时候触发"
   ]
  },
  {
   "cell_type": "code",
   "execution_count": 7,
   "metadata": {},
   "outputs": [
    {
     "name": "stdout",
     "output_type": "stream",
     "text": [
      "{}\n",
      "设置属性：age\n"
     ]
    }
   ],
   "source": [
    "class Person():\n",
    "    def __init__(self):\n",
    "        pass\n",
    "    \n",
    "    def __setattr__(self, name, value):\n",
    "        print('设置属性：{0}'.format(name))\n",
    "        \n",
    "        \n",
    "p = Person()\n",
    "print(p.__dict__)\n",
    "p.age = 20"
   ]
  },
  {
   "cell_type": "code",
   "execution_count": null,
   "metadata": {},
   "outputs": [],
   "source": []
  }
 ],
 "metadata": {
  "kernelspec": {
   "display_name": "Python 3",
   "language": "python",
   "name": "python3"
  },
  "language_info": {
   "codemirror_mode": {
    "name": "ipython",
    "version": 3
   },
   "file_extension": ".py",
   "mimetype": "text/x-python",
   "name": "python",
   "nbconvert_exporter": "python",
   "pygments_lexer": "ipython3",
   "version": "3.7.1"
  }
 },
 "nbformat": 4,
 "nbformat_minor": 2
}
