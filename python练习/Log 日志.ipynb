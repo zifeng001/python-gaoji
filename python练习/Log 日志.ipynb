{
 "cells": [
  {
   "cell_type": "markdown",
   "metadata": {},
   "source": [
    "# log\n",
    "- logging 模块，提供模块级别的函数记录日志\n",
    "\n",
    "# #日志的相关概念\n",
    "- 日志的级别（level）\n",
    "    - 不同的用户关注不同的程序信息\n",
    "    - DEBUG 调试\n",
    "    - INFO  信息\n",
    "    - NOTICE  注意\n",
    "    - WARNING  警告\n",
    "    - ERROR 错误\n",
    "    - CRITICAL 危急\n",
    "    - ALERT  警戒\n",
    "    - EMERGENCY 紧急事件"
   ]
  },
  {
   "cell_type": "code",
   "execution_count": null,
   "metadata": {},
   "outputs": [],
   "source": [
    "- Log 的作用\n",
    "    - 调试\n",
    "    - 了解软件的运行情况\n",
    "    - 分析定位问题\n",
    "- 日志信息\n",
    "    - time\n",
    "    - 地点\n",
    "    - level\n",
    "    - 内容\n",
    "- 成熟的第三方日志\n",
    "    - log4j\n",
    "    - log4php\n",
    "    - logging\n",
    "    "
   ]
  },
  {
   "cell_type": "markdown",
   "metadata": {},
   "source": [
    "- 使用方法\n",
    "    - 直接使用logging（封装了其他组件）\n",
    "    - logging 四大组件\n",
    "    \n",
    "- 常用以下几个函数\n",
    "    - logging debug(msg, *args, **kwargs)  创建一条严重级别为DEBUG的日志记录\n",
    "    - logging info(msg, *args, **kwargs)  创建一条严重级别为INFO的日志记录\n",
    "    - logging warning(msg, *args, **kwargs)  创建一条严重级别为WARNING的日志记录\n",
    "    - logging error(msg, *args, **kwargs)  创建一条严重级别为ERROR的日志记录\n",
    "    - logging critical(msg, *args, **kwargs)  创建一条严重级别为CRITICAL的日志记录\n",
    "    - logging log(level, *args, **kwargs)  创建一条严重级别为LEVEL的日志记录\n",
    "    - logging basicConfig( **kwargs)    对root logger 进行一次性配置"
   ]
  },
  {
   "cell_type": "code",
   "execution_count": 2,
   "metadata": {},
   "outputs": [
    {
     "ename": "SyntaxError",
     "evalue": "invalid syntax (<ipython-input-2-988735a38e46>, line 1)",
     "output_type": "error",
     "traceback": [
      "\u001b[1;36m  File \u001b[1;32m\"<ipython-input-2-988735a38e46>\"\u001b[1;36m, line \u001b[1;32m1\u001b[0m\n\u001b[1;33m    - logging basicConfig( **kwargs)    对root logger 进行一次性配置\u001b[0m\n\u001b[1;37m                        ^\u001b[0m\n\u001b[1;31mSyntaxError\u001b[0m\u001b[1;31m:\u001b[0m invalid syntax\n"
     ]
    }
   ],
   "source": [
    "- logging basicConfig( **kwargs)    对root logger 进行一次性配置\n",
    "    - 只在第一次调用的时候，起作用\n",
    "    - 不配置logger 则使用默认值\n",
    "        - 输出：sys.stderr\n",
    "        - 级别：WARNING\n",
    "        - 格式：level:log_name:content"
   ]
  },
  {
   "cell_type": "code",
   "execution_count": 3,
   "metadata": {},
   "outputs": [
    {
     "ename": "SyntaxError",
     "evalue": "invalid syntax (<ipython-input-3-277aa8f17352>, line 1)",
     "output_type": "error",
     "traceback": [
      "\u001b[1;36m  File \u001b[1;32m\"<ipython-input-3-277aa8f17352>\"\u001b[1;36m, line \u001b[1;32m1\u001b[0m\n\u001b[1;33m    conda list\u001b[0m\n\u001b[1;37m             ^\u001b[0m\n\u001b[1;31mSyntaxError\u001b[0m\u001b[1;31m:\u001b[0m invalid syntax\n"
     ]
    }
   ],
   "source": []
  }
 ],
 "metadata": {
  "kernelspec": {
   "display_name": "Python 3",
   "language": "python",
   "name": "python3"
  },
  "language_info": {
   "codemirror_mode": {
    "name": "ipython",
    "version": 3
   },
   "file_extension": ".py",
   "mimetype": "text/x-python",
   "name": "python",
   "nbconvert_exporter": "python",
   "pygments_lexer": "ipython3",
   "version": "3.7.1"
  }
 },
 "nbformat": 4,
 "nbformat_minor": 2
}
