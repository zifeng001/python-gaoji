{
 "cells": [
  {
   "cell_type": "markdown",
   "metadata": {},
   "source": [
    "# 文件\n",
    "- 长久保存信息的一种数据信息集合\n",
    "- 常用操作\n",
    "    - 打开， 关闭（文件一旦打开，需要关闭操作）\n",
    "    - 读写内容\n",
    "    - 查找\n",
    "# open 函数\n",
    "- open函数负责打开文件，带有很多参数\n",
    "- 第一个参数，必须有，文件的路径和名称\n",
    "- mode：表明文件用什么方式打开\n",
    "    - r :以只读方式打开\n",
    "    - w :以写方式打开，会覆盖以前内容\n",
    "    - x :创建方式打开，如果文件已经存在，报错\n",
    "    - a :append方式，以追加的方式对文件内容进行写入\n",
    "    - b :binary方式，二进制方式写入\n",
    "    - t :文本方式打开\n",
    "    - +：可读写"
   ]
  },
  {
   "cell_type": "code",
   "execution_count": 6,
   "metadata": {},
   "outputs": [],
   "source": [
    "# 打开文件，用写的方式\n",
    "# r 表示后面字符串的内容不需要转义\n",
    "# f 称之为文件句柄\n",
    "f = open(r'test01.txt', 'a')\n",
    "f.close()"
   ]
  },
  {
   "cell_type": "markdown",
   "metadata": {},
   "source": [
    "# with 语句\n",
    "- with语句使用的技术是一种成为上下文管理协议的技术\n",
    "- 自动判断文件的作用域， 自动关闭不在使用的打开的文件句柄"
   ]
  },
  {
   "cell_type": "code",
   "execution_count": 13,
   "metadata": {},
   "outputs": [
    {
     "name": "stdout",
     "output_type": "stream",
     "text": [
      "锄禾日当午\n",
      "\n",
      "汗滴禾下土\n",
      "\n",
      "谁知盘中餐\n",
      "\n",
      "粒粒皆辛苦\n"
     ]
    }
   ],
   "source": [
    "# with 语句案例\n",
    "\n",
    "with open (r'test01.txt', 'r') as f:\n",
    "    # 按行读取内容\n",
    "    strline = f.readline()\n",
    "    # 此结构能够保证完整读取文件\n",
    "    while strline:\n",
    "        print(strline)\n",
    "        strline = f.readline()"
   ]
  },
  {
   "cell_type": "code",
   "execution_count": 1,
   "metadata": {},
   "outputs": [
    {
     "name": "stdout",
     "output_type": "stream",
     "text": [
      "锄禾日当午\n",
      "\n",
      "汗滴禾下土\n",
      "\n",
      "谁知盘中餐\n",
      "\n",
      "粒粒皆辛苦\n"
     ]
    }
   ],
   "source": [
    "# list 能用打开的文件作为参数，把文件内的每一行内容作为一个元素\n",
    "\n",
    "with open (r'test01.txt', 'r') as f:\n",
    "    # 以打开文件f作为参数，创建列表\n",
    "    l = list(f)\n",
    "    for line in l:\n",
    "        print(line)"
   ]
  },
  {
   "cell_type": "code",
   "execution_count": 4,
   "metadata": {},
   "outputs": [
    {
     "name": "stdout",
     "output_type": "stream",
     "text": [
      "4\n",
      "锄禾日当\n"
     ]
    }
   ],
   "source": [
    "# 按字符读取文件内容\n",
    "# 允许输入参数，决定读取几个字符，如果没有制定，从当前位置读取到结尾\n",
    "\n",
    "with open(r'test01.txt', 'r') as f:\n",
    "    strChar = f.read(4)\n",
    "    print(len(strChar))\n",
    "    print(strChar)"
   ]
  },
  {
   "cell_type": "markdown",
   "metadata": {},
   "source": [
    "# seek (offset, from)\n",
    "- 移动文件读取位置，也叫读取指针\n",
    "- from 的取值范围\n",
    "    - 0 从文件头开始偏移\n",
    "    - 1 从文件当前位置开始偏移\n",
    "    - 2 从文件末开始偏移\n",
    "    \n",
    "- 移动的单位是字节（byte）"
   ]
  },
  {
   "cell_type": "code",
   "execution_count": 6,
   "metadata": {},
   "outputs": [
    {
     "name": "stdout",
     "output_type": "stream",
     "text": [
      "当午\n",
      "汗滴禾下土\n",
      "谁知盘中餐\n",
      "粒粒皆辛苦\n"
     ]
    }
   ],
   "source": [
    "# seek 案例\n",
    "# 打开文件夹后，从第五个字节开始读取\n",
    "\n",
    "# 打开文件指针在0处，即开头\n",
    "with open(r'test01.txt', 'r') as f:\n",
    "    # seek 移动单位是字节\n",
    "    f.seek(6,0)\n",
    "    strChar = f.read()\n",
    "    print(strChar)"
   ]
  },
  {
   "cell_type": "code",
   "execution_count": 7,
   "metadata": {},
   "outputs": [
    {
     "name": "stdout",
     "output_type": "stream",
     "text": [
      "锄禾\n",
      "日当\n",
      "午\n",
      "\n",
      "汗滴\n",
      "禾下\n",
      "土\n",
      "\n",
      "谁知\n",
      "盘中\n",
      "餐\n",
      "\n",
      "粒粒\n",
      "皆辛\n",
      "苦\n"
     ]
    }
   ],
   "source": [
    "# 关于读取文件的练习\n",
    "# 打开文件，2个字符一组读出内容，然后显示再屏幕上\n",
    "# 每读一次，休息一秒钟\n",
    "\n",
    "# 让程序暂停，可以使用time 下的sleep 函数\n",
    "\n",
    "import time\n",
    "\n",
    "with open(r'test01.txt', 'r') as f:\n",
    "    # read 的单位是字符，可以理解成一个汉字就是一个字符\n",
    "    strChar = f.read(2)\n",
    "    while strChar:\n",
    "        print(strChar)\n",
    "        # sleep 参数 单位是秒\n",
    "        time.sleep(1)\n",
    "        strChar = f.read(2)"
   ]
  },
  {
   "cell_type": "code",
   "execution_count": 10,
   "metadata": {},
   "outputs": [
    {
     "name": "stdout",
     "output_type": "stream",
     "text": [
      "8\n",
      "锄禾日当\n",
      "16\n",
      "午\n",
      "汗滴\n",
      "24\n",
      "禾下土\n",
      "\n",
      "32\n",
      "谁知盘中\n",
      "40\n",
      "餐\n",
      "粒粒\n",
      "46\n",
      "皆辛苦\n"
     ]
    }
   ],
   "source": [
    "# tell 函数： 用来显示文件读取指针的当前位置\n",
    "\n",
    "with open(r'test01.txt', 'r') as f:\n",
    "    strChar = f.read(4)\n",
    "    pos = f.tell()\n",
    "    \n",
    "    while strChar:\n",
    "        print(pos)\n",
    "        print(strChar)\n",
    "        \n",
    "        strChar = f.read(4)\n",
    "        pos = f.tell()\n",
    "        \n",
    "# tell 返回数字的单位是byte\n",
    "# read 是以字符为单位"
   ]
  },
  {
   "cell_type": "markdown",
   "metadata": {},
   "source": [
    "# 文件的写操作 - write\n",
    "- write（str）把字符串写入文件\n",
    "- writelines（str）把字符串按行写入文件\n",
    "- 区别\n",
    "    - write 函数参数只能是字符串\n",
    "    - writeline 参数可以是字符串，也可以是字符串序列\n"
   ]
  },
  {
   "cell_type": "code",
   "execution_count": 14,
   "metadata": {},
   "outputs": [],
   "source": [
    "# write 案例\n",
    "# 向文件追加一行诗\n",
    "\n",
    "with open(r'test01.txt', 'a') as f:\n",
    "    f.write('生活不止眼前的苟且\\n还有远方的苟且')\n",
    "    "
   ]
  },
  {
   "cell_type": "code",
   "execution_count": 17,
   "metadata": {},
   "outputs": [],
   "source": [
    "# 也可以直接写入行 用writelines\n",
    "# writelines 表示写入很多行，参数可以是list格式\n",
    "\n",
    "# 用a 方式打开\n",
    "with open(r'test01.txt', 'a') as f:\n",
    "    f.writelines('生活不止眼前的苟且')\n",
    "    f.writelines('\\n还有远方的苟且')"
   ]
  },
  {
   "cell_type": "code",
   "execution_count": 18,
   "metadata": {},
   "outputs": [],
   "source": [
    "l = ['I ', 'have ', 'a ', 'cat ']\n",
    "with open(r'test01.txt', 'a') as f:\n",
    "    f.writelines(l)"
   ]
  },
  {
   "cell_type": "markdown",
   "metadata": {},
   "source": [
    "# 持续化 pickle\n",
    "- 序列化（持久化，落地）：把程序运行中的信息保存在磁盘上\n",
    "- 反序列化：序列化的逆过程\n",
    "- pickle: python 提供的序列化模块\n",
    "- pickle.dump :序列化\n",
    "- pickle.load : 反序列化"
   ]
  },
  {
   "cell_type": "code",
   "execution_count": 3,
   "metadata": {},
   "outputs": [],
   "source": [
    "# 序列化案例\n",
    "import pickle\n",
    "age = 18\n",
    "\n",
    "with open(r'test01.txt', 'wb') as f:\n",
    "    pickle.dump(age, f)"
   ]
  },
  {
   "cell_type": "code",
   "execution_count": 4,
   "metadata": {},
   "outputs": [
    {
     "name": "stdout",
     "output_type": "stream",
     "text": [
      "18\n"
     ]
    }
   ],
   "source": [
    "# 反序列化案例\n",
    "import pickle\n",
    "age = 18\n",
    "\n",
    "with open(r'test01.txt', 'rb') as f:\n",
    "    age = pickle.load(f)\n",
    "    print(age)"
   ]
  },
  {
   "cell_type": "markdown",
   "metadata": {},
   "source": [
    "# 持久化 shelve\n",
    "- 持久化工具\n",
    "- 类似字典， 对kv 对保存数据，存取方式跟字典类似\n",
    "- open  ，close"
   ]
  },
  {
   "cell_type": "code",
   "execution_count": 5,
   "metadata": {},
   "outputs": [],
   "source": [
    "# 使用shelve 创建文件并使用\n",
    "import shelve\n",
    "\n",
    "# shv 相当于一个字典\n",
    "shv = shelve.open(r'shv.db')\n",
    "\n",
    "shv['one'] = 1\n",
    "shv['two'] = 2\n",
    "shv['three'] = 3\n",
    "\n",
    "shv.close()"
   ]
  },
  {
   "cell_type": "code",
   "execution_count": 9,
   "metadata": {},
   "outputs": [
    {
     "name": "stdout",
     "output_type": "stream",
     "text": [
      "1\n",
      "2\n",
      "烦死了\n"
     ]
    }
   ],
   "source": [
    "# shelve 读取案例\n",
    "shv =shelve.open(r'shv.db')\n",
    "try:\n",
    "    print(shv['one'])\n",
    "    print(shv['two'])\n",
    "    print(shv['threee'])\n",
    "\n",
    "except Exception as e:\n",
    "    print('烦死了')\n",
    "    \n",
    "finally:\n",
    "    shv.close()"
   ]
  },
  {
   "cell_type": "code",
   "execution_count": null,
   "metadata": {},
   "outputs": [],
   "source": [
    "# shelve特性\n",
    "- 不支持多个应用并行写入\n",
    "    - 为了解决这个问题，open的时候可以使用flag=r\n",
    "    - "
   ]
  },
  {
   "cell_type": "code",
   "execution_count": null,
   "metadata": {},
   "outputs": [],
   "source": []
  },
  {
   "cell_type": "code",
   "execution_count": null,
   "metadata": {},
   "outputs": [],
   "source": []
  }
 ],
 "metadata": {
  "kernelspec": {
   "display_name": "Python 3",
   "language": "python",
   "name": "python3"
  },
  "language_info": {
   "codemirror_mode": {
    "name": "ipython",
    "version": 3
   },
   "file_extension": ".py",
   "mimetype": "text/x-python",
   "name": "python",
   "nbconvert_exporter": "python",
   "pygments_lexer": "ipython3",
   "version": "3.7.1"
  }
 },
 "nbformat": 4,
 "nbformat_minor": 2
}
