{
 "cells": [
  {
   "cell_type": "code",
   "execution_count": 3,
   "metadata": {},
   "outputs": [
    {
     "name": "stdout",
     "output_type": "stream",
     "text": [
      "hi, my name is xiaojiayu\n",
      "hi, my name is dalouxia\n"
     ]
    }
   ],
   "source": [
    "# 属性案例\n",
    "\n",
    "class Student():\n",
    "    def __init__(self, name, age):\n",
    "        self.name = name\n",
    "        self.age = age \n",
    "        \n",
    "    def intro(self):\n",
    "        print('hi, my name is {0}'.format(self.name))\n",
    "        \n",
    "s1 = Student('xiaojiayu',18)\n",
    "s2 = Student('dalouxia',20)\n",
    "s1.intro()\n",
    "s2.intro()\n"
   ]
  },
  {
   "cell_type": "code",
   "execution_count": 4,
   "metadata": {},
   "outputs": [],
   "source": [
    "# 类的成员描述符 是为了在类中对象的成员属性进行相关操作而创建的一种方式\n",
    "# get  获取属性的操作\n",
    "# set  修改或者添加属性操作\n",
    "# delete 删除属性的操作\n"
   ]
  },
  {
   "cell_type": "code",
   "execution_count": 6,
   "metadata": {},
   "outputs": [
    {
     "name": "stdout",
     "output_type": "stream",
     "text": [
      "XIAOJIAYUXIAOJIAYUXIAOJIAYU\n"
     ]
    }
   ],
   "source": [
    "class Person():\n",
    "    def fget(self):\n",
    "        return self._name * 3\n",
    "    \n",
    "    def fset(self, name):\n",
    "        self._name = name.upper()\n",
    "        \n",
    "    def fdel(self):\n",
    "        self._name = 'noname'\n",
    "        \n",
    "    name = property (fget, fset, fdel, '对name进行下操作了')\n",
    "    \n",
    "p1 = Person()\n",
    "p1.name = 'xiaojiayu'\n",
    "print(p1.name)\n",
    "        \n",
    "    "
   ]
  }
 ],
 "metadata": {
  "kernelspec": {
   "display_name": "Python 3",
   "language": "python",
   "name": "python3"
  },
  "language_info": {
   "codemirror_mode": {
    "name": "ipython",
    "version": 3
   },
   "file_extension": ".py",
   "mimetype": "text/x-python",
   "name": "python",
   "nbconvert_exporter": "python",
   "pygments_lexer": "ipython3",
   "version": "3.7.1"
  }
 },
 "nbformat": 4,
 "nbformat_minor": 2
}
