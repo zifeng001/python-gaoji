{
 "cells": [
  {
   "cell_type": "code",
   "execution_count": 2,
   "metadata": {},
   "outputs": [
    {
     "data": {
      "text/plain": [
       "mappingproxy({'__module__': '__main__',\n",
       "              'name': '小甲鱼',\n",
       "              'age': 18,\n",
       "              '__dict__': <attribute '__dict__' of 'A' objects>,\n",
       "              '__weakref__': <attribute '__weakref__' of 'A' objects>,\n",
       "              '__doc__': None})"
      ]
     },
     "execution_count": 2,
     "metadata": {},
     "output_type": "execute_result"
    }
   ],
   "source": [
    "class A():\n",
    "    name = '小甲鱼'\n",
    "    age = 18\n",
    "    \n",
    "A.__dict__"
   ]
  },
  {
   "cell_type": "code",
   "execution_count": 4,
   "metadata": {},
   "outputs": [
    {
     "name": "stdout",
     "output_type": "stream",
     "text": [
      "dana\n",
      "20\n",
      "********************\n",
      "2057808662064\n",
      "140724797945264\n",
      "********************\n",
      "dana\n",
      "20\n",
      "2057808662064\n",
      "140724797945264\n"
     ]
    }
   ],
   "source": [
    "class A():\n",
    "    name = 'dana'\n",
    "    age = 20\n",
    "    \n",
    "    def say(self):\n",
    "        self.name = 'aaa'\n",
    "        self.age = 18\n",
    "  # 此刻 A 成为类实例      \n",
    "print(A.name)\n",
    "print(A.age)\n",
    "\n",
    "print('*' * 20)\n",
    "\n",
    "print(id(A.name))\n",
    "print(id(A.age))\n",
    "\n",
    "print('*' * 20)\n",
    "\n",
    "a = A()\n",
    "print(a.name)\n",
    "print(a.age)\n",
    "print(id(a.name))\n",
    "print(id(a.age))\n",
    "\n",
    "\n"
   ]
  },
  {
   "cell_type": "code",
   "execution_count": 1,
   "metadata": {},
   "outputs": [
    {
     "name": "stdout",
     "output_type": "stream",
     "text": [
      "my name is aaaa\n",
      "my age is 2000\n"
     ]
    }
   ],
   "source": [
    "class Student():\n",
    "    name = 'dana'\n",
    "    age = 18\n",
    "    \n",
    "    def say(self):\n",
    "        self.name = 'aaaa'\n",
    "        self.age = 2000\n",
    "        print(\"my name is {0}\".format(self.name))\n",
    "        print(\"my age is {0}\". format(self.age))\n",
    "        \n",
    "tt = Student()\n",
    "tt.say()\n",
    "        "
   ]
  },
  {
   "cell_type": "code",
   "execution_count": 8,
   "metadata": {
    "scrolled": true
   },
   "outputs": [
    {
     "name": "stdout",
     "output_type": "stream",
     "text": [
      "my name is yaona\n",
      "my age is 17\n",
      "18\n",
      "hello, nice to see you again\n"
     ]
    }
   ],
   "source": [
    "class Teacher():\n",
    "    name = 'dana'\n",
    "    age = 18\n",
    "    \n",
    "    def say(self):\n",
    "        self.name = 'yaona'\n",
    "        self.age = 17\n",
    "        print(\"my name is {0}\".format(self.name))\n",
    "        print(\"my age is {0}\". format(self.age))\n",
    "        \n",
    "    def sayagain():\n",
    "        print(__class__.age)\n",
    "        print('hello, nice to see you again')\n",
    "        \n",
    "t = Teacher()\n",
    "t.say()\n",
    "Teacher.sayagain()\n",
    "\n",
    "\n",
    "        "
   ]
  },
  {
   "cell_type": "code",
   "execution_count": 2,
   "metadata": {},
   "outputs": [
    {
     "name": "stdout",
     "output_type": "stream",
     "text": [
      "dana\n",
      "200\n",
      "dana\n",
      "200\n"
     ]
    }
   ],
   "source": [
    "class A():\n",
    "    name = '小甲鱼'\n",
    "    age = 20\n",
    "    \n",
    "    def __init__(self):\n",
    "        self.name = 'dana'\n",
    "        self.age = 200\n",
    "        \n",
    "    def say(self):\n",
    "        print(self.name)\n",
    "        print(self.age)\n",
    "        \n",
    "class B():\n",
    "    name = 'bbbb'\n",
    "    age = 90\n",
    "    \n",
    "a = A()\n",
    "# 此时 系统会默认把 a 作为第一个参数传入函数\n",
    "a.say()\n",
    "# 此时 self 被 a 替换\n",
    "A.say(a)   "
   ]
  }
 ],
 "metadata": {
  "kernelspec": {
   "display_name": "Python 3",
   "language": "python",
   "name": "python3"
  },
  "language_info": {
   "codemirror_mode": {
    "name": "ipython",
    "version": 3
   },
   "file_extension": ".py",
   "mimetype": "text/x-python",
   "name": "python",
   "nbconvert_exporter": "python",
   "pygments_lexer": "ipython3",
   "version": "3.7.1"
  }
 },
 "nbformat": 4,
 "nbformat_minor": 2
}
