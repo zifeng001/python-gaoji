{
 "cells": [
  {
   "cell_type": "markdown",
   "metadata": {},
   "source": [
    "#### 编写一个程序，统计当前目录下每个文件类型的文件数\n",
    "- 思路\n",
    "    - 打开当前的文件夹\n",
    "    - 获取到当前文件夹下面所有的文件\n",
    "    - 处理我们当前文件夹下面可能有文件夹的情况（打印处理）\n",
    "    - 做出统计"
   ]
  },
  {
   "cell_type": "code",
   "execution_count": 2,
   "metadata": {},
   "outputs": [
    {
     "name": "stdout",
     "output_type": "stream",
     "text": [
      "该文件夹下面为文件夹的文件1个\n",
      "该文件夹下面为.json的文件1个\n",
      "该文件夹下面为.txt的文件2个\n",
      "该文件夹下面为的文件4个\n",
      "该文件夹下面为.ipynb的文件27个\n",
      "该文件夹下面为.bak的文件1个\n",
      "该文件夹下面为.dat的文件1个\n",
      "该文件夹下面为.dir的文件1个\n"
     ]
    }
   ],
   "source": [
    "import os\n",
    "\n",
    "# 获取到当前文件夹下面所有的文件\n",
    "all_files = os.listdir(os.curdir) # os.cundir 表示当前目录\n",
    "\n",
    "type_dict = dict()\n",
    "\n",
    "for each_file in all_files:\n",
    "    # 如果 each_file 是文件夹\n",
    "    if os.path.isdir(each_file):\n",
    "        type_dict.setdefault(\"文件夹\",0)\n",
    "        type_dict[\"文件夹\"] += 1\n",
    "    else:\n",
    "        # 如果不是文件夹，而是文件，统计我们的文件\n",
    "        ext = os.path.splitext(each_file)[1]\n",
    "        type_dict.setdefault(ext,0)\n",
    "        type_dict[ext] += 1\n",
    "        \n",
    "for each_type in type_dict:\n",
    "    print('该文件夹下面为{0}的文件{1}个'.format(each_type, type_dict[each_type]))"
   ]
  },
  {
   "cell_type": "code",
   "execution_count": 3,
   "metadata": {},
   "outputs": [
    {
     "name": "stdout",
     "output_type": "stream",
     "text": [
      "{'Name': 'Runoob', 'Age': 7, 'Class': 'First', 'School': '啦啦啦'}\n",
      "{'Name': 'Runoob', 'Class': 'First', 'School': '啦啦啦'}\n"
     ]
    },
    {
     "data": {
      "text/plain": [
       "'Runoob'"
      ]
     },
     "execution_count": 3,
     "metadata": {},
     "output_type": "execute_result"
    }
   ],
   "source": [
    "dict = {'Name': 'Runoob', 'Age': 7, 'Class': 'First'}\n",
    "dict['School'] = \"啦啦啦\" \n",
    "print(dict)\n",
    "del dict['Age']\n",
    "print(dict)\n",
    "dict['Name']"
   ]
  },
  {
   "cell_type": "markdown",
   "metadata": {},
   "source": [
    "### 编写一个程序，计算当前文件夹下面所有文件的大小\n",
    "- 打开当前文件夹\n",
    "- 获取到所有文件，和文件大小\n",
    "- 保存获取到的数据， 然后打印出来"
   ]
  },
  {
   "cell_type": "code",
   "execution_count": 4,
   "metadata": {},
   "outputs": [
    {
     "name": "stdout",
     "output_type": "stream",
     "text": [
      "1234.json大小89\n",
      "hahaha.txt大小18\n",
      "hosts大小824\n",
      "Log 日志.ipynb大小3870\n",
      "Python-GUI-Tkinter.ipynb大小14666\n",
      "python基础练习.ipynb大小28442\n",
      "python基础练习2.ipynb大小10110\n",
      "python进阶练习.ipynb大小24517\n",
      "python进阶练习2.ipynb大小6175\n",
      "RE-练习.ipynb大小7434\n",
      "shv.db.bak大小52\n",
      "shv.db.dat大小1029\n",
      "shv.db.dir大小52\n",
      "test01.txt大小5\n",
      "test1大小26\n",
      "test2大小21\n",
      "test3大小39\n",
      "Tkinter 继续.ipynb大小668\n",
      "Untitled.ipynb大小16961\n",
      "内置数据结构 list--tuple--set--dict.ipynb大小17490\n",
      "函数关键字.ipynb大小4759\n",
      "函数变量和作用域.ipynb大小2373\n",
      "函数式编程.ipynb大小29946\n",
      "包管理 模块.ipynb大小9717\n",
      "协程.ipynb大小10523\n",
      "多线程.ipynb大小15545\n",
      "常用模块.ipynb大小24250\n",
      "异常处理.ipynb大小3851\n",
      "文件.ipynb大小10790\n",
      "类 成员描述符.ipynb大小5460\n",
      "类的基础.ipynb大小4502\n",
      "类的封装 继承 多态.ipynb大小9121\n",
      "练习.ipynb大小5808\n",
      "结构化文件存储.ipynb大小1963\n",
      "面向对象--2.ipynb大小2216\n",
      "高级函数补充.ipynb大小4966\n",
      "魔法函数.ipynb大小4009\n"
     ]
    }
   ],
   "source": [
    "import os\n",
    "\n",
    "all_files = os.listdir(os.curdir)\n",
    "\n",
    "file_dict = dict()\n",
    "\n",
    "for each_file in all_files:\n",
    "    # 判断这个each_file是否是文件\n",
    "    if os.path.isfile(each_file):\n",
    "        file_size = os.path.getsize(each_file)\n",
    "        file_dict[each_file] = file_size\n",
    "\n",
    "#print(file_dict)\n",
    "#print(type(file_dict))\n",
    "# print(all_files)\n",
    "# print(type(all_files))\n",
    "   \n",
    "for each in file_dict.items():\n",
    "    print(\"{0}大小{1}\".format(each[0],each[1]))\n",
    "\n"
   ]
  },
  {
   "cell_type": "code",
   "execution_count": 3,
   "metadata": {},
   "outputs": [
    {
     "name": "stdout",
     "output_type": "stream",
     "text": [
      "{'School': '哈哈哈'}\n"
     ]
    }
   ],
   "source": [
    "dict2 = dict()\n",
    "dict2['School'] = \"哈哈哈\"\n",
    "print(dict2)"
   ]
  },
  {
   "cell_type": "markdown",
   "metadata": {},
   "source": [
    "#### 编写一个程序，用户输入文件名以及开始搜索的路径，搜索该文件是否存在，如果遇到文件夹，则进入该文件夹继续搜索\n",
    "- input 接受用户输入文件名和开始搜索路径\n",
    "- os.path.isdir 判断是不是文件夹，如果是，需要进入该文件夹继续搜索，循环调用一下函数实现"
   ]
  },
  {
   "cell_type": "code",
   "execution_count": 5,
   "metadata": {},
   "outputs": [
    {
     "name": "stdout",
     "output_type": "stream",
     "text": [
      "请输入目录：.\n",
      "请输入文件名：test3\n",
      "C:\\Users\\zifeng\\Desktop\\python练习\\test3\n"
     ]
    }
   ],
   "source": [
    "import os\n",
    "\n",
    "start_dir = input('请输入目录：')\n",
    "target = input('请输入文件名：')\n",
    "\n",
    "def search_file(start_dir, target):\n",
    "    os.chdir(start_dir) # 切换到用户输入的路径\n",
    "    \n",
    "    for each_file in os.listdir(os.curdir):\n",
    "        if each_file == target:\n",
    "            print(os.getcwd() + \"\\\\\" + each_file) # getcwd() 返回当前工作目录\n",
    "        if os.path.isdir(each_file):\n",
    "            search_file(each_file, target) # 递归调用\n",
    "            os.chdir(os.pardir) # pardir 返回上一级工作目录\n",
    "            \n",
    "search_file(start_dir, target)\n",
    "\n",
    "\n",
    "\n",
    "            "
   ]
  },
  {
   "cell_type": "markdown",
   "metadata": {},
   "source": [
    "#### 对上述题目加一些需求， 模糊匹配，判断我们的target是否包含在某一个文件中\n",
    "- in 判断target是否在文件名字里"
   ]
  },
  {
   "cell_type": "code",
   "execution_count": 2,
   "metadata": {},
   "outputs": [
    {
     "name": "stdout",
     "output_type": "stream",
     "text": [
      "请输入目录：.\n",
      "请输入文件名：test\n",
      "C:\\Users\\zifeng\\Desktop\\python练习\\test01.txt\n",
      "C:\\Users\\zifeng\\Desktop\\python练习\\test1\n",
      "C:\\Users\\zifeng\\Desktop\\python练习\\test2\n",
      "C:\\Users\\zifeng\\Desktop\\python练习\\test3\n"
     ]
    }
   ],
   "source": [
    "import os\n",
    "\n",
    "start_dir = input('请输入目录：')\n",
    "target = input('请输入文件名：')\n",
    "\n",
    "def seach_file(start_dir, target):\n",
    "    os.chdir(start_dir)\n",
    "    \n",
    "    for each_file in os.listdir(os.curdir):\n",
    "        if target in each_file:\n",
    "            print(os.getcwd() + \"\\\\\" + each_file)\n",
    "        if os.path.isdir(each_file):\n",
    "            seach_file(each_file, target)\n",
    "            os.chdir(os.pardir)\n",
    "            \n",
    "seach_file(start_dir, target)"
   ]
  },
  {
   "cell_type": "markdown",
   "metadata": {},
   "source": [
    "#### 再加一个需求，上述题目，需要保存文件存在的地方，到指定的路径"
   ]
  },
  {
   "cell_type": "code",
   "execution_count": 17,
   "metadata": {},
   "outputs": [
    {
     "name": "stdout",
     "output_type": "stream",
     "text": [
      "请输入目录：.\n",
      "请输入文件名：test\n"
     ]
    }
   ],
   "source": [
    "import os\n",
    "\n",
    "start_dir = input('请输入目录：')\n",
    "target = input('请输入文件名：')\n",
    "backup =[]\n",
    "\n",
    "def seach_file(start_dir, target):\n",
    "    for each_file in os.listdir(os.curdir):\n",
    "        if target in each_file:\n",
    "            back_file = os.getcwd() + os.sep + each_file\n",
    "            backup.append(back_file)\n",
    "        #if os.path.isdir(each_file):\n",
    "            #seach_file(each_file, target)\n",
    "            #os.chdir(os.pardir)\n",
    "            \n",
    "    return backup\n",
    " \n",
    "rd = seach_file(start_dir, target)\n",
    "\n",
    "f = open(os.getcwd() + os.sep + \"backup.txt\", 'wb')\n",
    "f.write(\"\\n\".join(rd).encode(\"utf-8\"))\n",
    "f.close()"
   ]
  },
  {
   "cell_type": "markdown",
   "metadata": {},
   "source": [
    "#### logging\n",
    "- logging.debug\n",
    "- logging.info\n",
    "- logging.warning\n",
    "- logging.error\n",
    "- logging.critical"
   ]
  },
  {
   "cell_type": "code",
   "execution_count": 1,
   "metadata": {},
   "outputs": [],
   "source": [
    "import logging\n",
    "\n",
    "LOG_FORMART = \"%(asctime)s - %(levelname)s - %(message)s\"\n",
    "\n",
    "# 默认level = warning， 修改level如下\n",
    "logging.basicConfig(level=logging.DEBUG, format=LOG_FORMART, filename=\"my.log\")\n",
    "\n",
    "logging.debug(\"this is debug\")\n",
    "logging.info(\"this is info\")\n",
    "logging.warning(\"this is warning\")\n",
    "logging.error(\"this is error\")\n",
    "logging.critical(\"this is critical\")"
   ]
  },
  {
   "cell_type": "markdown",
   "metadata": {},
   "source": [
    "#### 装饰器\n",
    "- 使用装饰器，打印函数执行的时间"
   ]
  },
  {
   "cell_type": "code",
   "execution_count": 2,
   "metadata": {},
   "outputs": [
    {
     "name": "stderr",
     "output_type": "stream",
     "text": [
      "2019-04-06 11:51:25,458 - ERROR - this is info message\n"
     ]
    },
    {
     "name": "stdout",
     "output_type": "stream",
     "text": [
      "test done\n"
     ]
    }
   ],
   "source": [
    "import logging\n",
    "\n",
    "LOG_FORMART = \"%(asctime)s - %(levelname)s - %(message)s\"\n",
    "logging.basicConfig(format = LOG_FORMART)\n",
    "def log(func):\n",
    "    def wrapper(*arg, **kw):\n",
    "        logging.error(\"this is info message\")\n",
    "        return func(*arg, **kw)\n",
    "    return wrapper\n",
    "    \n",
    "@log\n",
    "def test():\n",
    "    print(\"test done\")\n",
    "\n",
    "test()"
   ]
  },
  {
   "cell_type": "markdown",
   "metadata": {},
   "source": [
    "#### 使用装饰器，根据不同的函数，传入的日志不相同"
   ]
  },
  {
   "cell_type": "code",
   "execution_count": 1,
   "metadata": {},
   "outputs": [
    {
     "name": "stderr",
     "output_type": "stream",
     "text": [
      "2019-04-06 17:54:19,029 - ERROR - main done\n"
     ]
    },
    {
     "name": "stdout",
     "output_type": "stream",
     "text": [
      "main done\n"
     ]
    }
   ],
   "source": [
    "import logging\n",
    "\n",
    "LOG_FORMART = \"%(asctime)s - %(levelname)s - %(message)s\"\n",
    "logging.basicConfig(format=LOG_FORMART)\n",
    "def log(text):\n",
    "    def decorator(func):\n",
    "        def wrapper(*arg, **kw):\n",
    "            logging.error(text)\n",
    "            return func(*arg, **kw)\n",
    "        return wrapper\n",
    "    return decorator\n",
    "\n",
    "\n",
    "\n",
    "@log(\"main done\")\n",
    "def main():\n",
    "    print(\"main done\")\n",
    "    \n",
    "main()"
   ]
  },
  {
   "cell_type": "code",
   "execution_count": 6,
   "metadata": {},
   "outputs": [
    {
     "name": "stdout",
     "output_type": "stream",
     "text": [
      "函数内 :  30\n",
      "函数外 :  None\n"
     ]
    },
    {
     "data": {
      "text/plain": [
       "True"
      ]
     },
     "execution_count": 6,
     "metadata": {},
     "output_type": "execute_result"
    }
   ],
   "source": [
    "def sum( arg1, arg2 ):\n",
    "   # 返回2个参数的和.\"\n",
    "   total = arg1 + arg2\n",
    "   print (\"函数内 : \", total)\n",
    "   #return total\n",
    " \n",
    "# 调用sum函数\n",
    "total = sum( 10, 20 )\n",
    "print (\"函数外 : \", total)\n",
    "total is None"
   ]
  },
  {
   "cell_type": "code",
   "execution_count": 15,
   "metadata": {},
   "outputs": [
    {
     "name": "stdout",
     "output_type": "stream",
     "text": [
      "now you are inside the hi() function\n",
      "now you are in the greet() function\n"
     ]
    }
   ],
   "source": [
    "def hi(name=\"yasoob\"):\n",
    "    print(\"now you are inside the hi() function\")\n",
    " \n",
    "    def greet():\n",
    "        print(\"now you are in the greet() function\")\n",
    " \n",
    "        def welcome():\n",
    "            print(\"now you are in the welcome() function\")\n",
    "            \n",
    "        #return welcome()            \n",
    "    return greet()\n",
    "    \n",
    "f = hi\n",
    "f()"
   ]
  },
  {
   "cell_type": "code",
   "execution_count": 34,
   "metadata": {},
   "outputs": [
    {
     "data": {
      "text/plain": [
       "<function __main__.a_new_decorator.<locals>.wrapTheFunction()>"
      ]
     },
     "execution_count": 34,
     "metadata": {},
     "output_type": "execute_result"
    }
   ],
   "source": [
    "def a_new_decorator(a_func):\n",
    "\n",
    "    def wrapTheFunction():\n",
    "        print(\"I am doing some boring work before executing a_func()\")\n",
    "        a_func()\n",
    "        print(\"I am doing some boring work after executing a_func()\")\n",
    "    return wrapTheFunction\n",
    "\n",
    "def func2():\n",
    "    print(\"hahahah\")\n",
    "    \n",
    "a_new_decorator(func2)\n",
    "# @a_new_decorator\n",
    "# def a_function_requiring_decoration():\n",
    "#     \"\"\"Hey yo! Decorate me!\"\"\"\n",
    "#     print(\"I am the function which needs some decoration to \"\n",
    "#           \"remove my foul smell\")\n",
    "\n",
    "# a_function_requiring_decoration()"
   ]
  },
  {
   "cell_type": "code",
   "execution_count": 33,
   "metadata": {},
   "outputs": [
    {
     "name": "stdout",
     "output_type": "stream",
     "text": [
      "I am doing some boring work before executing hi()\n",
      "hi yasoob!\n"
     ]
    }
   ],
   "source": [
    "def hi():\n",
    "    return \"hi yasoob!\"\n",
    " \n",
    "def doSomethingBeforeHi(func):\n",
    "    print(\"I am doing some boring work before executing hi()\")\n",
    "    print(func())\n",
    " \n",
    "doSomethingBeforeHi(hi)"
   ]
  },
  {
   "cell_type": "markdown",
   "metadata": {},
   "source": [
    "#### 用logging的四大组件来实现日志的功能\n",
    "- 打印出函数执行的时间，日志的等级，日志的消息\n",
    "- 用装饰器\n",
    "- 不同的日志，要记录不同等级的日志消息"
   ]
  },
  {
   "cell_type": "code",
   "execution_count": null,
   "metadata": {},
   "outputs": [],
   "source": [
    "import logging\n",
    "\n",
    "logger = logging,getlogger(\"mylogger\")\n",
    "logger.setlevel(logging.DEBUG)\n",
    "\n",
    "debug_handler = logging.FileHandler()"
   ]
  },
  {
   "cell_type": "markdown",
   "metadata": {},
   "source": [
    "#### 使用多线程播放两个列表，一个是movie， 一个是music\n",
    "- _thread\n",
    "- threading"
   ]
  },
  {
   "cell_type": "code",
   "execution_count": null,
   "metadata": {},
   "outputs": [
    {
     "name": "stdout",
     "output_type": "stream",
     "text": [
      "你现在收看的是:yyuuu.mp4你现在收听的是:zhoujie.mp3\n",
      "\n",
      "你现在收看的是:fuchou.avi\n",
      "你现在收听的是:wuyuetian.mp3\n",
      "没有能播放的格式\n",
      "你现在收看的是:xxx.mp4\n"
     ]
    }
   ],
   "source": [
    "import _thread as thread\n",
    "import time\n",
    "\n",
    "movie_list = [\"yyuuu.mp4\", \"fuchou.avi\", \"gangtiexia.rmvb\",\"xxx.mp4\"]\n",
    "music_list = [\"zhoujie.mp3\", \"wuyuetian.mp3\"]\n",
    "movie_format = [\"mp4\",\"avi\"]\n",
    "music_format = [\"mp3\"]\n",
    "\n",
    "def play(playlist):\n",
    "    for i in playlist:\n",
    "        if i.split(\".\")[1] in movie_format:\n",
    "            print(\"你现在收看的是:{}\".format(i))\n",
    "            time.sleep(2)\n",
    "            \n",
    "        elif i.split(\".\")[1] in music_format:\n",
    "            print(\"你现在收听的是:{}\".format(i))\n",
    "            time.sleep(3)\n",
    "        else:\n",
    "            print(\"没有能播放的格式\")\n",
    "            \n",
    "def thread_run():\n",
    "    thread.start_new_thread(play, (movie_list,))\n",
    "    thread.start_new_thread(play, (music_list,))\n",
    "    \n",
    "    \n",
    "if __name__ == \"__main__\":\n",
    "    thread_run()\n",
    "    while True:\n",
    "        time.sleep(3)\n",
    "\n"
   ]
  },
  {
   "cell_type": "code",
   "execution_count": null,
   "metadata": {},
   "outputs": [
    {
     "name": "stdout",
     "output_type": "stream",
     "text": [
      "你现在收看的是:yyuuu.mp4\n",
      "你现在收听的是:zhoujie.mp3\n",
      "你现在收看的是:fuchou.avi\n",
      "你现在收听的是:wuyuetian.mp3\n",
      "没有能播放的格式\n",
      "你现在收看的是:xxx.mp4\n"
     ]
    }
   ],
   "source": [
    "import threading\n",
    "import time\n",
    "\n",
    "movie_list = [\"yyuuu.mp4\", \"fuchou.avi\", \"gangtiexia.rmvb\",\"xxx.mp4\"]\n",
    "music_list = [\"zhoujie.mp3\", \"wuyuetian.mp3\"]\n",
    "movie_format = [\"mp4\",\"avi\"]\n",
    "music_format = [\"mp3\"]\n",
    "\n",
    "def play(playlist):\n",
    "    for i in playlist:\n",
    "        if i.split(\".\")[1] in movie_format:\n",
    "            print(\"你现在收看的是:{}\".format(i))\n",
    "            time.sleep(2)\n",
    "            \n",
    "        elif i.split(\".\")[1] in music_format:\n",
    "            print(\"你现在收听的是:{}\".format(i))\n",
    "            time.sleep(3)\n",
    "        else:\n",
    "            print(\"没有能播放的格式\")\n",
    "            \n",
    "def thread_run():\n",
    "    t1 = threading.Thread(target=play, args=(movie_list,))\n",
    "    t2 = threading.Thread(target=play, args=(music_list,))\n",
    "    t1.start()\n",
    "    t2.start()\n",
    "    \n",
    "    \n",
    "    \n",
    "if __name__ == \"__main__\":\n",
    "    thread_run()\n",
    "    while True:\n",
    "        time.sleep(3)\n"
   ]
  },
  {
   "cell_type": "markdown",
   "metadata": {},
   "source": [
    "#### 匹配一行文字中所有开头的字母"
   ]
  },
  {
   "cell_type": "code",
   "execution_count": 1,
   "metadata": {},
   "outputs": [
    {
     "name": "stdout",
     "output_type": "stream",
     "text": [
      "['i', 'l', 'h', 'y', 'l', 'y']\n"
     ]
    }
   ],
   "source": [
    "import re\n",
    "s = 'i love hhaha,you love yyy'\n",
    "content = re.findall(r'\\b\\w', s)\n",
    "print(content)"
   ]
  },
  {
   "cell_type": "markdown",
   "metadata": {},
   "source": [
    "#### 匹配一行文字中所有数字开头的内容"
   ]
  },
  {
   "cell_type": "code",
   "execution_count": 5,
   "metadata": {},
   "outputs": [
    {
     "name": "stdout",
     "output_type": "stream",
     "text": [
      "['2', '3', '4', '5']\n"
     ]
    }
   ],
   "source": [
    "s1 = 'i 22love 33hhaha,44you 55love66 yyy'\n",
    "content = re.findall(r'\\b\\d', s1)\n",
    "print(content)"
   ]
  },
  {
   "cell_type": "markdown",
   "metadata": {},
   "source": [
    "#### 匹配只含数字和字母的行"
   ]
  },
  {
   "cell_type": "code",
   "execution_count": 11,
   "metadata": {},
   "outputs": [
    {
     "name": "stdout",
     "output_type": "stream",
     "text": [
      "['i', 'ove', 'you', '222454874ksjfs', 'but', 'dsfes23', 'you', 'hahha']\n"
     ]
    }
   ],
   "source": [
    "s2 = 'i ove you \\n222454874ksjfs but \\ndsfes23 you hahha'\n",
    "content = re.findall(r'\\w+', s2, re.M)\n",
    "print(content)"
   ]
  },
  {
   "cell_type": "markdown",
   "metadata": {},
   "source": [
    "#### 写一个正则表达式，使其能匹配以下字符,'bit', 'bat', 'but', 'hit'"
   ]
  },
  {
   "cell_type": "code",
   "execution_count": 15,
   "metadata": {},
   "outputs": [
    {
     "name": "stdout",
     "output_type": "stream",
     "text": [
      "['bit', 'bat', 'but', 'hit']\n"
     ]
    }
   ],
   "source": [
    "s3 = \"'bit', 'bat', 'but', 'hit'\"\n",
    "content = re.findall(r'..t',s3)\n",
    "print(content)"
   ]
  },
  {
   "cell_type": "markdown",
   "metadata": {},
   "source": [
    "#### 获取每行中完整的年月日和时间段"
   ]
  },
  {
   "cell_type": "code",
   "execution_count": 17,
   "metadata": {},
   "outputs": [
    {
     "name": "stdout",
     "output_type": "stream",
     "text": [
      "['1982-10-15 22:45:20', '2018-12-10 12:15:20']\n"
     ]
    }
   ],
   "source": [
    "s4 = 'se2154 1982-10-15 22:45:20 sfseslskjp 2018-12-10 12:15:20'\n",
    "content = re.findall(r'\\d{4}-\\d{2}-\\d{2} \\d{2}:\\d{2}:\\d{2}', s4)\n",
    "print(content)"
   ]
  },
  {
   "cell_type": "markdown",
   "metadata": {},
   "source": [
    "#### 提取电子邮件格式"
   ]
  },
  {
   "cell_type": "code",
   "execution_count": 19,
   "metadata": {},
   "outputs": [
    {
     "name": "stdout",
     "output_type": "stream",
     "text": [
      "['xxxx@qq.com', 'yyyy@163.com', 'jiej@gmail.com']\n"
     ]
    }
   ],
   "source": [
    "s5 = \"xxxx@qq.com  sjfoeijfpejf yyyy@163.com  sjss5451  jiej@gmail.com\"\n",
    "content = re.findall(r'\\w+@\\w+.com', s5)\n",
    "print(content)"
   ]
  },
  {
   "cell_type": "markdown",
   "metadata": {},
   "source": [
    "#### 把以上替换成自己的电子邮件地址"
   ]
  },
  {
   "cell_type": "code",
   "execution_count": 25,
   "metadata": {},
   "outputs": [
    {
     "name": "stdout",
     "output_type": "stream",
     "text": [
      "zifeng@qq.com  sjfoeijfpejf zifeng@qq.com  sjss5451  zifeng@qq.com\n"
     ]
    }
   ],
   "source": [
    "content = re.sub(r'\\w+@\\w+.com', 'zifeng@qq.com',s5)\n",
    "print(content)"
   ]
  },
  {
   "cell_type": "code",
   "execution_count": 30,
   "metadata": {},
   "outputs": [
    {
     "name": "stdout",
     "output_type": "stream",
     "text": [
      "['sf', 'sfe', 'sfieo', 'of']\n"
     ]
    }
   ],
   "source": [
    "#### 使用正则提取字符串的单词\n",
    "s6 = 'sf sfe sfieo 451not 454 of  sfe124xx sfse20'\n",
    "content = re.findall(r'\\b[a-zA-Z]+\\b', s6)\n",
    "print(content)"
   ]
  },
  {
   "cell_type": "code",
   "execution_count": null,
   "metadata": {},
   "outputs": [],
   "source": []
  },
  {
   "cell_type": "code",
   "execution_count": null,
   "metadata": {},
   "outputs": [],
   "source": []
  }
 ],
 "metadata": {
  "kernelspec": {
   "display_name": "Python 3",
   "language": "python",
   "name": "python3"
  },
  "language_info": {
   "codemirror_mode": {
    "name": "ipython",
    "version": 3
   },
   "file_extension": ".py",
   "mimetype": "text/x-python",
   "name": "python",
   "nbconvert_exporter": "python",
   "pygments_lexer": "ipython3",
   "version": "3.7.1"
  }
 },
 "nbformat": 4,
 "nbformat_minor": 2
}
