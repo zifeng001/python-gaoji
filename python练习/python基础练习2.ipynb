{
 "cells": [
  {
   "cell_type": "markdown",
   "metadata": {},
   "source": [
    "### 一行代码实现1-100之和"
   ]
  },
  {
   "cell_type": "code",
   "execution_count": 2,
   "metadata": {},
   "outputs": [
    {
     "name": "stdout",
     "output_type": "stream",
     "text": [
      "5050\n"
     ]
    }
   ],
   "source": [
    "print(sum(range(1,101)))"
   ]
  },
  {
   "cell_type": "markdown",
   "metadata": {},
   "source": [
    "### 字典如何删除键和合并两个字典   del 和 update 方法"
   ]
  },
  {
   "cell_type": "code",
   "execution_count": 12,
   "metadata": {},
   "outputs": [
    {
     "name": "stdout",
     "output_type": "stream",
     "text": [
      "{'age': 18}\n",
      "{'age': 18, 'name': 'xiaojiyau'}\n"
     ]
    }
   ],
   "source": [
    "dict1 = {'name':'haha', 'age':18}\n",
    "del dict1['name']\n",
    "print(dict1)\n",
    "dict2 = {'name':'xiaojiyau'}\n",
    "dict1.update(dict2)\n",
    "print(dict1)"
   ]
  },
  {
   "cell_type": "markdown",
   "metadata": {},
   "source": [
    "### python 实现列表去重的方法\n",
    "- 先通过集合去重，在转列表"
   ]
  },
  {
   "cell_type": "code",
   "execution_count": 15,
   "metadata": {},
   "outputs": [
    {
     "name": "stdout",
     "output_type": "stream",
     "text": [
      "{1, 11, 12, 13, 14, 15, 16}\n",
      "[1, 11, 12, 13, 14, 15, 16]\n"
     ]
    }
   ],
   "source": [
    "list3 = [1,15,16,14,13,12,11,13,14,15,16]\n",
    "a = set(list3)\n",
    "print(a)\n",
    "list4 = [i for i in a]\n",
    "print(list4)"
   ]
  },
  {
   "cell_type": "markdown",
   "metadata": {},
   "source": [
    "### fun(*args, **kwargs) 中的*args, **kwargs是什么意思？\n",
    "- *args 和 **kwargs 主要用于函数的定义，可以将不定数量的参数传给一个函数。\n",
    "- *args 用来发送一个非键值对的可变数量的参数列表给一个函数。\n",
    "- **kwargs 可以将不定长度的键值对，作为参数传递给一个函数"
   ]
  },
  {
   "cell_type": "code",
   "execution_count": 16,
   "metadata": {},
   "outputs": [
    {
     "name": "stdout",
     "output_type": "stream",
     "text": [
      "a\n",
      "b\n",
      "c\n",
      "d\n"
     ]
    }
   ],
   "source": [
    "def demo(*args):\n",
    "    for i in args:\n",
    "        print(i)\n",
    "\n",
    "demo('a','b','c','d')"
   ]
  },
  {
   "cell_type": "code",
   "execution_count": 31,
   "metadata": {},
   "outputs": [
    {
     "name": "stdout",
     "output_type": "stream",
     "text": [
      "name --- xiaojiayu\n",
      "age --- 18\n",
      "hobby --- football\n"
     ]
    }
   ],
   "source": [
    "def demo1(**kwargs):\n",
    "    for k,v in kwargs.items():\n",
    "        print(k + ' --- '+ v)\n",
    "        \n",
    "demo1(name='xiaojiayu', age='18', hobby='football')"
   ]
  },
  {
   "cell_type": "markdown",
   "metadata": {},
   "source": [
    "### items() 方法以列表返回可遍历的(键, 值) 元组数组"
   ]
  },
  {
   "cell_type": "code",
   "execution_count": 20,
   "metadata": {},
   "outputs": [
    {
     "name": "stdout",
     "output_type": "stream",
     "text": [
      "dict_items([('Name', 'Runoob'), ('Age', 7)])\n"
     ]
    }
   ],
   "source": [
    "dict = {'Name': 'Runoob', 'Age': 7}\n",
    "print (dict.items())"
   ]
  },
  {
   "cell_type": "markdown",
   "metadata": {},
   "source": [
    "### 解释什么样的语言能够用装饰器\n",
    "- 函数可以作为参数传递的语言，可以使用装饰器"
   ]
  },
  {
   "cell_type": "markdown",
   "metadata": {},
   "source": [
    "### python 内建数据类型有哪些\n",
    "- 整型-int\n",
    "- 布尔型-bool\n",
    "- 字符串-str\n",
    "- 列表-list\n",
    "- 元组-tuple\n",
    "- 字典-dict"
   ]
  },
  {
   "cell_type": "markdown",
   "metadata": {},
   "source": [
    "### 列表[1,2,3,4,5],使用map()函数输出[1,4,9,16,25],并使用列表推导式提取出大于10的数，最终输出[16,25]"
   ]
  },
  {
   "cell_type": "code",
   "execution_count": 39,
   "metadata": {},
   "outputs": [
    {
     "name": "stdout",
     "output_type": "stream",
     "text": [
      "[16, 25]\n"
     ]
    }
   ],
   "source": [
    "list1 = [1,2,3,4,5]\n",
    "\n",
    "def func(x):\n",
    "    return x**2\n",
    "m = map(func, list1)\n",
    "n = [i for i in m if i>10]\n",
    "print(n)"
   ]
  },
  {
   "cell_type": "markdown",
   "metadata": {},
   "source": [
    "### python中生产随机整数、随机小数、0-1之间小数的方法\n",
    "- 随机整数：random.randint(a,b)生成区间内的整数\n",
    "- 随机小数：用numpy库，利用np.random.randn(5)生成5个随机小数\n",
    "- 0-1随机小数：random。random() 括号中不传参数"
   ]
  },
  {
   "cell_type": "code",
   "execution_count": 46,
   "metadata": {},
   "outputs": [
    {
     "name": "stdout",
     "output_type": "stream",
     "text": [
      "6\n",
      "[-1.77401131  0.15707555 -0.49700692]\n",
      "0.19786545694293511\n"
     ]
    }
   ],
   "source": [
    "import random\n",
    "import numpy as np\n",
    "res1 = random.randint(1,10)\n",
    "res2 = np.random.randn(3)\n",
    "res3 = random.random()\n",
    "print(res1)\n",
    "print(res2)\n",
    "print(res3)"
   ]
  },
  {
   "cell_type": "markdown",
   "metadata": {},
   "source": [
    "### 避免转义给字符串，加哪个字母表示原始字符串？\n",
    "- r, 表示需要原始字符串，不转义特殊字符"
   ]
  },
  {
   "cell_type": "markdown",
   "metadata": {},
   "source": [
    "### 用正则匹配标签内容（中国），其中class类名是不确定的"
   ]
  },
  {
   "cell_type": "markdown",
   "metadata": {},
   "source": [
    " <div class=\"name\">中国</div>"
   ]
  },
  {
   "cell_type": "code",
   "execution_count": 50,
   "metadata": {},
   "outputs": [
    {
     "name": "stdout",
     "output_type": "stream",
     "text": [
      "['中国']\n"
     ]
    }
   ],
   "source": [
    "import re\n",
    "str = '<div class=\"name\">中国</div>'\n",
    "res = re.findall(r'<div class=\".*\">(.*?)</div>', str)\n",
    "print(res)"
   ]
  },
  {
   "cell_type": "markdown",
   "metadata": {},
   "source": [
    "### 正则表达式匹配中，(.*) 和 (.*?) 匹配区别？\n",
    "- (.*) 是贪婪匹配， 会把满足正则的尽可能多的往后匹配\n",
    "- (.*?) 是非贪婪匹配， 会把满足正则的尽可能少匹配"
   ]
  },
  {
   "cell_type": "code",
   "execution_count": 52,
   "metadata": {},
   "outputs": [
    {
     "name": "stdout",
     "output_type": "stream",
     "text": [
      "贪婪匹配 ['哈哈</a> <a>呵呵']\n",
      "非贪婪匹配 ['哈哈', '呵呵']\n"
     ]
    }
   ],
   "source": [
    "s = \"<a>哈哈</a> <a>呵呵</a>\"\n",
    "import re\n",
    "res1 = re.findall(r\"<a>(.*)</a>\", s)\n",
    "print(\"贪婪匹配\",res1)\n",
    "res2 = re.findall(\"<a>(.*?)</a>\",s)\n",
    "print(\"非贪婪匹配\", res2)"
   ]
  },
  {
   "cell_type": "code",
   "execution_count": 54,
   "metadata": {},
   "outputs": [
    {
     "name": "stdout",
     "output_type": "stream",
     "text": [
      "1\n",
      "1\n"
     ]
    }
   ],
   "source": [
    "def fib(max):\n",
    "    n, a, b = 0, 0, 1\n",
    "    while n < max:\n",
    "        print(b)\n",
    "        a = b\n",
    "        b = a + b\n",
    "        \n",
    "        n = n + 1\n",
    "        \n",
    "fib(2)"
   ]
  },
  {
   "cell_type": "code",
   "execution_count": null,
   "metadata": {},
   "outputs": [],
   "source": []
  },
  {
   "cell_type": "code",
   "execution_count": null,
   "metadata": {},
   "outputs": [],
   "source": []
  },
  {
   "cell_type": "code",
   "execution_count": null,
   "metadata": {},
   "outputs": [],
   "source": []
  },
  {
   "cell_type": "code",
   "execution_count": null,
   "metadata": {},
   "outputs": [],
   "source": []
  },
  {
   "cell_type": "code",
   "execution_count": null,
   "metadata": {},
   "outputs": [],
   "source": []
  },
  {
   "cell_type": "code",
   "execution_count": null,
   "metadata": {},
   "outputs": [],
   "source": []
  },
  {
   "cell_type": "code",
   "execution_count": null,
   "metadata": {},
   "outputs": [],
   "source": []
  },
  {
   "cell_type": "code",
   "execution_count": null,
   "metadata": {},
   "outputs": [],
   "source": []
  },
  {
   "cell_type": "code",
   "execution_count": null,
   "metadata": {},
   "outputs": [],
   "source": []
  },
  {
   "cell_type": "code",
   "execution_count": null,
   "metadata": {},
   "outputs": [],
   "source": []
  },
  {
   "cell_type": "code",
   "execution_count": null,
   "metadata": {},
   "outputs": [],
   "source": []
  },
  {
   "cell_type": "code",
   "execution_count": null,
   "metadata": {},
   "outputs": [],
   "source": []
  },
  {
   "cell_type": "code",
   "execution_count": null,
   "metadata": {},
   "outputs": [],
   "source": []
  },
  {
   "cell_type": "code",
   "execution_count": null,
   "metadata": {},
   "outputs": [],
   "source": []
  },
  {
   "cell_type": "code",
   "execution_count": null,
   "metadata": {},
   "outputs": [],
   "source": []
  },
  {
   "cell_type": "code",
   "execution_count": null,
   "metadata": {},
   "outputs": [],
   "source": []
  },
  {
   "cell_type": "code",
   "execution_count": null,
   "metadata": {},
   "outputs": [],
   "source": []
  },
  {
   "cell_type": "code",
   "execution_count": null,
   "metadata": {},
   "outputs": [],
   "source": []
  },
  {
   "cell_type": "code",
   "execution_count": null,
   "metadata": {},
   "outputs": [],
   "source": []
  }
 ],
 "metadata": {
  "kernelspec": {
   "display_name": "Python 3",
   "language": "python",
   "name": "python3"
  },
  "language_info": {
   "codemirror_mode": {
    "name": "ipython",
    "version": 3
   },
   "file_extension": ".py",
   "mimetype": "text/x-python",
   "name": "python",
   "nbconvert_exporter": "python",
   "pygments_lexer": "ipython3",
   "version": "3.7.1"
  }
 },
 "nbformat": 4,
 "nbformat_minor": 2
}
