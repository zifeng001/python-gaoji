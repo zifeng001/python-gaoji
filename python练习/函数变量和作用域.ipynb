{
 "cells": [
  {
   "cell_type": "code",
   "execution_count": null,
   "metadata": {},
   "outputs": [],
   "source": [
    "def fun_1():\n",
    "    print('有返回值')\n",
    "    return 2\n",
    "\n",
    "def fun_2():\n",
    "    print('没有返回值')\n",
    "    \n",
    "\n",
    "f1 = fun_1()\n",
    "print(f1)\n",
    "\n",
    "f2 = fun_2()\n",
    "print(f2)"
   ]
  },
  {
   "cell_type": "code",
   "execution_count": null,
   "metadata": {},
   "outputs": [],
   "source": [
    "x = 100\n",
    "y = 200\n",
    "z1 = x + y\n",
    "z2 = eval('x+y')\n",
    "\n",
    "print(z1)\n",
    "print(z2)"
   ]
  },
  {
   "cell_type": "code",
   "execution_count": null,
   "metadata": {},
   "outputs": [],
   "source": [
    "x = 0\n",
    "\n",
    "def fun():\n",
    "    global x\n",
    "    x += 1\n",
    "    print(x)\n",
    "    fun()\n",
    "    \n",
    "fun()"
   ]
  },
  {
   "cell_type": "code",
   "execution_count": 4,
   "metadata": {},
   "outputs": [
    {
     "name": "stdout",
     "output_type": "stream",
     "text": [
      "2\n"
     ]
    }
   ],
   "source": [
    "#  斐波那契数列\n",
    "def fun1(n):\n",
    "    if n <= 0:\n",
    "       print(input('请输入大于0的整数：')) \n",
    "\n",
    "    if n == 1:\n",
    "        return 1\n",
    "    if n == 2:\n",
    "        return 1\n",
    "    return fun1(n-1) + fun1(n-2)\n",
    "\n",
    "\n",
    "\n",
    "print(fun1(3))"
   ]
  },
  {
   "cell_type": "code",
   "execution_count": 9,
   "metadata": {},
   "outputs": [
    {
     "name": "stdout",
     "output_type": "stream",
     "text": [
      "2083181389704\n",
      "2083181390472\n"
     ]
    }
   ],
   "source": [
    "list1 =[1,2,3,4,5,6,7]\n",
    "list2 = list1[:]\n",
    "print(id(list1))\n",
    "print(id (list2))"
   ]
  },
  {
   "cell_type": "code",
   "execution_count": null,
   "metadata": {},
   "outputs": [],
   "source": []
  }
 ],
 "metadata": {
  "kernelspec": {
   "display_name": "Python 3",
   "language": "python",
   "name": "python3"
  },
  "language_info": {
   "codemirror_mode": {
    "name": "ipython",
    "version": 3
   },
   "file_extension": ".py",
   "mimetype": "text/x-python",
   "name": "python",
   "nbconvert_exporter": "python",
   "pygments_lexer": "ipython3",
   "version": "3.7.1"
  }
 },
 "nbformat": 4,
 "nbformat_minor": 2
}
