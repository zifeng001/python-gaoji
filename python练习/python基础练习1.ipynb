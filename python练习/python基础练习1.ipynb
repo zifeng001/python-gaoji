{
 "cells": [
  {
   "cell_type": "code",
   "execution_count": 3,
   "metadata": {},
   "outputs": [
    {
     "name": "stdout",
     "output_type": "stream",
     "text": [
      "打印一个双引号\"\n"
     ]
    }
   ],
   "source": [
    "print(\"打印一个双引号\\\"\")"
   ]
  },
  {
   "cell_type": "code",
   "execution_count": 5,
   "metadata": {},
   "outputs": [
    {
     "name": "stdout",
     "output_type": "stream",
     "text": [
      " \"打印一个双引号\" \n"
     ]
    }
   ],
   "source": [
    "print( ' \"打印一个双引号\" ' )"
   ]
  },
  {
   "cell_type": "code",
   "execution_count": 7,
   "metadata": {},
   "outputs": [
    {
     "name": "stdout",
     "output_type": "stream",
     "text": [
      "请输入：123\n",
      "<class 'str'>\n"
     ]
    }
   ],
   "source": [
    "temp = input('请输入：')\n",
    "print(type(temp))"
   ]
  },
  {
   "cell_type": "code",
   "execution_count": null,
   "metadata": {},
   "outputs": [],
   "source": [
    "temp = input('请输入：')\n",
    "temp.isdigit()"
   ]
  },
  {
   "cell_type": "code",
   "execution_count": 2,
   "metadata": {},
   "outputs": [
    {
     "name": "stdout",
     "output_type": "stream",
     "text": [
      "请输入数字：哈哈\n",
      "字符不合法，重新输入\n"
     ]
    }
   ],
   "source": [
    "\n",
    "temp = input('请输入数字：')\n",
    "if temp.isdigit():\n",
    "    print('go on')\n",
    "else:\n",
    "    print('字符不合法，重新输入')"
   ]
  },
  {
   "cell_type": "code",
   "execution_count": 5,
   "metadata": {},
   "outputs": [
    {
     "data": {
      "text/plain": [
       "True"
      ]
     },
     "execution_count": 5,
     "metadata": {},
     "output_type": "execute_result"
    }
   ],
   "source": [
    "cost =40\n",
    "10<cost and cost <50\n"
   ]
  },
  {
   "cell_type": "code",
   "execution_count": null,
   "metadata": {},
   "outputs": [],
   "source": [
    "\n",
    "    \n",
    "    "
   ]
  },
  {
   "cell_type": "code",
   "execution_count": 1,
   "metadata": {},
   "outputs": [
    {
     "ename": "IndentationError",
     "evalue": "unexpected indent (<ipython-input-1-eaae4197771a>, line 3)",
     "output_type": "error",
     "traceback": [
      "\u001b[1;36m  File \u001b[1;32m\"<ipython-input-1-eaae4197771a>\"\u001b[1;36m, line \u001b[1;32m3\u001b[0m\n\u001b[1;33m    temp = input('请输入一个年份：')\u001b[0m\n\u001b[1;37m    ^\u001b[0m\n\u001b[1;31mIndentationError\u001b[0m\u001b[1;31m:\u001b[0m unexpected indent\n"
     ]
    }
   ],
   "source": [
    "# 判断年份是否为闰年\n",
    "\n",
    "    temp = input('请输入一个年份：')\n",
    "    if temp.isdigit():\n",
    "        year = int(temp)\n",
    "        if year%4==0:\n",
    "            print('是闰年')\n",
    "        else:\n",
    "            print('不是闰年')\n",
    "\n",
    "    else:\n",
    "        print('字符不合法,请重新输入')"
   ]
  },
  {
   "cell_type": "code",
   "execution_count": 2,
   "metadata": {},
   "outputs": [
    {
     "name": "stdout",
     "output_type": "stream",
     "text": [
      "请输入1-50之间的任意数字：20\n",
      "猜小了，小了\n",
      "请输入1-50之间的任意数字：30\n",
      "运气逆天，猜对了！\n",
      "请输入1-50之间的任意数字：haha \n",
      "字符不合法，请重新输入\n",
      "请输入1-50之间的任意数字：ha \n",
      "字符不合法，请重新输入\n",
      "请输入1-50之间的任意数字：hah\n",
      "字符不合法，请重新输入\n",
      "请输入1-50之间的任意数字：hah \n",
      "字符不合法，请重新输入\n",
      "请输入1-50之间的任意数字：hah \n",
      "字符不合法，请重新输入\n",
      "请输入1-50之间的任意数字：10\n",
      "猜小了，小了\n",
      "没有机会猜了，哈哈\n"
     ]
    }
   ],
   "source": [
    "import random\n",
    "secret = random.randint(1,50)\n",
    "\n",
    "times = 3\n",
    "while times:\n",
    "    temp = input('请输入1-50之间的任意数字：')\n",
    "    if temp.isdigit():\n",
    "        guess = int(temp)\n",
    "\n",
    "        if guess == secret:\n",
    "            print('运气逆天，猜对了！')\n",
    "\n",
    "        if guess > secret:\n",
    "            print('猜大了，大了')\n",
    "\n",
    "        if guess < secret:\n",
    "            print('猜小了，小了')\n",
    "            \n",
    "        times = times -1\n",
    "\n",
    "    else:\n",
    "        print('字符不合法，请重新输入')\n",
    "        \n",
    "print('没有机会猜了，哈哈')\n",
    "   "
   ]
  },
  {
   "cell_type": "code",
   "execution_count": 9,
   "metadata": {},
   "outputs": [
    {
     "name": "stdout",
     "output_type": "stream",
     "text": [
      "1 3 5 7 9 11 13 15 17 19 21 23 25 27 29 31 33 35 37 39 41 43 45 47 49 51 53 55 57 59 61 63 65 67 69 71 73 75 77 79 81 83 85 87 89 91 93 95 97 99 "
     ]
    }
   ],
   "source": [
    "# 打印0-100内所有奇数\n",
    "for i in range(0,101):\n",
    "    if i % 2 != 0:\n",
    "        print(i,end=' ')\n",
    "        \n"
   ]
  },
  {
   "cell_type": "code",
   "execution_count": null,
   "metadata": {},
   "outputs": [],
   "source": [
    "x % 2 == 1\n",
    "x % 3 == 2\n",
    "x % 5 == 4\n",
    "x % 6 == 5\n",
    "x % 7 == 0"
   ]
  },
  {
   "cell_type": "code",
   "execution_count": 3,
   "metadata": {},
   "outputs": [
    {
     "name": "stdout",
     "output_type": "stream",
     "text": [
      "119\n",
      "329\n"
     ]
    }
   ],
   "source": [
    "for x in range(0,500):\n",
    "    if x % 2 == 1 and x % 3 == 2 and x % 5 == 4 and x % 6 == 5 and x % 7 == 0:\n",
    "        print(x)"
   ]
  },
  {
   "cell_type": "code",
   "execution_count": null,
   "metadata": {},
   "outputs": [],
   "source": []
  },
  {
   "cell_type": "code",
   "execution_count": 4,
   "metadata": {},
   "outputs": [
    {
     "name": "stdout",
     "output_type": "stream",
     "text": [
      "119\n",
      "循环结束\n"
     ]
    }
   ],
   "source": [
    "x = 0\n",
    "while x<200:\n",
    "    if x % 2 == 1 and x % 3 == 2 and x % 5 == 4 and x % 6 == 5 and x % 7 == 0:\n",
    "        print(x)\n",
    "        break\n",
    "    else:\n",
    "        x += 1\n",
    "print('循环结束')\n",
    "    "
   ]
  },
  {
   "cell_type": "code",
   "execution_count": 6,
   "metadata": {},
   "outputs": [
    {
     "name": "stdout",
     "output_type": "stream",
     "text": [
      "0\n",
      "1\n",
      "2\n",
      "3\n",
      "4\n",
      "5\n",
      "6\n",
      "7\n",
      "8\n",
      "9\n",
      "10\n",
      "11\n"
     ]
    }
   ],
   "source": [
    "i = 0\n",
    "str1 = 'isflfjlajfsd'\n",
    "leng = len(str1)\n",
    "while i < leng:\n",
    "    print(i)\n",
    "    i +=1"
   ]
  },
  {
   "cell_type": "code",
   "execution_count": null,
   "metadata": {},
   "outputs": [],
   "source": [
    "# 设计一个验证用户密码程序，用户只有3次输入机会， 如果用户输入的包含* 。则不算在内\n",
    "password = '123456'\n",
    "\n",
    "times = 3\n",
    "while times:\n",
    "    input_password = input('请输入密码：')\n",
    "    \n",
    "    if '*' in input_password:\n",
    "        print('密码中不能包含*号')\n",
    "    else:\n",
    "        if input_password == password:\n",
    "            print('输入正确')\n",
    "        else:\n",
    "            print('密码错误')\n",
    "            times -= 1\n",
    "            print(\"还剩{0}次输入机会\".format(times))\n",
    "    "
   ]
  },
  {
   "cell_type": "code",
   "execution_count": 1,
   "metadata": {},
   "outputs": [
    {
     "name": "stdout",
     "output_type": "stream",
     "text": [
      "请输入密码：12\n",
      "密码错误\n",
      "还剩2次输入机会\n",
      "请输入密码：15\n",
      "密码错误\n",
      "还剩1次输入机会\n",
      "请输入密码：2\n",
      "密码错误\n",
      "还剩0次输入机会\n"
     ]
    }
   ],
   "source": [
    "# 设计一个验证用户密码程序，用户只有3次输入机会， 如果用户输入的包含* 。则不算在内\n",
    "password = '123456'\n",
    "\n",
    "times = 3\n",
    "while times:\n",
    "    input_password = input('请输入密码：')\n",
    "    \n",
    "    if '*' in input_password:\n",
    "        print('密码中不能包含*号')\n",
    "    else:\n",
    "        if input_password == password:\n",
    "            print('输入正确')\n",
    "        else:\n",
    "            print('密码错误')\n",
    "            times -= 1\n",
    "            print(\"还剩{0}次输入机会\".format(times))"
   ]
  },
  {
   "cell_type": "code",
   "execution_count": 2,
   "metadata": {},
   "outputs": [
    {
     "name": "stdout",
     "output_type": "stream",
     "text": [
      "153\n",
      "370\n",
      "371\n",
      "407\n"
     ]
    }
   ],
   "source": [
    "# 求100-999之间的水仙花数\n",
    "\n",
    "for x in range(100,1000):\n",
    "   if x == (x//100)**3 + (x//10%10)**3 + (x%10)**3:\n",
    "      print(x)\n",
    "\n",
    "     "
   ]
  },
  {
   "cell_type": "code",
   "execution_count": 9,
   "metadata": {},
   "outputs": [
    {
     "name": "stdout",
     "output_type": "stream",
     "text": [
      "153\n",
      "370\n",
      "371\n",
      "407\n"
     ]
    }
   ],
   "source": [
    "for i in range(100,500):\n",
    "    temp = list(str(i))\n",
    "    a = temp[0]\n",
    "    b = temp[1]\n",
    "    c = temp[2]\n",
    "    m = int(a)\n",
    "    n = int(b)\n",
    "    l = int(c)\n",
    "    if m**3 + n**3 + l**3 == i:\n",
    "       print(i)"
   ]
  },
  {
   "cell_type": "code",
   "execution_count": 11,
   "metadata": {},
   "outputs": [
    {
     "name": "stdout",
     "output_type": "stream",
     "text": [
      "red球的个数0\n",
      "yellow球的个数2\n",
      "green球的个数6\n",
      "red球的个数0\n",
      "yellow球的个数3\n",
      "green球的个数5\n",
      "red球的个数1\n",
      "yellow球的个数1\n",
      "green球的个数6\n",
      "red球的个数1\n",
      "yellow球的个数2\n",
      "green球的个数5\n",
      "red球的个数1\n",
      "yellow球的个数3\n",
      "green球的个数4\n",
      "red球的个数2\n",
      "yellow球的个数0\n",
      "green球的个数6\n",
      "red球的个数2\n",
      "yellow球的个数1\n",
      "green球的个数5\n",
      "red球的个数2\n",
      "yellow球的个数2\n",
      "green球的个数4\n",
      "red球的个数2\n",
      "yellow球的个数3\n",
      "green球的个数3\n",
      "red球的个数3\n",
      "yellow球的个数0\n",
      "green球的个数5\n",
      "red球的个数3\n",
      "yellow球的个数1\n",
      "green球的个数4\n",
      "red球的个数3\n",
      "yellow球的个数2\n",
      "green球的个数3\n",
      "red球的个数3\n",
      "yellow球的个数3\n",
      "green球的个数2\n"
     ]
    }
   ],
   "source": [
    "# 三色球，有红黄绿三种球，其中红3，黄3，绿6，先将这12个球混合放在一个盒子里， 从中任意摸出8个球，计算摸出球颜色的搭配\n",
    "\n",
    "for red in range(0,4):\n",
    "    for yellow in range(0,4):\n",
    "        for green in range(2,7):\n",
    "            if red + yellow + green == 8:\n",
    "                print('red球的个数{0}'.format(red))\n",
    "                print('yellow球的个数{0}'.format(yellow))\n",
    "                print('green球的个数{0}'.format(green))"
   ]
  },
  {
   "cell_type": "code",
   "execution_count": 12,
   "metadata": {},
   "outputs": [
    {
     "name": "stdout",
     "output_type": "stream",
     "text": [
      "[1, 2, 3, 4, 5, [6, 7, 8]]\n",
      "[1, 2, 3, 4, 5, 6, 7, 8]\n",
      "[1, 2, 15, 3, 4, 5]\n"
     ]
    }
   ],
   "source": [
    "# append() , extend(),  insert() 的区别\n",
    "\n",
    "a = [1,2,3,4,5]\n",
    "a.append([6,7,8])\n",
    "print(a)\n",
    "\n",
    "b = [1,2,3,4,5]\n",
    "b.extend([6,7,8])\n",
    "print(b)\n",
    "\n",
    "c = [1,2,3,4,5]\n",
    "c.insert(2,15)\n",
    "print(c)"
   ]
  },
  {
   "cell_type": "code",
   "execution_count": 9,
   "metadata": {},
   "outputs": [
    {
     "name": "stdout",
     "output_type": "stream",
     "text": [
      "恭喜你，登录成功\n"
     ]
    }
   ],
   "source": [
    "user_pass = {'zhangsan':'s123', 'erhu':'0251'}\n",
    "\n",
    "def create_user(username,password):\n",
    "    \n",
    "    usernames = user_pass.keys()\n",
    "    \n",
    "    if username in usernames:\n",
    "        print('这个用户已经被注册了')\n",
    "        \n",
    "    else:\n",
    "        user_pass[username] = password\n",
    "        print('恭喜你，你已经成为我们的会员')\n",
    "        \n",
    "# create_user('sfsf',123)\n",
    "# print(user_pass)\n",
    "\n",
    "def login_user(username, password):\n",
    "    usernames = user_pass.keys()\n",
    "    \n",
    "    if username not in usernames:\n",
    "        print('扯犊子呢，你Y根本不是我们会员')\n",
    "    elif password != user_pass[username]:\n",
    "        print('这个蠢货。连个密码都记不住')\n",
    "    else:\n",
    "        print('恭喜你，登录成功')\n",
    "\n",
    "\n",
    "login_user('erhu','0251')\n"
   ]
  },
  {
   "cell_type": "code",
   "execution_count": 5,
   "metadata": {},
   "outputs": [
    {
     "data": {
      "text/plain": [
       "dict_keys(['zhangsan', 'erhu'])"
      ]
     },
     "execution_count": 5,
     "metadata": {},
     "output_type": "execute_result"
    }
   ],
   "source": [
    "user_pass = {'zhangsan':'s123', 'erhu':'0251'}\n",
    "# user_pass['erhu']\n",
    "user_pass.keys()"
   ]
  },
  {
   "cell_type": "markdown",
   "metadata": {},
   "source": [
    "# 定义一个学生类，有下面的类属性\n",
    "- 1 姓名\n",
    "- 2 年龄\n",
    "- 3 成绩（语文，数学，英语）每科成绩类型为整数 类方法：\n",
    "- 4 获取学生的姓名\n",
    "- 5 获取学生的年纪\n",
    "- 6 返回3们科目中最高的分数"
   ]
  },
  {
   "cell_type": "code",
   "execution_count": 19,
   "metadata": {},
   "outputs": [
    {
     "name": "stdout",
     "output_type": "stream",
     "text": [
      "jiayu\n",
      "18\n",
      "100\n"
     ]
    }
   ],
   "source": [
    "class Student(object):\n",
    "    def __init__(self, name, age, score):\n",
    "        self.name = name\n",
    "        self.age = age\n",
    "        self.score = score\n",
    "    \n",
    "    def get_name(self):\n",
    "        return self.name\n",
    "    def get_age(self):\n",
    "        return self.age\n",
    "    def get_score(self):\n",
    "        return max(self.score) \n",
    "zz = Student('jiayu',18,[80,89,100])\n",
    "\n",
    "print(zz.get_name())\n",
    "print(zz.get_age())\n",
    "print(zz.get_score())\n",
    "             "
   ]
  },
  {
   "cell_type": "code",
   "execution_count": 15,
   "metadata": {},
   "outputs": [
    {
     "name": "stdout",
     "output_type": "stream",
     "text": [
      "20\n"
     ]
    }
   ],
   "source": [
    "l = min([100,20,45,154,250])\n",
    "print(l)"
   ]
  },
  {
   "cell_type": "markdown",
   "metadata": {},
   "source": [
    "# 定义一个字典类：DictClass ,完成如下功能\n",
    "- 删除某个key   del_dict(key)\n",
    "- 判断某个键是否在字典里，如果在返回键 对应的值，不在则返回not found get_dict()\n",
    "- 返回键组成的列表 返回类型：list get_key()\n",
    "- 合并字典， 并且返回合并后字典的values 组成的列表， 返回类型list update_dict()"
   ]
  },
  {
   "cell_type": "code",
   "execution_count": 35,
   "metadata": {},
   "outputs": [
    {
     "name": "stdout",
     "output_type": "stream",
     "text": [
      "dict_values([1, 2, 3])\n"
     ]
    }
   ],
   "source": [
    "class DictClass(object):\n",
    "    def __init__(self, dict):\n",
    "        self.dict = dict\n",
    "        \n",
    "    def del_dict(self, key):\n",
    "        # 判断key是否在字典里？\n",
    "        if key not in self.dict.keys():\n",
    "            return 'key不在字典里'\n",
    "        else:\n",
    "            self.dict.pop(key)\n",
    "            return '删除成功'\n",
    "        \n",
    "    def get_dict(self, key):\n",
    "        if key not in self.dict.keys():\n",
    "            return 'not found'\n",
    "        else:\n",
    "            # return self.dict[key]\n",
    "            return self.dict.keys()\n",
    "        \n",
    "    def update_dict(self, dict2):\n",
    "        self.dict = dict(self.dict, **dict2)\n",
    "        return self.dict.values()\n",
    "    \n",
    "            \n",
    "d = DictClass({'a':1,'b':2})\n",
    "# print(d.del_dict('c'))\n",
    "# print(d.del_dict('a'))\n",
    "# print(d.get_dict('a'))\n",
    "print(d.update_dict({'c':3}))"
   ]
  },
  {
   "cell_type": "markdown",
   "metadata": {},
   "source": [
    "# 定义一个列表的操作类 Listinfo\n",
    "- 包括的方法\n",
    "    - 列表元素添加 add_key()\n",
    "    - 列表元素取值 get_key()\n",
    "    - 列表合并 update_list(list)\n",
    "    - 删除并且返回最后一个元素：del_key()\n",
    "    \n"
   ]
  },
  {
   "cell_type": "code",
   "execution_count": 27,
   "metadata": {},
   "outputs": [
    {
     "name": "stdout",
     "output_type": "stream",
     "text": [
      "5\n"
     ]
    }
   ],
   "source": [
    "class ListInfo(object):\n",
    "    def __init__(self, list_val):\n",
    "        self.list = list_val\n",
    "    def add_key(self, key_name):\n",
    "        if isintance(key_name,(str, int)):\n",
    "            \n",
    "            self.list.append(key_name)\n",
    "            print(self.list)\n",
    "            return 'ok'\n",
    "        else:\n",
    "            return '我要字符或者数字'\n",
    "    \n",
    "    def get_key(self, index):\n",
    "        if index>= 0 and index < len(self.list):\n",
    "            return self.list[index]\n",
    "        else:\n",
    "            return '你输入的太多了'\n",
    "    \n",
    "    def update_list(self, new_list):\n",
    "        self.list.extend(new_list)\n",
    "        return self.list\n",
    "    def del_key(self):\n",
    "        if len(self.list) >=0:\n",
    "            return self.list.pop()\n",
    "        else:\n",
    "            return '列表是空的'\n",
    "    \n",
    "list_info = ListInfo([1,2,3,4,5])\n",
    "# print(list_info.add_key(6))\n",
    "# print(list_info.get_key(4)) \n",
    "# print(list_info.update_list([8,9,10]))\n",
    "print(list_info.del_key())"
   ]
  },
  {
   "cell_type": "code",
   "execution_count": 26,
   "metadata": {},
   "outputs": [
    {
     "name": "stdout",
     "output_type": "stream",
     "text": [
      "4\n",
      "7\n"
     ]
    }
   ],
   "source": [
    "l = [i for i in range(5)]\n",
    "m = [i for i in range(8)]\n",
    "# len(l)\n",
    "# print(l)\n",
    "print(l.pop())\n",
    "print(m.pop(-1))"
   ]
  },
  {
   "cell_type": "markdown",
   "metadata": {},
   "source": [
    "# 定义一个集合的操作类\n",
    "- 集合元素添加：add_setinfo()\n",
    "- 集合的交集：get_intersection()\n",
    "- 集合的并集：get_union()\n",
    "- 集合的差集：del_difference()\n"
   ]
  },
  {
   "cell_type": "code",
   "execution_count": 36,
   "metadata": {},
   "outputs": [
    {
     "name": "stdout",
     "output_type": "stream",
     "text": [
      "你传入的不是set\n"
     ]
    }
   ],
   "source": [
    "class SecInfo(object):\n",
    "    def __init__(self, my_set):\n",
    "        self.set1 = my_set\n",
    "    \n",
    "    def add_setinfo(self, keyname):\n",
    "        self.set1.add(keyname)\n",
    "        return self.set1\n",
    "    \n",
    "    def get_intersection(self, unioninfo):\n",
    "        if isinstance(unioninfo, set):\n",
    "            return self.set1 & unioninfo\n",
    "        else:\n",
    "            return '你传入的不是set'\n",
    "    \n",
    "    def get_union(self, unioninfo):\n",
    "        return self.set1 | unioninfo\n",
    "    \n",
    "    def del_difference(self, unioninfo):\n",
    "        return self.set1 - unioninfo\n",
    "    \n",
    "set2 = SecInfo({1,2,3,4,5})\n",
    "# print(set2.add_setinfo(6))\n",
    "print(set2.get_intersection(1))\n",
    "# print(set2.get_union({7,8,9}))\n",
    "# print(set2.del_difference({2,3,5}))"
   ]
  },
  {
   "cell_type": "markdown",
   "metadata": {},
   "source": [
    "# 定义一个门票系统\n",
    "- 门票的原价是100元\n",
    "- 当周末的时候门票涨价20%\n",
    "- 小孩子半票\n",
    "- 计算2个承认和一个小孩的平日票价"
   ]
  },
  {
   "cell_type": "code",
   "execution_count": 6,
   "metadata": {},
   "outputs": [
    {
     "name": "stdout",
     "output_type": "stream",
     "text": [
      "两个成人和一个小孩的平日价格是250.0\n"
     ]
    }
   ],
   "source": [
    "class Ticket():\n",
    "    def __init__(self, weekend=False, child=False):\n",
    "        self.exp = 100\n",
    "        if weekend:\n",
    "            self.inc = 1.2\n",
    "        else:\n",
    "            self.inc = 1\n",
    "            \n",
    "        if child:\n",
    "            self.discount = 0.5\n",
    "        else:\n",
    "            self.discount = 1\n",
    "            \n",
    "    def cal_price(self,num):\n",
    "        return self.exp * self.inc * self.discount * num\n",
    "\n",
    "adult = Ticket()\n",
    "child = Ticket(child=True)\n",
    "\n",
    "print('两个成人和一个小孩的平日价格是{}'.format(adult.cal_price(2)+ child.cal_price(1)))"
   ]
  },
  {
   "cell_type": "markdown",
   "metadata": {},
   "source": [
    "# 按一下要求定义一个乌龟类和鱼类\n",
    "- 假设游戏场景为范围（x,y）0<=x<=10, 0<=y<=10\n",
    "- 游戏生成1只乌龟和10条鱼\n",
    "- 他们的移动方向都随机\n",
    "- 乌龟的最大移动能力是2（乌龟可以随机选择移动1还是2）鱼最大的移动能力是1\n",
    "- 当移动到场景边缘，自动向反方向移动\n",
    "- 乌龟初始化体力为100（上限）\n",
    "- 乌龟每移动一次，体力消耗1\n",
    "- 当乌龟和鱼重叠，乌龟吃掉鱼，乌龟体力增加20\n",
    "- 鱼不计算体力\n",
    "- 当乌龟体力值为0或者鱼的数量为0时，游戏结束"
   ]
  },
  {
   "cell_type": "code",
   "execution_count": 19,
   "metadata": {},
   "outputs": [
    {
     "name": "stdout",
     "output_type": "stream",
     "text": [
      "有一条鱼被吃掉了\n",
      "有一条鱼被吃掉了\n",
      "有一条鱼被吃掉了\n",
      "有一条鱼被吃掉了\n",
      "有一条鱼被吃掉了\n",
      "有一条鱼被吃掉了\n",
      "有一条鱼被吃掉了\n",
      "有一条鱼被吃掉了\n",
      "有一条鱼被吃掉了\n",
      "乌龟体力被耗尽了，游戏结束\n"
     ]
    }
   ],
   "source": [
    "import random\n",
    "class Turtle(object):\n",
    "    def __init__(self):\n",
    "        self.power = 100\n",
    "        \n",
    "        # 初始化乌龟的位置\n",
    "        self.x = random.randint(0,10)\n",
    "        self.y = random.randint(0,10)\n",
    "        \n",
    "    def move(self):\n",
    "        new_x = random.choice([1,2,-1,-2]) + self.x\n",
    "        new_y = random.choice([1,2,-1,-2]) + self.y\n",
    "        \n",
    "        # 判断乌龟的移动是否超出了边界\n",
    "        if new_x < 0:\n",
    "            self.x = -new_x     \n",
    "        elif new_x > 10:\n",
    "            self.x = new_x - 10\n",
    "        else:\n",
    "            self.x = new_x\n",
    "            \n",
    "        if new_y < 0:\n",
    "            self.y = -new_y\n",
    "        elif new_y > 10:\n",
    "            self.y = new_y -10\n",
    "        else:\n",
    "            self.y = new_y\n",
    "            \n",
    "        self.power -= 1\n",
    "        return (self.x, self.y)\n",
    "    \n",
    "    def eat(self):\n",
    "        self.power += 20\n",
    "        if self.power >= 100:\n",
    "            self.power = 100\n",
    "            \n",
    "\n",
    "class Fish(object):\n",
    "    def __init__(self):\n",
    "        self.x = random.randint(0,10)\n",
    "        self.y = random.randint(0,10)\n",
    "        \n",
    "    def move(self):\n",
    "        new_x = self.x + random.choice([1,-1])\n",
    "        new_y = self.y + random.choice([1,-1])\n",
    "        \n",
    "        if new_x < 0:\n",
    "            self.x = -new_x\n",
    "        elif new_x >10:\n",
    "            self.x = new_x - 10\n",
    "        else:\n",
    "            self.x = new_x\n",
    "            \n",
    "        if new_y < 0:\n",
    "            self.y = -new_y\n",
    "        elif new_y > 10:\n",
    "            self.y = new_y - 10\n",
    "        else:\n",
    "            self.y = new_y\n",
    "        \n",
    "        return (self.x, self.y)\n",
    "    \n",
    "turtle = Turtle()\n",
    "fish = []\n",
    "for i in range(10):\n",
    "    new_fish = Fish()\n",
    "    fish.append(new_fish)\n",
    "    \n",
    "while True:\n",
    "    if not len(fish):\n",
    "        print('鱼被吃完了，游戏结束')\n",
    "        break\n",
    "    if not turtle.power:\n",
    "        print('乌龟体力被耗尽了，游戏结束')\n",
    "        break\n",
    "    \n",
    "    pos = turtle.move()\n",
    "    \n",
    "    for each_fish in fish[:]:\n",
    "        if each_fish.move() == pos:\n",
    "            turtle.eat()\n",
    "            fish.remove(each_fish)\n",
    "            print('有一条鱼被吃掉了')\n",
    "            \n",
    "\n",
    "        \n",
    "           "
   ]
  },
  {
   "cell_type": "markdown",
   "metadata": {},
   "source": [
    "### 定义一个点（point）和直线（line），使用getLen方法获得两点构成直线的长度"
   ]
  },
  {
   "cell_type": "code",
   "execution_count": 22,
   "metadata": {},
   "outputs": [
    {
     "data": {
      "text/plain": [
       "7.280109889280518"
      ]
     },
     "execution_count": 22,
     "metadata": {},
     "output_type": "execute_result"
    }
   ],
   "source": [
    "import math\n",
    "\n",
    "class Point(object):\n",
    "    def __init__(self, x=0, y=0):\n",
    "        self.x = x\n",
    "        self.y = y\n",
    "    \n",
    "    def get_x(self):\n",
    "        return self.x\n",
    "    \n",
    "    def get_y(self):\n",
    "        return self.y \n",
    "    \n",
    "class Line(object):\n",
    "    def __init__(self, p1, p2):\n",
    "        self.x = p1.get_x() - p2.get_x()\n",
    "        self.y = p1.get_y() - p2.get_y()\n",
    "        \n",
    "        self.len = math.sqrt(self.x*self.x + self.y*self.y)\n",
    "        \n",
    "    def get_len(self):\n",
    "        return self.len\n",
    "    \n",
    "p1 = Point(3,2)\n",
    "p2 = Point(5,9)\n",
    "line = Line(p1, p2)\n",
    "line.get_len()\n",
    "        "
   ]
  },
  {
   "cell_type": "code",
   "execution_count": null,
   "metadata": {},
   "outputs": [],
   "source": []
  },
  {
   "cell_type": "code",
   "execution_count": null,
   "metadata": {},
   "outputs": [],
   "source": []
  },
  {
   "cell_type": "code",
   "execution_count": null,
   "metadata": {},
   "outputs": [],
   "source": []
  },
  {
   "cell_type": "code",
   "execution_count": null,
   "metadata": {},
   "outputs": [],
   "source": []
  }
 ],
 "metadata": {
  "kernelspec": {
   "display_name": "Python 3",
   "language": "python",
   "name": "python3"
  },
  "language_info": {
   "codemirror_mode": {
    "name": "ipython",
    "version": 3
   },
   "file_extension": ".py",
   "mimetype": "text/x-python",
   "name": "python",
   "nbconvert_exporter": "python",
   "pygments_lexer": "ipython3",
   "version": "3.7.1"
  }
 },
 "nbformat": 4,
 "nbformat_minor": 2
}
