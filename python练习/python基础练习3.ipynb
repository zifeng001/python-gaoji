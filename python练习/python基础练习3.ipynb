{
 "cells": [
  {
   "cell_type": "code",
   "execution_count": 2,
   "metadata": {},
   "outputs": [
    {
     "name": "stdout",
     "output_type": "stream",
     "text": [
      "已经绑定端口\n",
      "正在监听\n",
      "准备接受socket传入\n",
      "已经接收到传入socket:<socket.socket fd=476, family=AddressFamily.AF_INET, type=SocketKind.SOCK_STREAM, proto=0, laddr=('127.0.0.1', 7855), raddr=('127.0.0.1', 49872)>\n",
      "<class 'bytes'>\n",
      "GET / HTTP/1.1\n",
      "Host: 127.0.0.1:7855\n",
      "Connection: keep-alive\n",
      "Upgrade-Insecure-Requests: 1\n",
      "User-Age\n"
     ]
    }
   ],
   "source": [
    "import socket\n",
    "sock = socket.socket(socket.AF_INET, socket.SOCK_STREAM)\n",
    "sock.bind((\"127.0.0.1\", 7855))\n",
    "print('已经绑定端口')\n",
    "# 监听\n",
    "sock.listen()\n",
    "print('正在监听')\n",
    "# 接受一个传进来的socket\n",
    "print('准备接受socket传入')\n",
    "skt, addr = sock.accept()\n",
    "print('已经接收到传入socket:{0}'.format(skt))\n",
    "\n",
    "# 读取传入消息,实际上是信息\n",
    "# 需要注意读取的信息长度一定要小于等于实际消息的长度，否则会假死\n",
    "msg = skt.recv(100)\n",
    "print(type(msg))\n",
    "print(msg.decode())\n",
    "\n",
    "#给对方一个反馈\n",
    "msg = \"my name is xiaoming\"\n",
    "skt.send(msg.encode())\n",
    "\n",
    "skt.close()\n",
    "sock.close()"
   ]
  },
  {
   "cell_type": "code",
   "execution_count": 3,
   "metadata": {},
   "outputs": [
    {
     "ename": "SyntaxError",
     "evalue": "invalid syntax (<ipython-input-3-f7816e785291>, line 2)",
     "output_type": "error",
     "traceback": [
      "\u001b[1;36m  File \u001b[1;32m\"<ipython-input-3-f7816e785291>\"\u001b[1;36m, line \u001b[1;32m2\u001b[0m\n\u001b[1;33m    python manage.py runserver\u001b[0m\n\u001b[1;37m                ^\u001b[0m\n\u001b[1;31mSyntaxError\u001b[0m\u001b[1;31m:\u001b[0m invalid syntax\n"
     ]
    }
   ],
   "source": [
    "\n",
    "python manage.py runserver\n"
   ]
  },
  {
   "cell_type": "code",
   "execution_count": 3,
   "metadata": {},
   "outputs": [
    {
     "data": {
      "text/plain": [
       "5050"
      ]
     },
     "execution_count": 3,
     "metadata": {},
     "output_type": "execute_result"
    }
   ],
   "source": [
    "sum(range(0,101))"
   ]
  },
  {
   "cell_type": "code",
   "execution_count": 6,
   "metadata": {},
   "outputs": [
    {
     "data": {
      "text/plain": [
       "{'age': 18}"
      ]
     },
     "execution_count": 6,
     "metadata": {},
     "output_type": "execute_result"
    }
   ],
   "source": [
    "dic = {'name':'xiaoyu', 'age':18}\n",
    "del dic['name']\n",
    "dic"
   ]
  },
  {
   "cell_type": "code",
   "execution_count": 10,
   "metadata": {},
   "outputs": [
    {
     "data": {
      "text/plain": [
       "{'age': 18, 'name': 'yuxioa'}"
      ]
     },
     "execution_count": 10,
     "metadata": {},
     "output_type": "execute_result"
    }
   ],
   "source": [
    "dic2 = {'name':'yuxioa'}\n",
    "dic.update(dic2)\n",
    "dic"
   ]
  },
  {
   "cell_type": "code",
   "execution_count": 15,
   "metadata": {},
   "outputs": [
    {
     "name": "stdout",
     "output_type": "stream",
     "text": [
      "{1, 2, 41, 12, 14, 15, 124}\n",
      "[1, 2, 41, 12, 14, 15, 124]\n"
     ]
    }
   ],
   "source": [
    "list = [1,2,1,2,1,2,14,2,15,124,12,41,1]\n",
    "a = set(list)\n",
    "print(a)\n",
    "b = [i for i in a]\n",
    "print(b)"
   ]
  },
  {
   "cell_type": "code",
   "execution_count": 17,
   "metadata": {},
   "outputs": [
    {
     "name": "stdout",
     "output_type": "stream",
     "text": [
      "a\n",
      "b\n",
      "c\n",
      "d\n"
     ]
    }
   ],
   "source": [
    "def demo(*args):\n",
    "    for i in args:\n",
    "        print(i)\n",
    "        \n",
    "demo('a','b','c','d')"
   ]
  },
  {
   "cell_type": "code",
   "execution_count": 18,
   "metadata": {},
   "outputs": [
    {
     "name": "stdout",
     "output_type": "stream",
     "text": [
      "name xiaoyu\n",
      "age 20\n"
     ]
    }
   ],
   "source": [
    "def demo(**args):\n",
    "    for k,v in args.items():\n",
    "        print(k,v)\n",
    "demo(name='xiaoyu',age=20)"
   ]
  },
  {
   "cell_type": "code",
   "execution_count": 20,
   "metadata": {},
   "outputs": [
    {
     "name": "stdout",
     "output_type": "stream",
     "text": [
      "[16, 25]\n"
     ]
    }
   ],
   "source": [
    "list = [1,2,3,4,5]\n",
    "def fn(x):\n",
    "    return x ** 2\n",
    "res = map(fn,list)\n",
    "res = [i for i in res if i>10]\n",
    "print(res)\n",
    "    "
   ]
  },
  {
   "cell_type": "code",
   "execution_count": 23,
   "metadata": {},
   "outputs": [
    {
     "name": "stdout",
     "output_type": "stream",
     "text": [
      "11\n"
     ]
    }
   ],
   "source": [
    "import random\n",
    "a = random.randint(10,20)\n",
    "print(a)"
   ]
  },
  {
   "cell_type": "code",
   "execution_count": 27,
   "metadata": {},
   "outputs": [
    {
     "name": "stdout",
     "output_type": "stream",
     "text": [
      "[-1.251587    0.3137342   1.16041203]\n",
      "0.3976744666816109\n"
     ]
    }
   ],
   "source": [
    "import random\n",
    "import numpy as np\n",
    "b = np.random.randn(3)\n",
    "print(b)\n",
    "c = random.random()\n",
    "print(c)"
   ]
  },
  {
   "cell_type": "code",
   "execution_count": 28,
   "metadata": {},
   "outputs": [
    {
     "name": "stdout",
     "output_type": "stream",
     "text": [
      "['中国']\n"
     ]
    }
   ],
   "source": [
    "import re\n",
    "str = '<div class=\"nam\">中国</div>'\n",
    "res = re.findall(r'<div class=\".*\">(.*?)</div>', str)\n",
    "print(res)"
   ]
  },
  {
   "cell_type": "code",
   "execution_count": 29,
   "metadata": {},
   "outputs": [
    {
     "name": "stdout",
     "output_type": "stream",
     "text": [
      "断言成功，程序可以继续执行\n"
     ]
    },
    {
     "ename": "AssertionError",
     "evalue": "",
     "output_type": "error",
     "traceback": [
      "\u001b[1;31m---------------------------------------------------------------------------\u001b[0m",
      "\u001b[1;31mAssertionError\u001b[0m                            Traceback (most recent call last)",
      "\u001b[1;32m<ipython-input-29-524e2721ee6f>\u001b[0m in \u001b[0;36m<module>\u001b[1;34m\u001b[0m\n\u001b[0;32m      5\u001b[0m \u001b[1;33m\u001b[0m\u001b[0m\n\u001b[0;32m      6\u001b[0m \u001b[0mb\u001b[0m \u001b[1;33m=\u001b[0m \u001b[1;36m4\u001b[0m\u001b[1;33m\u001b[0m\u001b[1;33m\u001b[0m\u001b[0m\n\u001b[1;32m----> 7\u001b[1;33m \u001b[1;32massert\u001b[0m\u001b[1;33m(\u001b[0m\u001b[0mb\u001b[0m\u001b[1;33m>\u001b[0m\u001b[1;36m7\u001b[0m\u001b[1;33m)\u001b[0m\u001b[1;33m\u001b[0m\u001b[1;33m\u001b[0m\u001b[0m\n\u001b[0m\u001b[0;32m      8\u001b[0m \u001b[0mprint\u001b[0m\u001b[1;33m(\u001b[0m\u001b[1;34m'断言失败，程序报错'\u001b[0m\u001b[1;33m)\u001b[0m\u001b[1;33m\u001b[0m\u001b[1;33m\u001b[0m\u001b[0m\n",
      "\u001b[1;31mAssertionError\u001b[0m: "
     ]
    }
   ],
   "source": [
    "# assert()方法，断言成功，则程序继续执行，断言失败，则程序报错\n",
    "a = 3\n",
    "assert(a>1)\n",
    "print('断言成功，程序可以继续执行')\n",
    "\n",
    "b = 4\n",
    "assert(b>7)\n",
    "print('断言失败，程序报错')"
   ]
  },
  {
   "cell_type": "code",
   "execution_count": 15,
   "metadata": {},
   "outputs": [
    {
     "name": "stdout",
     "output_type": "stream",
     "text": [
      "[-45, -8, -3, 1, 4, 12, 33, 66, 78]\n",
      "[78, 66, 33, 12, 4, 1, -3, -8, -45]\n"
     ]
    }
   ],
   "source": [
    "list_a = [12,4,78,-3,-45,33,66,1,-8]\n",
    "list_a.sort()\n",
    "print(list_a)\n",
    "\n",
    "list_a.reverse()\n",
    "print(list_a)"
   ]
  },
  {
   "cell_type": "code",
   "execution_count": 17,
   "metadata": {},
   "outputs": [
    {
     "name": "stdout",
     "output_type": "stream",
     "text": [
      "[-45, -8, -3, 1, 4, 12, 33, 66, 78]\n",
      "[78, 66, 33, 12, 4, 1, -3, -8, -45]\n",
      "[1, -3, 4, -8, 12, 33, -45, 66, 78]\n"
     ]
    }
   ],
   "source": [
    "list1 = [12,4,78,-3,-45,33,66,1,-8]\n",
    "a = sorted(list1)\n",
    "b = sorted(list1, reverse=True)\n",
    "c = sorted(list1, key=lambda x:abs(x))\n",
    "print(a)\n",
    "print(b)\n",
    "print(c)"
   ]
  },
  {
   "cell_type": "code",
   "execution_count": 18,
   "metadata": {},
   "outputs": [
    {
     "name": "stdout",
     "output_type": "stream",
     "text": [
      "[1, 4, 12, 33, 66, 78, -3, -8, -45]\n"
     ]
    }
   ],
   "source": [
    "list2 = [12,4,78,-3,-45,33,66,1,-8]\n",
    "res = sorted(list2, key=lambda x:(x<0, abs(x)))\n",
    "print(res)"
   ]
  },
  {
   "cell_type": "code",
   "execution_count": 25,
   "metadata": {},
   "outputs": [
    {
     "name": "stdout",
     "output_type": "stream",
     "text": [
      "[{'name': '六六', 'age': '40'}, {'name': '张磊', 'age': '35'}, {'name': 'xiaojiayu', 'age': '20'}, {'name': 'liudana', 'age': '18'}]\n",
      "[{'name': '张磊', 'age': '35'}, {'name': '六六', 'age': '40'}, {'name': 'xiaojiayu', 'age': '20'}, {'name': 'liudana', 'age': '18'}]\n"
     ]
    }
   ],
   "source": [
    "# 列表嵌套字典，分别根据年龄和姓名排序\n",
    "list_b = [\n",
    "    {'name':'xiaojiayu', 'age':'20'},\n",
    "    {'name':'liudana','age':'18'},\n",
    "    {'name':'张磊', 'age':'35'},\n",
    "    {'name':'六六', 'age':'40'}  \n",
    "]\n",
    "\n",
    "age = sorted(list_b, key=lambda x:x['age'], reverse=True)\n",
    "print(age)\n",
    "name = sorted(list_b, key=lambda y:y['name'], reverse=True)\n",
    "print(name)"
   ]
  },
  {
   "cell_type": "code",
   "execution_count": 26,
   "metadata": {},
   "outputs": [
    {
     "name": "stdout",
     "output_type": "stream",
     "text": [
      "[('aa', 12), ('ad', 15), ('gdr', 36), ('jy', 6)]\n",
      "[('gdr', 36), ('ad', 15), ('aa', 12), ('jy', 6)]\n"
     ]
    }
   ],
   "source": [
    "# 列表嵌套元组，分别按字母和数字排序\n",
    "list_c = [\n",
    "    ('aa',12), ('ad',15), ('gdr',36), ('jy',6)\n",
    "]\n",
    "a = sorted(list_c, key=lambda x:x[0])\n",
    "print(a)\n",
    "b = sorted(list_c, key=lambda y:y[1], reverse=True)\n",
    "print(b)"
   ]
  },
  {
   "cell_type": "code",
   "execution_count": 3,
   "metadata": {},
   "outputs": [
    {
     "name": "stdout",
     "output_type": "stream",
     "text": [
      "[['dd', 18], ['ee', 18], ['aa', 20], ['bb', 20], ['cc', 20]]\n",
      "[['dd', 18], ['ee', 18], ['aa', 20], ['bb', 20], ['cc', 20]]\n"
     ]
    }
   ],
   "source": [
    "# 列表嵌套列表排序，年龄数字相同时，怎么办？\n",
    "list3 = [\n",
    "    ['aa', 20], ['bb',20],['cc',20],['dd', 18],['ee',18]\n",
    "]\n",
    "\n",
    "res = sorted(list3, key=lambda x: (x[1],x[0]))\n",
    "print(res)\n",
    "\n",
    "rst = sorted(list3, key=lambda y: y[1])\n",
    "print(rst)"
   ]
  },
  {
   "cell_type": "code",
   "execution_count": 9,
   "metadata": {},
   "outputs": [
    {
     "name": "stdout",
     "output_type": "stream",
     "text": [
      "<zip object at 0x0000021A7D5BB408>\n",
      "[('name', 'yx'), ('sex', 'man'), ('city', 'cd')]\n",
      "[('city', 'cd'), ('sex', 'man'), ('name', 'yx')]\n",
      "{'city': 'cd', 'sex': 'man', 'name': 'yx'}\n"
     ]
    }
   ],
   "source": [
    "dict1 = {'name':'yx', 'sex':'man', 'city':'cd'}\n",
    "rst = zip(dict1.keys(), dict1.values())\n",
    "print(rst)\n",
    "g = [i for i in rst]\n",
    "print(g)\n",
    "j = sorted(g, key=lambda x: x[1])\n",
    "print(j)\n",
    "new_dict = {i[0]:i[1] for i in j}\n",
    "print(new_dict)"
   ]
  },
  {
   "cell_type": "code",
   "execution_count": 21,
   "metadata": {},
   "outputs": [
    {
     "name": "stdout",
     "output_type": "stream",
     "text": [
      "dict_items([('name', 'yx'), ('sex', 'man'), ('city', 'cd')])\n",
      "name yx\n",
      "sex man\n",
      "city cd\n"
     ]
    }
   ],
   "source": [
    "dict2 = {'name':'yx', 'sex':'man', 'city':'cd'}\n",
    "print(dict2.items())\n",
    "\n",
    "for k,v in dict2.items():\n",
    "    print(k,v)"
   ]
  },
  {
   "cell_type": "code",
   "execution_count": 23,
   "metadata": {},
   "outputs": [
    {
     "name": "stdout",
     "output_type": "stream",
     "text": [
      "2\n"
     ]
    }
   ],
   "source": [
    "from operator import itemgetter\n",
    "\n",
    "list_e = [1,2,3,4,5]\n",
    "func_1 = itemgetter(1)   #定义函数func_1,获取对象的第一个域的值\n",
    "print(func_1(list_e))"
   ]
  },
  {
   "cell_type": "code",
   "execution_count": 25,
   "metadata": {},
   "outputs": [
    {
     "data": {
      "text/plain": [
       "2"
      ]
     },
     "execution_count": 25,
     "metadata": {},
     "output_type": "execute_result"
    }
   ],
   "source": [
    "list4 = [1,2,3,4,5]\n",
    "list4[1]"
   ]
  },
  {
   "cell_type": "code",
   "execution_count": 26,
   "metadata": {},
   "outputs": [
    {
     "name": "stdout",
     "output_type": "stream",
     "text": [
      "i am 15 years old\n"
     ]
    }
   ],
   "source": [
    "print('i am %d years old' %(15))"
   ]
  },
  {
   "cell_type": "code",
   "execution_count": 37,
   "metadata": {},
   "outputs": [
    {
     "name": "stdout",
     "output_type": "stream",
     "text": [
      "1*1=1\t\n",
      "1*2=2\t2*2=4\t\n",
      "1*3=3\t2*3=6\t3*3=9\t\n",
      "1*4=4\t2*4=8\t3*4=12\t4*4=16\t\n",
      "1*5=5\t2*5=10\t3*5=15\t4*5=20\t5*5=25\t\n",
      "1*6=6\t2*6=12\t3*6=18\t4*6=24\t5*6=30\t6*6=36\t\n",
      "1*7=7\t2*7=14\t3*7=21\t4*7=28\t5*7=35\t6*7=42\t7*7=49\t\n",
      "1*8=8\t2*8=16\t3*8=24\t4*8=32\t5*8=40\t6*8=48\t7*8=56\t8*8=64\t\n",
      "1*9=9\t2*9=18\t3*9=27\t4*9=36\t5*9=45\t6*9=54\t7*9=63\t8*9=72\t9*9=81\t\n"
     ]
    }
   ],
   "source": [
    "for i in range(1,10):\n",
    "    for j in range(1,i+1):\n",
    "        print('%d*%d=%d\\t' %(j,i,i*j), end='')\n",
    "    print()"
   ]
  },
  {
   "cell_type": "code",
   "execution_count": 40,
   "metadata": {},
   "outputs": [
    {
     "name": "stdout",
     "output_type": "stream",
     "text": [
      "1\n"
     ]
    }
   ],
   "source": [
    "print(int(1.8))"
   ]
  },
  {
   "cell_type": "code",
   "execution_count": 42,
   "metadata": {
    "scrolled": true
   },
   "outputs": [
    {
     "name": "stdout",
     "output_type": "stream",
     "text": [
      "aa aaa a aa\n"
     ]
    }
   ],
   "source": [
    "str1 = '   aa aaa a aa    '\n",
    "print(str1.strip())  # "
   ]
  },
  {
   "cell_type": "code",
   "execution_count": 43,
   "metadata": {},
   "outputs": [
    {
     "name": "stdout",
     "output_type": "stream",
     "text": [
      "[1, 2, [3, 4]]\n"
     ]
    }
   ],
   "source": [
    "import copy\n",
    "origin = [1, 2, [3, 4]]\n",
    "cop1 = copy.copy(origin)\n",
    "print(cop1)"
   ]
  },
  {
   "cell_type": "code",
   "execution_count": 44,
   "metadata": {},
   "outputs": [
    {
     "ename": "TypeError",
     "evalue": "'module' object is not callable",
     "output_type": "error",
     "traceback": [
      "\u001b[1;31m---------------------------------------------------------------------------\u001b[0m",
      "\u001b[1;31mTypeError\u001b[0m                                 Traceback (most recent call last)",
      "\u001b[1;32m<ipython-input-44-5892567db5db>\u001b[0m in \u001b[0;36m<module>\u001b[1;34m\u001b[0m\n\u001b[1;32m----> 1\u001b[1;33m \u001b[0mcop2\u001b[0m \u001b[1;33m=\u001b[0m \u001b[0mcopy\u001b[0m\u001b[1;33m(\u001b[0m\u001b[0morigin\u001b[0m\u001b[1;33m)\u001b[0m\u001b[1;33m\u001b[0m\u001b[1;33m\u001b[0m\u001b[0m\n\u001b[0m\u001b[0;32m      2\u001b[0m \u001b[0mprint\u001b[0m\u001b[1;33m(\u001b[0m\u001b[0mcop2\u001b[0m\u001b[1;33m)\u001b[0m\u001b[1;33m\u001b[0m\u001b[1;33m\u001b[0m\u001b[0m\n",
      "\u001b[1;31mTypeError\u001b[0m: 'module' object is not callable"
     ]
    }
   ],
   "source": [
    "cop2 = copy(origin)\n",
    "print(cop2)"
   ]
  },
  {
   "cell_type": "code",
   "execution_count": 4,
   "metadata": {},
   "outputs": [
    {
     "name": "stdout",
     "output_type": "stream",
     "text": [
      "名字是:汤姆 , 年龄是:30\n",
      "汤姆在吃鱼....\n",
      "汤姆在喝可乐...\n"
     ]
    }
   ],
   "source": [
    "class Cat:\n",
    "    \"\"\"定义一个猫类\"\"\"\n",
    " \n",
    "    def __init__(self, new_name, new_age):\n",
    "        \"\"\"在创建完对象之后 会自动调用, 它完成对象的初始化的功能\"\"\"\n",
    "        # self.name = \"汤姆\"\n",
    "        # self.age = 20\n",
    "        self.name = new_name\n",
    "        self.age = new_age  # 它是一个对象中的属性,在对象中存储,即只要这个对象还存在,那么这个变量就可以使用\n",
    "        # num = 100  # 它是一个局部变量,当这个函数执行完之后,这个变量的空间就没有了,因此其他方法不能使用这个变量\n",
    " \n",
    "    def __str__(self):\n",
    "        \"\"\"返回一个对象的描述信息\"\"\"\n",
    "        # print(num)\n",
    "        return \"名字是:%s , 年龄是:%d\" % (self.name, self.age)\n",
    " \n",
    "    def eat(self):\n",
    "        print(\"%s在吃鱼....\" % self.name)\n",
    " \n",
    "    def drink(self):\n",
    "        print(\"%s在喝可乐...\" % self.name)\n",
    " \n",
    "    def introduce(self):\n",
    "        # print(\"名字是:%s, 年龄是:%d\" % (汤姆的名字, 汤姆的年龄))\n",
    "        # print(\"名字是:%s, 年龄是:%d\" % (tom.name, tom.age))\n",
    "        print(\"名字是:%s, 年龄是:%d\" % (self.name, self.age))\n",
    " \n",
    "# 创建了一个对象\n",
    "tom = Cat(\"汤姆\", 30)\n",
    "print(tom)\n",
    "tom.eat()\n",
    "tom.drink()"
   ]
  },
  {
   "cell_type": "code",
   "execution_count": 5,
   "metadata": {},
   "outputs": [
    {
     "name": "stdout",
     "output_type": "stream",
     "text": [
      "* * * * * * \n",
      "* * * * * * \n",
      "* * * * * * \n",
      "* * * * * * \n"
     ]
    }
   ],
   "source": [
    "def mystar(x,y):\n",
    "    for i in range(x):\n",
    "        for j in range(y):\n",
    "            print('*',end=' ')\n",
    "\n",
    "        print()\n",
    "        \n",
    "mystar(4,6)"
   ]
  },
  {
   "cell_type": "code",
   "execution_count": 2,
   "metadata": {},
   "outputs": [
    {
     "name": "stdout",
     "output_type": "stream",
     "text": [
      "hahahha\n"
     ]
    }
   ],
   "source": [
    "def num():\n",
    "    print('hahahha')\n",
    "    \n",
    "f = num\n",
    "f()"
   ]
  },
  {
   "cell_type": "code",
   "execution_count": null,
   "metadata": {},
   "outputs": [],
   "source": []
  },
  {
   "cell_type": "code",
   "execution_count": null,
   "metadata": {},
   "outputs": [],
   "source": []
  },
  {
   "cell_type": "code",
   "execution_count": null,
   "metadata": {},
   "outputs": [],
   "source": []
  },
  {
   "cell_type": "code",
   "execution_count": null,
   "metadata": {},
   "outputs": [],
   "source": []
  },
  {
   "cell_type": "code",
   "execution_count": null,
   "metadata": {},
   "outputs": [],
   "source": []
  },
  {
   "cell_type": "code",
   "execution_count": null,
   "metadata": {},
   "outputs": [],
   "source": []
  },
  {
   "cell_type": "code",
   "execution_count": null,
   "metadata": {},
   "outputs": [],
   "source": []
  },
  {
   "cell_type": "code",
   "execution_count": null,
   "metadata": {},
   "outputs": [],
   "source": []
  }
 ],
 "metadata": {
  "kernelspec": {
   "display_name": "Python 3",
   "language": "python",
   "name": "python3"
  },
  "language_info": {
   "codemirror_mode": {
    "name": "ipython",
    "version": 3
   },
   "file_extension": ".py",
   "mimetype": "text/x-python",
   "name": "python",
   "nbconvert_exporter": "python",
   "pygments_lexer": "ipython3",
   "version": "3.7.1"
  }
 },
 "nbformat": 4,
 "nbformat_minor": 2
}
