{
 "cells": [
  {
   "cell_type": "markdown",
   "metadata": {},
   "source": [
    "# 迭代器\n",
    "    - 可迭代（Iterable）：直接作用于for 循环的变量\n",
    "    - 迭代器（Iterator）: 不但可以作用于for 循环，还可以被next调用\n",
    "    - list 是典型的可迭代对象，但不是迭代器\n",
    "    - 通过isinstance 判断\n",
    "    - Iterable 和 Iterator 可以转换\n",
    "        - 通过iter 函数"
   ]
  },
  {
   "cell_type": "code",
   "execution_count": 6,
   "metadata": {},
   "outputs": [
    {
     "name": "stdout",
     "output_type": "stream",
     "text": [
      "True\n",
      "False\n"
     ]
    },
    {
     "name": "stderr",
     "output_type": "stream",
     "text": [
      "C:\\Users\\zifeng\\Anaconda3\\lib\\site-packages\\ipykernel_launcher.py:9: DeprecationWarning: Using or importing the ABCs from 'collections' instead of from 'collections.abc' is deprecated, and in 3.8 it will stop working\n",
      "  if __name__ == '__main__':\n"
     ]
    }
   ],
   "source": [
    "# isinstance 案例\n",
    "# 判断某个变量是否是一个实例\n",
    "\n",
    "# 判断是否可迭代\n",
    "from collections import Iterable\n",
    "m = [1,2,3,4,5]\n",
    "print(isinstance(m, Iterable))\n",
    "\n",
    "from collections import Iterator\n",
    "print(isinstance(m, Iterator))"
   ]
  },
  {
   "cell_type": "code",
   "execution_count": 9,
   "metadata": {},
   "outputs": [
    {
     "name": "stdout",
     "output_type": "stream",
     "text": [
      "True\n",
      "False\n",
      "True\n",
      "True\n"
     ]
    }
   ],
   "source": [
    "# iter 函数\n",
    "s = 'my name is xiaojiayyu'\n",
    "print(isinstance(s, Iterable))\n",
    "print(isinstance(s, Iterator))\n",
    "\n",
    "s_iter = iter(s)\n",
    "print(isinstance(s_iter, Iterable))\n",
    "print(isinstance(s_iter, Iterator))"
   ]
  },
  {
   "cell_type": "markdown",
   "metadata": {},
   "source": [
    "# 生成器\n",
    "- generator 一边循环，一遍计算下一个元素的机制/算法\n",
    "- 需要满足3个条件\n",
    "    - 每次调用都生产for 循环需要的下一个元素\n",
    "    - 如果达到最后一个后， 报出StopIteration 异常\n",
    "    - 可以被next函数调用\n",
    "\n",
    "- 如何制作一个生成器\n",
    "    - 直接使用\n",
    "    - 如果函数中包含yield,则这个函数叫做生成器\n",
    "    - next 调用函数， 遇到yield返回"
   ]
  },
  {
   "cell_type": "code",
   "execution_count": 10,
   "metadata": {},
   "outputs": [
    {
     "name": "stdout",
     "output_type": "stream",
     "text": [
      "<class 'list'>\n",
      "<class 'generator'>\n"
     ]
    }
   ],
   "source": [
    "# 直接使用生成器\n",
    "l = [x*x for x in range(10)]  # 放在中括号里是列表生成器\n",
    "g = (x*x for x in range(10))  # 放在小括号里是生成器\n",
    "\n",
    "print(type(l))\n",
    "print(type(g))"
   ]
  },
  {
   "cell_type": "code",
   "execution_count": 14,
   "metadata": {},
   "outputs": [
    {
     "name": "stdout",
     "output_type": "stream",
     "text": [
      "step 1\n",
      "1\n",
      "step 2\n",
      "2\n",
      "step 3\n",
      "3\n"
     ]
    }
   ],
   "source": [
    "# 函数案例\n",
    "# 在函数odd中， yield 负责返回\n",
    "def odd():\n",
    "    print('step 1')\n",
    "    yield 1\n",
    "    print('step 2')\n",
    "    yield 2\n",
    "    print('step 3')\n",
    "    yield 3\n",
    "    \n",
    "# odd() 是调用生成器\n",
    "g = odd()\n",
    "one = next(g)\n",
    "print(one)\n",
    "\n",
    "two = next(g)\n",
    "print(two)\n",
    "\n",
    "three = next(g)\n",
    "print(three)"
   ]
  },
  {
   "cell_type": "code",
   "execution_count": 12,
   "metadata": {},
   "outputs": [
    {
     "name": "stdout",
     "output_type": "stream",
     "text": [
      "1\n",
      "1\n",
      "2\n",
      "3\n",
      "5\n"
     ]
    },
    {
     "data": {
      "text/plain": [
       "'done'"
      ]
     },
     "execution_count": 12,
     "metadata": {},
     "output_type": "execute_result"
    }
   ],
   "source": [
    "# for 循环调用生成器\n",
    "def fib(max):\n",
    "    n, a, b = 0, 0, 1\n",
    "    while n < max:\n",
    "        \n",
    "        print(b)\n",
    "        a,b = b, a+b\n",
    "        n += 1\n",
    "    return 'done'  \n",
    "\n",
    "fib(5)"
   ]
  },
  {
   "cell_type": "code",
   "execution_count": 18,
   "metadata": {},
   "outputs": [
    {
     "name": "stdout",
     "output_type": "stream",
     "text": [
      "1\n",
      "done\n",
      "1\n",
      "done\n",
      "2\n",
      "done\n",
      "3\n",
      "done\n",
      "5\n",
      "done\n"
     ]
    }
   ],
   "source": [
    "def fib(max):\n",
    "    n, a, b = 0, 0, 1\n",
    "    while n < max:\n",
    "        \n",
    "        print(b)\n",
    "        a,b = b, a+b\n",
    "        n += 1\n",
    "        yield 'done'\n",
    "    return 'done'  \n",
    "\n",
    "g = fib(5)\n",
    "for i in g:  #  在for 循环里使用生成器\n",
    "    print(i)"
   ]
  },
  {
   "cell_type": "markdown",
   "metadata": {},
   "source": [
    "# 协程\n",
    "  - 3.4引用协程， 用yield实现\n",
    "  - 3.5引用协程语法\n",
    "  - 实现协程比较好的包有， asyncio, tornado, gevent\n",
    " - 从技术角度，协程就是一个可以暂停执行的函数， 或者干脆把协程理解成一个生成器\n",
    " - 协程的实现\n",
    "     - yield 返回\n",
    "     - send 调用"
   ]
  },
  {
   "cell_type": "code",
   "execution_count": 19,
   "metadata": {},
   "outputs": [
    {
     "name": "stdout",
     "output_type": "stream",
     "text": [
      "1111\n",
      "start\n",
      "2222\n",
      "recived xiaojiayu\n"
     ]
    },
    {
     "ename": "StopIteration",
     "evalue": "",
     "output_type": "error",
     "traceback": [
      "\u001b[1;31m---------------------------------------------------------------------------\u001b[0m",
      "\u001b[1;31mStopIteration\u001b[0m                             Traceback (most recent call last)",
      "\u001b[1;32m<ipython-input-19-b3e76c22164e>\u001b[0m in \u001b[0;36m<module>\u001b[1;34m\u001b[0m\n\u001b[0;32m     10\u001b[0m \u001b[1;33m\u001b[0m\u001b[0m\n\u001b[0;32m     11\u001b[0m \u001b[0mprint\u001b[0m\u001b[1;33m(\u001b[0m\u001b[1;36m2222\u001b[0m\u001b[1;33m)\u001b[0m\u001b[1;33m\u001b[0m\u001b[1;33m\u001b[0m\u001b[0m\n\u001b[1;32m---> 12\u001b[1;33m \u001b[0msc\u001b[0m\u001b[1;33m.\u001b[0m\u001b[0msend\u001b[0m\u001b[1;33m(\u001b[0m\u001b[1;34m'xiaojiayu'\u001b[0m\u001b[1;33m)\u001b[0m\u001b[1;33m\u001b[0m\u001b[1;33m\u001b[0m\u001b[0m\n\u001b[0m",
      "\u001b[1;31mStopIteration\u001b[0m: "
     ]
    }
   ],
   "source": [
    "# 协程代码案例\n",
    "def simple_coroutine():\n",
    "    print('start')\n",
    "    x = yield\n",
    "    print('recived', x)\n",
    "    \n",
    "sc = simple_coroutine()\n",
    "print(1111)\n",
    "next(sc)\n",
    "\n",
    "print(2222)\n",
    "sc.send('xiaojiayu')"
   ]
  },
  {
   "cell_type": "code",
   "execution_count": 20,
   "metadata": {},
   "outputs": [
    {
     "name": "stdout",
     "output_type": "stream",
     "text": [
      "start\n",
      "5\n",
      "recived 5 7\n",
      "12\n",
      "recived 5 7 9\n"
     ]
    },
    {
     "ename": "StopIteration",
     "evalue": "",
     "output_type": "error",
     "traceback": [
      "\u001b[1;31m---------------------------------------------------------------------------\u001b[0m",
      "\u001b[1;31mStopIteration\u001b[0m                             Traceback (most recent call last)",
      "\u001b[1;32m<ipython-input-20-72efba0f81d3>\u001b[0m in \u001b[0;36m<module>\u001b[1;34m\u001b[0m\n\u001b[0;32m     16\u001b[0m \u001b[0mprint\u001b[0m\u001b[1;33m(\u001b[0m\u001b[0mbb\u001b[0m\u001b[1;33m)\u001b[0m\u001b[1;33m\u001b[0m\u001b[1;33m\u001b[0m\u001b[0m\n\u001b[0;32m     17\u001b[0m \u001b[1;33m\u001b[0m\u001b[0m\n\u001b[1;32m---> 18\u001b[1;33m \u001b[0mcc\u001b[0m \u001b[1;33m=\u001b[0m \u001b[0msc\u001b[0m\u001b[1;33m.\u001b[0m\u001b[0msend\u001b[0m\u001b[1;33m(\u001b[0m\u001b[1;36m9\u001b[0m\u001b[1;33m)\u001b[0m\u001b[1;33m\u001b[0m\u001b[1;33m\u001b[0m\u001b[0m\n\u001b[0m\u001b[0;32m     19\u001b[0m \u001b[0mprint\u001b[0m\u001b[1;33m(\u001b[0m\u001b[0mcc\u001b[0m\u001b[1;33m)\u001b[0m\u001b[1;33m\u001b[0m\u001b[1;33m\u001b[0m\u001b[0m\n",
      "\u001b[1;31mStopIteration\u001b[0m: "
     ]
    }
   ],
   "source": [
    "# 案例2 协程的状态\n",
    "def simple_coroutine(a):\n",
    "    print('start')\n",
    "    \n",
    "    b = yield a\n",
    "    print('recived', a, b)\n",
    "    \n",
    "    c = yield a+b\n",
    "    print('recived', a, b, c)\n",
    "    \n",
    "sc = simple_coroutine(5)\n",
    "aa = next(sc)\n",
    "print(aa)\n",
    "\n",
    "bb = sc.send(7)\n",
    "print(bb)\n",
    "\n",
    "cc = sc.send(9)\n",
    "print(cc)"
   ]
  },
  {
   "cell_type": "code",
   "execution_count": 24,
   "metadata": {},
   "outputs": [
    {
     "name": "stdout",
     "output_type": "stream",
     "text": [
      "['A', 'B']\n",
      "['A', 'B']\n"
     ]
    }
   ],
   "source": [
    "#案例3\n",
    "def gen():\n",
    "    for c in 'AB':\n",
    "        yield c\n",
    "\n",
    "# list 直接用生成器作为参数        \n",
    "print(list(gen()))\n",
    "\n",
    "def gen_new():\n",
    "    yield from 'AB'\n",
    "    \n",
    "print(list(gen_new()))"
   ]
  },
  {
   "cell_type": "code",
   "execution_count": null,
   "metadata": {},
   "outputs": [],
   "source": [
    "# 委派生成器\n",
    "    - 包含yield from 表达式的生成器函数\n",
    "    - 委派生成器在yield from 表达式 "
   ]
  },
  {
   "cell_type": "code",
   "execution_count": null,
   "metadata": {},
   "outputs": [],
   "source": []
  },
  {
   "cell_type": "code",
   "execution_count": null,
   "metadata": {},
   "outputs": [],
   "source": []
  }
 ],
 "metadata": {
  "kernelspec": {
   "display_name": "Python 3",
   "language": "python",
   "name": "python3"
  },
  "language_info": {
   "codemirror_mode": {
    "name": "ipython",
    "version": 3
   },
   "file_extension": ".py",
   "mimetype": "text/x-python",
   "name": "python",
   "nbconvert_exporter": "python",
   "pygments_lexer": "ipython3",
   "version": "3.7.1"
  }
 },
 "nbformat": 4,
 "nbformat_minor": 2
}
